{
 "cells": [
  {
   "cell_type": "markdown",
   "metadata": {
    "application/vnd.databricks.v1+cell": {
     "cellMetadata": {
      "byteLimit": 2048000,
      "rowLimit": 10000
     },
     "inputWidgets": {},
     "nuid": "2ce7ff26-1bd0-469b-90eb-08cb44e470de",
     "showTitle": false,
     "title": ""
    }
   },
   "source": [
    "## Reading table paths\n"
   ]
  },
  {
   "cell_type": "code",
   "execution_count": 0,
   "metadata": {
    "application/vnd.databricks.v1+cell": {
     "cellMetadata": {
      "byteLimit": 2048000,
      "rowLimit": 10000
     },
     "inputWidgets": {},
     "nuid": "db8cea26-350a-48dd-8379-e867076955c3",
     "showTitle": false,
     "title": ""
    }
   },
   "outputs": [],
   "source": [
    "file_paths = dbutils.fs.ls('mnt/bronze/dbo/')"
   ]
  },
  {
   "cell_type": "code",
   "execution_count": 0,
   "metadata": {
    "application/vnd.databricks.v1+cell": {
     "cellMetadata": {
      "byteLimit": 2048000,
      "rowLimit": 10000
     },
     "inputWidgets": {},
     "nuid": "4eeb9fca-7e94-4013-9ea5-718dd0786fac",
     "showTitle": false,
     "title": ""
    }
   },
   "outputs": [],
   "source": [
    "def read_all_paths(file_paths):\n",
    "    tablepaths = {}\n",
    "    dataframes={}\n",
    "    for file in file_paths:\n",
    "        table_name = file.name.rstrip('/')\n",
    "        print(table_name)\n",
    "        path = '/mnt/bronze/dbo/' + table_name +'/' +table_name + '.parquet'\n",
    "        tablepaths[table_name] = path\n",
    "        dataframes[table_name] = spark.read.format('parquet').load(path)  \n",
    "    return tablepaths,dataframes"
   ]
  },
  {
   "cell_type": "markdown",
   "metadata": {
    "application/vnd.databricks.v1+cell": {
     "cellMetadata": {
      "byteLimit": 2048000,
      "rowLimit": 10000
     },
     "inputWidgets": {},
     "nuid": "a3f06b6a-9a22-4c94-88f8-dd0e694e9d46",
     "showTitle": false,
     "title": ""
    }
   },
   "source": [
    "## creating dictionary of dataframes using table paths"
   ]
  },
  {
   "cell_type": "code",
   "execution_count": 0,
   "metadata": {
    "application/vnd.databricks.v1+cell": {
     "cellMetadata": {
      "byteLimit": 2048000,
      "rowLimit": 10000
     },
     "inputWidgets": {},
     "nuid": "bfd83a47-3318-455e-8fbe-ca7bb09f68e9",
     "showTitle": false,
     "title": ""
    }
   },
   "outputs": [
    {
     "output_type": "stream",
     "name": "stdout",
     "output_type": "stream",
     "text": [
      "circuits\nconstructor_results\nconstructor_standings\nconstructors\ndriver_standings\ndrivers\nlap_times\npit_stops\nqualifying\nraces\nresults\nseasons\nsprint_results\nstatus\n"
     ]
    }
   ],
   "source": [
    "table_paths,dataframes_dict = read_all_paths(file_paths)"
   ]
  },
  {
   "cell_type": "code",
   "execution_count": 0,
   "metadata": {
    "application/vnd.databricks.v1+cell": {
     "cellMetadata": {
      "byteLimit": 2048000,
      "rowLimit": 10000
     },
     "inputWidgets": {},
     "nuid": "c0f2c56b-fae7-4551-a084-546bfd44cd93",
     "showTitle": false,
     "title": ""
    }
   },
   "outputs": [],
   "source": [
    "from pyspark.sql.functions import col\n",
    "\n",
    "result_list = []\n",
    "for name, df in dataframes_dict.items():\n",
    "    for column in df.columns:\n",
    "        count = df.filter(col(column) == '\\\\N').count()\n",
    "        if count > 0:\n",
    "            result_list.append((name, column, count))\n",
    "\n",
    "# Sort the result list by DataFrame name and then by column name\n",
    "result_list.sort(key=lambda x: (x[0], x[1]))"
   ]
  },
  {
   "cell_type": "code",
   "execution_count": 0,
   "metadata": {
    "application/vnd.databricks.v1+cell": {
     "cellMetadata": {
      "byteLimit": 2048000,
      "rowLimit": 10000
     },
     "inputWidgets": {},
     "nuid": "d35e7fe8-a49c-403e-a5bf-e437a612d31e",
     "showTitle": false,
     "title": ""
    }
   },
   "outputs": [
    {
     "output_type": "stream",
     "name": "stdout",
     "output_type": "stream",
     "text": [
      "[('constructor_results', 'status', 12478), ('drivers', 'code', 757), ('drivers', 'number', 802), ('qualifying', 'q1', 154), ('qualifying', 'q2', 4567), ('qualifying', 'q3', 6703), ('races', 'fp1_date', 1035), ('races', 'fp1_time', 1057), ('races', 'fp2_date', 1035), ('races', 'fp2_time', 1057), ('races', 'fp3_date', 1053), ('races', 'fp3_time', 1072), ('races', 'quali_date', 1035), ('races', 'quali_time', 1057), ('races', 'sprint_date', 1107), ('races', 'sprint_time', 1110), ('races', 'time', 731), ('results', 'fastestLapTime', 18498), ('results', 'time', 18978), ('sprint_results', 'fastestLapTime', 9), ('sprint_results', 'time', 19)]\n"
     ]
    }
   ],
   "source": [
    "print(result_list)"
   ]
  },
  {
   "cell_type": "markdown",
   "metadata": {
    "application/vnd.databricks.v1+cell": {
     "cellMetadata": {
      "byteLimit": 2048000,
      "rowLimit": 10000
     },
     "inputWidgets": {},
     "nuid": "bafbd3f9-67f7-43e4-b56b-38ee3d29100c",
     "showTitle": false,
     "title": ""
    }
   },
   "source": [
    "## Function to check if there any null values in the dataframe"
   ]
  },
  {
   "cell_type": "code",
   "execution_count": 0,
   "metadata": {
    "application/vnd.databricks.v1+cell": {
     "cellMetadata": {
      "byteLimit": 2048000,
      "rowLimit": 10000
     },
     "inputWidgets": {},
     "nuid": "409c1fac-0d75-40b6-8d44-6a8425201eb8",
     "showTitle": false,
     "title": ""
    }
   },
   "outputs": [],
   "source": [
    "from pyspark.sql import functions as F\n",
    "\n",
    "\n",
    "def check_null_columns(table_df):\n",
    "  null_cols = [col for col in table_df.columns if table_df.filter((F.col(col) == \"\\\\N\")|F.col(col).isNull()).count() > 0]\n",
    "  return null_cols\n",
    "\n",
    "\n"
   ]
  },
  {
   "cell_type": "markdown",
   "metadata": {
    "application/vnd.databricks.v1+cell": {
     "cellMetadata": {
      "byteLimit": 2048000,
      "rowLimit": 10000
     },
     "inputWidgets": {},
     "nuid": "2e1231a9-eee0-4371-abcf-26560662bb31",
     "showTitle": false,
     "title": ""
    }
   },
   "source": [
    "## Transformations for Circuits table"
   ]
  },
  {
   "cell_type": "code",
   "execution_count": 0,
   "metadata": {
    "application/vnd.databricks.v1+cell": {
     "cellMetadata": {
      "byteLimit": 2048000,
      "rowLimit": 10000
     },
     "inputWidgets": {},
     "nuid": "483d73eb-f5e7-4e3b-8351-29b31169907f",
     "showTitle": false,
     "title": ""
    }
   },
   "outputs": [],
   "source": [
    "null_dataframe_columns = check_null_columns(dataframes_dict['circuits'])"
   ]
  },
  {
   "cell_type": "code",
   "execution_count": 0,
   "metadata": {
    "application/vnd.databricks.v1+cell": {
     "cellMetadata": {
      "byteLimit": 2048000,
      "rowLimit": 10000
     },
     "inputWidgets": {},
     "nuid": "b7e92c25-eef9-494d-a8d1-b484405c6a0b",
     "showTitle": false,
     "title": ""
    }
   },
   "outputs": [
    {
     "output_type": "execute_result",
     "data": {
      "text/plain": [
       "[]"
      ]
     },
     "execution_count": 8,
     "metadata": {},
     "output_type": "execute_result"
    }
   ],
   "source": [
    "null_dataframe_columns"
   ]
  },
  {
   "cell_type": "code",
   "execution_count": 0,
   "metadata": {
    "application/vnd.databricks.v1+cell": {
     "cellMetadata": {
      "byteLimit": 2048000,
      "rowLimit": 10000
     },
     "inputWidgets": {},
     "nuid": "c1debb31-5db1-4b2e-a958-61afe3410138",
     "showTitle": false,
     "title": ""
    }
   },
   "outputs": [],
   "source": [
    "from pyspark.sql.functions import upper, coalesce, lit,col\n",
    "circuits_df = dataframes_dict['circuits']\n",
    "circuits_df = circuits_df \\\n",
    "    .withColumn(\"name\", upper(col(\"name\"))) \\\n",
    "    .withColumn(\"location\", upper(col(\"location\"))) \\\n",
    "    .withColumn(\"country\", upper(col(\"country\"))) \\\n",
    "    .withColumn(\"alt\", coalesce(col(\"alt\"), lit(0)))  # Replace nulls with 0\n"
   ]
  },
  {
   "cell_type": "code",
   "execution_count": 0,
   "metadata": {
    "application/vnd.databricks.v1+cell": {
     "cellMetadata": {
      "byteLimit": 2048000,
      "rowLimit": 10000
     },
     "inputWidgets": {},
     "nuid": "f2fafe1f-3de5-430c-8520-c9b4c041a9f4",
     "showTitle": false,
     "title": ""
    }
   },
   "outputs": [
    {
     "output_type": "stream",
     "name": "stdout",
     "output_type": "stream",
     "text": [
      "+---------+--------------+--------------------+--------------------+-------------+-------------------+-------------------+----+--------------------+\n|circuitId|    circuitRef|                name|            location|      country|                lat|                lng| alt|                 url|\n+---------+--------------+--------------------+--------------------+-------------+-------------------+-------------------+----+--------------------+\n|        1|   albert_park|ALBERT PARK GRAND...|           MELBOURNE|    AUSTRALIA|-37.849700927734375| 144.96800231933594|  10|http://en.wikiped...|\n|        2|        sepang|SEPANG INTERNATIO...|        KUALA LUMPUR|     MALAYSIA| 2.7608299255371094| 101.73799896240234|  18|http://en.wikiped...|\n|        3|       bahrain|BAHRAIN INTERNATI...|              SAKHIR|      BAHRAIN| 26.032499313354492|  50.51060104370117|   7|http://en.wikiped...|\n|        4|     catalunya|CIRCUIT DE BARCEL...|            MONTMELÓ|        SPAIN|  41.56999969482422| 2.2611100673675537| 109|http://en.wikiped...|\n|        5|      istanbul|       ISTANBUL PARK|            ISTANBUL|       TURKEY| 40.951698303222656| 29.405000686645508| 130|http://en.wikiped...|\n|        6|        monaco|   CIRCUIT DE MONACO|         MONTE-CARLO|       MONACO|  43.73469924926758|  7.420559883117676|   7|http://en.wikiped...|\n|        7|    villeneuve|CIRCUIT GILLES VI...|            MONTREAL|       CANADA|               45.5| -73.52279663085938|  13|http://en.wikiped...|\n|        8|   magny_cours|CIRCUIT DE NEVERS...|         MAGNY COURS|       FRANCE| 46.864200592041016| 3.1636099815368652| 228|http://en.wikiped...|\n|        9|   silverstone| SILVERSTONE CIRCUIT|         SILVERSTONE|           UK|   52.0786018371582|-1.0169399976730347| 153|http://en.wikiped...|\n|       10|hockenheimring|      HOCKENHEIMRING|          HOCKENHEIM|      GERMANY|  49.32780075073242|   8.56583023071289| 103|http://en.wikiped...|\n|       11|   hungaroring|         HUNGARORING|            BUDAPEST|      HUNGARY|  47.57889938354492| 19.248600006103516| 264|http://en.wikiped...|\n|       12|      valencia|VALENCIA STREET C...|            VALENCIA|        SPAIN| 39.458900451660156|-0.3316670060157776|   4|http://en.wikiped...|\n|       13|           spa|CIRCUIT DE SPA-FR...|                 SPA|      BELGIUM| 50.437198638916016| 5.9713897705078125| 401|http://en.wikiped...|\n|       14|         monza|AUTODROMO NAZIONA...|               MONZA|        ITALY|   45.6156005859375|  9.281109809875488| 162|http://en.wikiped...|\n|       15|    marina_bay|MARINA BAY STREET...|          MARINA BAY|    SINGAPORE| 1.2913999557495117| 103.86399841308594|  18|http://en.wikiped...|\n|       16|          fuji|       FUJI SPEEDWAY|               OYAMA|        JAPAN| 35.371700286865234|   138.927001953125| 583|http://en.wikiped...|\n|       17|      shanghai|SHANGHAI INTERNAT...|            SHANGHAI|        CHINA| 31.338899612426758| 121.22000122070312|   5|http://en.wikiped...|\n|       18|    interlagos|AUTÓDROMO JOSÉ CA...|           SÃO PAULO|       BRAZIL| -23.70359992980957| -46.69969940185547| 785|http://en.wikiped...|\n|       19|  indianapolis|INDIANAPOLIS MOTO...|        INDIANAPOLIS|          USA|  39.79499816894531| -86.23470306396484| 223|http://en.wikiped...|\n|       20|   nurburgring|         NÜRBURGRING|             NÜRBURG|      GERMANY| 50.335601806640625|  6.947500228881836| 578|http://en.wikiped...|\n|       21|         imola|AUTODROMO ENZO E ...|               IMOLA|        ITALY|  44.34389877319336| 11.716699600219727|  37|http://en.wikiped...|\n|       22|        suzuka|      SUZUKA CIRCUIT|              SUZUKA|        JAPAN| 34.843101501464844| 136.54100036621094|  45|http://en.wikiped...|\n|       24|    yas_marina|  YAS MARINA CIRCUIT|           ABU DHABI|          UAE| 24.467199325561523|  54.60309982299805|   3|http://en.wikiped...|\n|       25|        galvez|AUTÓDROMO JUAN Y ...|        BUENOS AIRES|    ARGENTINA| -34.69430160522461| -58.45930099487305|   8|http://en.wikiped...|\n|       26|         jerez|   CIRCUITO DE JEREZ|JEREZ DE LA FRONTERA|        SPAIN|  36.70830154418945| -6.034170150756836|  37|http://en.wikiped...|\n|       27|       estoril|AUTÓDROMO DO ESTORIL|             ESTORIL|     PORTUGAL|   38.7505989074707| -9.394169807434082| 130|http://en.wikiped...|\n|       28|       okayama|OKAYAMA INTERNATI...|             OKAYAMA|        JAPAN| 34.915000915527344|  134.2209930419922| 266|http://en.wikiped...|\n|       29|      adelaide|ADELAIDE STREET C...|            ADELAIDE|    AUSTRALIA| -34.92720031738281| 138.61700439453125|  58|http://en.wikiped...|\n|       30|       kyalami|             KYALAMI|             MIDRAND| SOUTH AFRICA| -25.98940086364746|  28.07670021057129|1460|http://en.wikiped...|\n|       31|     donington|      DONINGTON PARK|    CASTLE DONINGTON|           UK|  52.83060073852539|-1.3752800226211548|  88|http://en.wikiped...|\n|       32|     rodriguez|AUTÓDROMO HERMANO...|         MEXICO CITY|       MEXICO| 19.404199600219727|  -99.0906982421875|2227|http://en.wikiped...|\n|       33|       phoenix|PHOENIX STREET CI...|             PHOENIX|          USA| 33.447898864746094|-112.07499694824219| 345|http://en.wikiped...|\n|       34|        ricard| CIRCUIT PAUL RICARD|        LE CASTELLET|       FRANCE|   43.2505989074707|  5.791669845581055| 432|http://en.wikiped...|\n|       35|       yeongam|KOREAN INTERNATIO...|      YEONGAM COUNTY|        KOREA| 34.733299255371094| 126.41699981689453|   0|http://en.wikiped...|\n|       36|   jacarepagua|AUTÓDROMO INTERNA...|      RIO DE JANEIRO|       BRAZIL| -22.97559928894043| -43.39500045776367|1126|http://en.wikiped...|\n|       37|       detroit|DETROIT STREET CI...|             DETROIT|          USA|  42.32979965209961| -83.04010009765625| 177|http://en.wikiped...|\n|       38|  brands_hatch|        BRANDS HATCH|                KENT|           UK|  51.35689926147461| 0.2630560100078583| 145|http://en.wikiped...|\n|       39|     zandvoort|CIRCUIT PARK ZAND...|           ZANDVOORT|  NETHERLANDS|  52.38880157470703|  4.540919780731201|   6|http://en.wikiped...|\n|       40|        zolder|              ZOLDER|      HEUSDEN-ZOLDER|      BELGIUM|  50.98939895629883|  5.256939888000488|  36|http://en.wikiped...|\n|       41|         dijon|       DIJON-PRENOIS|               DIJON|       FRANCE|  47.36249923706055|  4.899129867553711| 484|http://en.wikiped...|\n|       42|        dallas|           FAIR PARK|              DALLAS|          USA| 32.777400970458984| -96.75869750976562| 139|http://en.wikiped...|\n|       43|    long_beach|          LONG BEACH|          CALIFORNIA|          USA| 33.765098571777344|-118.18900299072266|  12|http://en.wikiped...|\n|       44|     las_vegas|LAS VEGAS STREET ...|              NEVADA|          USA|   36.1161994934082|-115.17400360107422| 639|http://en.wikiped...|\n|       45|        jarama|              JARAMA|              MADRID|        SPAIN|  40.61709976196289|-3.5855801105499268| 609|http://en.wikiped...|\n|       46|  watkins_glen|        WATKINS GLEN|      NEW YORK STATE|          USA|  42.33689880371094| -76.92720031738281| 485|http://en.wikiped...|\n|       47|    anderstorp|SCANDINAVIAN RACEWAY|          ANDERSTORP|       SWEDEN|  57.26530075073242|  13.60420036315918| 153|http://en.wikiped...|\n|       48|       mosport|MOSPORT INTERNATI...|             ONTARIO|       CANADA| 44.048099517822266| -78.67559814453125| 332|http://en.wikiped...|\n|       49|      montjuic|            MONTJUÏC|           BARCELONA|        SPAIN|  41.36640167236328|  2.151669979095459|  79|http://en.wikiped...|\n|       50|      nivelles|    NIVELLES-BAULERS|            BRUSSELS|      BELGIUM|  50.62110137939453|  4.326940059661865| 139|http://en.wikiped...|\n|       51|       charade|     CHARADE CIRCUIT|    CLERMONT-FERRAND|       FRANCE|  45.74720001220703| 3.0388898849487305| 790|http://en.wikiped...|\n|       52|     tremblant|CIRCUIT MONT-TREM...|              QUEBEC|       CANADA|  46.18769836425781| -74.60990142822266| 214|http://en.wikiped...|\n|       53|       essarts|   ROUEN-LES-ESSARTS|               ROUEN|       FRANCE|  49.33060073852539|  1.004580020904541|  81|http://en.wikiped...|\n|       54|        lemans|             LE MANS|             LE MANS|       FRANCE|  47.95000076293945|0.22423100471496582|  67|http://en.wikiped...|\n|       55|         reims|         REIMS-GUEUX|               REIMS|       FRANCE|  49.25419998168945| 3.9308300018310547|  88|http://en.wikiped...|\n|       56|        george|PRINCE GEORGE CIR...|EASTERN CAPE PROV...| SOUTH AFRICA| -33.04859924316406| 27.873600006103516|  15|http://en.wikiped...|\n|       57|       zeltweg|             ZELTWEG|              STYRIA|      AUSTRIA|  47.20389938354492|  14.74779987335205| 676|http://en.wikiped...|\n|       58|       aintree|             AINTREE|           LIVERPOOL|           UK| 53.476898193359375|-2.9405601024627686|  20|http://en.wikiped...|\n|       59|      boavista|CIRCUITO DA BOAVISTA|              OPORTO|     PORTUGAL| 41.170501708984375| -8.673250198364258|  28|http://en.wikiped...|\n|       60|     riverside|RIVERSIDE INTERNA...|          CALIFORNIA|          USA|   33.9370002746582|-117.27300262451172| 470|http://en.wikiped...|\n|       61|          avus|                AVUS|              BERLIN|      GERMANY|  52.48059844970703| 13.251399993896484|  53|http://en.wikiped...|\n|       62|      monsanto|MONSANTO PARK CIR...|              LISBON|     PORTUGAL|  38.71969985961914| -9.203060150146484| 158|http://en.wikiped...|\n|       63|       sebring|SEBRING INTERNATI...|             FLORIDA|          USA| 27.454700469970703| -81.34829711914062|  18|http://en.wikiped...|\n|       64|      ain-diab|            AIN DIAB|          CASABLANCA|      MOROCCO|   33.5786018371582|            -7.6875|  19|http://en.wikiped...|\n|       65|       pescara|     PESCARA CIRCUIT|             PESCARA|        ITALY| 42.474998474121094| 14.150799751281738| 129|http://en.wikiped...|\n|       66|    bremgarten|  CIRCUIT BREMGARTEN|                BERN|  SWITZERLAND| 46.958900451660156|  7.401939868927002| 551|http://en.wikiped...|\n|       67|     pedralbes|CIRCUIT DE PEDRALBES|           BARCELONA|        SPAIN|  41.39030075073242| 2.1166698932647705|  85|http://en.wikiped...|\n|       68|         buddh|BUDDH INTERNATION...|       UTTAR PRADESH|        INDIA|  28.34869956970215|  77.53309631347656| 194|http://en.wikiped...|\n|       69|      americas|CIRCUIT OF THE AM...|              AUSTIN|          USA|  30.13279914855957| -97.64109802246094| 161|http://en.wikiped...|\n|       70| red_bull_ring|       RED BULL RING|           SPIELBERG|      AUSTRIA|  47.21969985961914| 14.764699935913086| 678|http://en.wikiped...|\n|       71|         sochi|      SOCHI AUTODROM|               SOCHI|       RUSSIA|  43.40570068359375| 39.957801818847656|   2|http://en.wikiped...|\n|       73|          baku|   BAKU CITY CIRCUIT|                BAKU|   AZERBAIJAN| 40.372501373291016|  49.85329818725586|  -7|http://en.wikiped...|\n|       75|      portimao|AUTÓDROMO INTERNA...|            PORTIMÃO|     PORTUGAL|  37.22700119018555| -8.626700401306152| 108|http://en.wikiped...|\n|       76|       mugello|AUTODROMO INTERNA...|             MUGELLO|        ITALY| 43.997501373291016| 11.371899604797363| 255|http://en.wikiped...|\n|       77|        jeddah|JEDDAH CORNICHE C...|              JEDDAH| SAUDI ARABIA| 21.631900787353516| 39.104400634765625|  15|http://en.wikiped...|\n|       78|        losail|LOSAIL INTERNATIO...|           AL DAAYEN|        QATAR| 25.489999771118164| 51.454200744628906|  12|http://en.wikiped...|\n|       79|         miami|MIAMI INTERNATION...|               MIAMI|          USA| 25.958099365234375| -80.23889923095703|   0|http://en.wikiped...|\n|       80|         vegas|LAS VEGAS STRIP S...|           LAS VEGAS|UNITED STATES|  36.11470031738281| -115.1729965209961| 642|https://en.wikipe...|\n+---------+--------------+--------------------+--------------------+-------------+-------------------+-------------------+----+--------------------+\n\n"
     ]
    }
   ],
   "source": [
    "circuits_df.show(77)"
   ]
  },
  {
   "cell_type": "markdown",
   "metadata": {
    "application/vnd.databricks.v1+cell": {
     "cellMetadata": {
      "byteLimit": 2048000,
      "rowLimit": 10000
     },
     "inputWidgets": {},
     "nuid": "429eed37-e4f1-4581-b493-0ce070322f36",
     "showTitle": false,
     "title": ""
    }
   },
   "source": [
    "## Transformations for Constructor Results Table "
   ]
  },
  {
   "cell_type": "code",
   "execution_count": 0,
   "metadata": {
    "application/vnd.databricks.v1+cell": {
     "cellMetadata": {
      "byteLimit": 2048000,
      "rowLimit": 10000
     },
     "inputWidgets": {},
     "nuid": "a2c99764-eefe-4ae9-a24a-271ea22de505",
     "showTitle": false,
     "title": ""
    }
   },
   "outputs": [],
   "source": [
    "from pyspark.sql.functions import when\n",
    "\n",
    "constructor_results_df = dataframes_dict['constructor_results']\n",
    "null_dataframe_columns = check_null_columns(constructor_results_df)\n",
    "\n"
   ]
  },
  {
   "cell_type": "code",
   "execution_count": 0,
   "metadata": {
    "application/vnd.databricks.v1+cell": {
     "cellMetadata": {
      "byteLimit": 2048000,
      "rowLimit": 10000
     },
     "inputWidgets": {},
     "nuid": "2ae4db15-ef75-4bef-b474-539530a79e3f",
     "showTitle": false,
     "title": ""
    }
   },
   "outputs": [
    {
     "output_type": "execute_result",
     "data": {
      "text/plain": [
       "['points', 'status']"
      ]
     },
     "execution_count": 12,
     "metadata": {},
     "output_type": "execute_result"
    }
   ],
   "source": [
    "null_dataframe_columns"
   ]
  },
  {
   "cell_type": "code",
   "execution_count": 0,
   "metadata": {
    "application/vnd.databricks.v1+cell": {
     "cellMetadata": {
      "byteLimit": 2048000,
      "rowLimit": 10000
     },
     "inputWidgets": {},
     "nuid": "946373d4-cf63-4e94-a2c8-1fbc610b082f",
     "showTitle": false,
     "title": ""
    }
   },
   "outputs": [],
   "source": [
    "constructor_results_df = constructor_results_df \\\n",
    "    .withColumn(\"status\", when(col(\"status\") == \"\\\\N\", None).otherwise(col(\"status\"))) \\\n",
    "    .withColumn(\"points\",when(col(\"points\") == \"\\\\N\", None).otherwise(col(\"points\").cast(\"integer\")))"
   ]
  },
  {
   "cell_type": "code",
   "execution_count": 0,
   "metadata": {
    "application/vnd.databricks.v1+cell": {
     "cellMetadata": {
      "byteLimit": 2048000,
      "rowLimit": 10000
     },
     "inputWidgets": {},
     "nuid": "3b3e0a07-1ffb-4d2a-a994-fac6490d198b",
     "showTitle": false,
     "title": ""
    }
   },
   "outputs": [],
   "source": [
    "from pyspark.sql.functions import coalesce, lit\n",
    "\n",
    "constructor_results_df = constructor_results_df.withColumn(\"status\", coalesce(col(\"status\"), lit(\"Unknown\")))\n",
    "constructor_results_df = constructor_results_df.withColumn(\"points\", coalesce(col(\"points\"), lit(0)))\n"
   ]
  },
  {
   "cell_type": "code",
   "execution_count": 0,
   "metadata": {
    "application/vnd.databricks.v1+cell": {
     "cellMetadata": {
      "byteLimit": 2048000,
      "rowLimit": 10000
     },
     "inputWidgets": {},
     "nuid": "cb17b7f4-be8e-44d3-93f0-1bf075e073dc",
     "showTitle": false,
     "title": ""
    }
   },
   "outputs": [
    {
     "output_type": "stream",
     "name": "stdout",
     "output_type": "stream",
     "text": [
      "[]\n"
     ]
    }
   ],
   "source": [
    "\n",
    "null_dataframe_columns = check_null_columns(constructor_results_df)\n",
    "print(null_dataframe_columns)"
   ]
  },
  {
   "cell_type": "markdown",
   "metadata": {
    "application/vnd.databricks.v1+cell": {
     "cellMetadata": {
      "byteLimit": 2048000,
      "rowLimit": 10000
     },
     "inputWidgets": {},
     "nuid": "d92f7595-d3a7-4787-b2e6-cd38d39ef4d4",
     "showTitle": false,
     "title": ""
    }
   },
   "source": [
    "## Transformations for Constructor Standings Table "
   ]
  },
  {
   "cell_type": "code",
   "execution_count": 0,
   "metadata": {
    "application/vnd.databricks.v1+cell": {
     "cellMetadata": {
      "byteLimit": 2048000,
      "rowLimit": 10000
     },
     "inputWidgets": {},
     "nuid": "3466bb83-e0b1-47cb-868d-b2fe4893278f",
     "showTitle": false,
     "title": ""
    }
   },
   "outputs": [
    {
     "output_type": "stream",
     "name": "stdout",
     "output_type": "stream",
     "text": [
      "['positionText']\n"
     ]
    }
   ],
   "source": [
    "null_dataframe_columns = check_null_columns(dataframes_dict['constructor_standings'])\n",
    "print(null_dataframe_columns)"
   ]
  },
  {
   "cell_type": "code",
   "execution_count": 0,
   "metadata": {
    "application/vnd.databricks.v1+cell": {
     "cellMetadata": {
      "byteLimit": 2048000,
      "rowLimit": 10000
     },
     "inputWidgets": {},
     "nuid": "6ea7266a-39d6-4f71-8557-47cb6d52739f",
     "showTitle": false,
     "title": ""
    }
   },
   "outputs": [],
   "source": [
    "from pyspark.sql.functions import coalesce\n",
    "constructor_standings_df = dataframes_dict['constructor_standings']\n",
    "\n",
    "\n",
    "constructor_standings_df = constructor_standings_df \\\n",
    "    .withColumn(\"positionText\", coalesce(col(\"positionText\"), col(\"position\")))\n"
   ]
  },
  {
   "cell_type": "code",
   "execution_count": 0,
   "metadata": {
    "application/vnd.databricks.v1+cell": {
     "cellMetadata": {
      "byteLimit": 2048000,
      "rowLimit": 10000
     },
     "inputWidgets": {},
     "nuid": "329f770d-d6c0-4ca3-98f5-92a121256ad6",
     "showTitle": false,
     "title": ""
    }
   },
   "outputs": [
    {
     "output_type": "stream",
     "name": "stdout",
     "output_type": "stream",
     "text": [
      "[]\n"
     ]
    }
   ],
   "source": [
    "\n",
    "# constructor_results_df = dataframes_dict['constructor_results']\n",
    "null_dataframe_columns = check_null_columns(constructor_standings_df)\n",
    "print(null_dataframe_columns)"
   ]
  },
  {
   "cell_type": "markdown",
   "metadata": {
    "application/vnd.databricks.v1+cell": {
     "cellMetadata": {
      "byteLimit": 2048000,
      "rowLimit": 10000
     },
     "inputWidgets": {},
     "nuid": "3fb4b897-b663-46cf-b963-9071cb57b26f",
     "showTitle": false,
     "title": ""
    }
   },
   "source": [
    "## Transformations for Constructors Table"
   ]
  },
  {
   "cell_type": "code",
   "execution_count": 0,
   "metadata": {
    "application/vnd.databricks.v1+cell": {
     "cellMetadata": {
      "byteLimit": 2048000,
      "rowLimit": 10000
     },
     "inputWidgets": {},
     "nuid": "27fb7f85-00db-49d8-bfb3-a3b01fda9c89",
     "showTitle": false,
     "title": ""
    }
   },
   "outputs": [],
   "source": [
    "constructors_df = dataframes_dict['constructors']\n"
   ]
  },
  {
   "cell_type": "code",
   "execution_count": 0,
   "metadata": {
    "application/vnd.databricks.v1+cell": {
     "cellMetadata": {
      "byteLimit": 2048000,
      "rowLimit": 10000
     },
     "inputWidgets": {},
     "nuid": "2fe2a56e-8894-4056-8e6d-8c13162e91ef",
     "showTitle": false,
     "title": ""
    }
   },
   "outputs": [
    {
     "output_type": "stream",
     "name": "stdout",
     "output_type": "stream",
     "text": [
      "[]\n"
     ]
    }
   ],
   "source": [
    "null_dataframe_columns = check_null_columns(constructors_df)\n",
    "print(null_dataframe_columns)"
   ]
  },
  {
   "cell_type": "code",
   "execution_count": 0,
   "metadata": {
    "application/vnd.databricks.v1+cell": {
     "cellMetadata": {
      "byteLimit": 2048000,
      "rowLimit": 10000
     },
     "inputWidgets": {},
     "nuid": "b8ae5c6b-1775-43ab-a61c-920b6b45484a",
     "showTitle": false,
     "title": ""
    }
   },
   "outputs": [],
   "source": [
    "constructors_df = constructors_df \\\n",
    "    .withColumn(\"name\", upper(col(\"name\"))) \\\n",
    "    .withColumn(\"nationality\", upper(col(\"nationality\")))\n"
   ]
  },
  {
   "cell_type": "markdown",
   "metadata": {
    "application/vnd.databricks.v1+cell": {
     "cellMetadata": {
      "byteLimit": 2048000,
      "rowLimit": 10000
     },
     "inputWidgets": {},
     "nuid": "c6c854de-0eec-4eba-ba0f-485bcb548a3e",
     "showTitle": false,
     "title": ""
    }
   },
   "source": [
    "## Transformations for driver_standings table"
   ]
  },
  {
   "cell_type": "code",
   "execution_count": 0,
   "metadata": {
    "application/vnd.databricks.v1+cell": {
     "cellMetadata": {
      "byteLimit": 2048000,
      "rowLimit": 10000
     },
     "inputWidgets": {},
     "nuid": "826775e6-14b1-4a4f-8528-2d8dcd3cabac",
     "showTitle": false,
     "title": ""
    }
   },
   "outputs": [],
   "source": [
    "driver_standings_df = dataframes_dict['driver_standings']\n"
   ]
  },
  {
   "cell_type": "code",
   "execution_count": 0,
   "metadata": {
    "application/vnd.databricks.v1+cell": {
     "cellMetadata": {
      "byteLimit": 2048000,
      "rowLimit": 10000
     },
     "inputWidgets": {},
     "nuid": "8b808dc8-be18-41da-8bc8-6abb7e1f430e",
     "showTitle": false,
     "title": ""
    }
   },
   "outputs": [
    {
     "output_type": "stream",
     "name": "stdout",
     "output_type": "stream",
     "text": [
      "['positionText']\n"
     ]
    }
   ],
   "source": [
    "null_dataframe_columns = check_null_columns(driver_standings_df)\n",
    "print(null_dataframe_columns)"
   ]
  },
  {
   "cell_type": "code",
   "execution_count": 0,
   "metadata": {
    "application/vnd.databricks.v1+cell": {
     "cellMetadata": {
      "byteLimit": 2048000,
      "rowLimit": 10000
     },
     "inputWidgets": {},
     "nuid": "9b6ea73a-cadd-4f92-94b0-9b9da1e15a0f",
     "showTitle": false,
     "title": ""
    }
   },
   "outputs": [],
   "source": [
    "driver_standings_df = driver_standings_df \\\n",
    "    .withColumn(\"positionText\", coalesce(col(\"positionText\"), col(\"position\")))\n"
   ]
  },
  {
   "cell_type": "markdown",
   "metadata": {
    "application/vnd.databricks.v1+cell": {
     "cellMetadata": {
      "byteLimit": 2048000,
      "rowLimit": 10000
     },
     "inputWidgets": {},
     "nuid": "ee3e0e67-13a7-4524-a133-de4d16c9926a",
     "showTitle": false,
     "title": ""
    }
   },
   "source": [
    "## Transformations for drivers Table"
   ]
  },
  {
   "cell_type": "code",
   "execution_count": 0,
   "metadata": {
    "application/vnd.databricks.v1+cell": {
     "cellMetadata": {
      "byteLimit": 2048000,
      "rowLimit": 10000
     },
     "inputWidgets": {},
     "nuid": "eea4482a-374a-4363-891a-c8ac3693f9af",
     "showTitle": false,
     "title": ""
    }
   },
   "outputs": [],
   "source": [
    "drivers_df = dataframes_dict['drivers']"
   ]
  },
  {
   "cell_type": "code",
   "execution_count": 0,
   "metadata": {
    "application/vnd.databricks.v1+cell": {
     "cellMetadata": {
      "byteLimit": 2048000,
      "rowLimit": 10000
     },
     "inputWidgets": {},
     "nuid": "95ff0db0-c299-49c8-a8cd-fd90d9e28734",
     "showTitle": false,
     "title": ""
    }
   },
   "outputs": [
    {
     "output_type": "stream",
     "name": "stdout",
     "output_type": "stream",
     "text": [
      "['number', 'code']\n"
     ]
    }
   ],
   "source": [
    "null_dataframe_columns = check_null_columns(drivers_df)\n",
    "print(null_dataframe_columns)"
   ]
  },
  {
   "cell_type": "code",
   "execution_count": 0,
   "metadata": {
    "application/vnd.databricks.v1+cell": {
     "cellMetadata": {
      "byteLimit": 2048000,
      "rowLimit": 10000
     },
     "inputWidgets": {},
     "nuid": "d19f1618-155d-4f94-96ab-a169bf50fe05",
     "showTitle": false,
     "title": ""
    }
   },
   "outputs": [],
   "source": [
    "\n",
    "drivers_df = drivers_df.withColumn(\"number\", when((col(\"number\").isNull()) | (col(\"number\") == \"\\\\N\"), lit(\"Unknown\")).otherwise(col(\"number\"))) \\\n",
    "                       .withColumn(\"code\", when((col(\"code\").isNull()) | (col(\"code\") == \"\\\\N\"), lit(\"Unknown\")).otherwise(col(\"code\")))\n"
   ]
  },
  {
   "cell_type": "code",
   "execution_count": 0,
   "metadata": {
    "application/vnd.databricks.v1+cell": {
     "cellMetadata": {
      "byteLimit": 2048000,
      "rowLimit": 10000
     },
     "inputWidgets": {},
     "nuid": "063e59f2-6b6d-49df-805f-68055fa8ed75",
     "showTitle": false,
     "title": ""
    }
   },
   "outputs": [],
   "source": [
    "from pyspark.sql.functions import current_date, months_between, floor , to_date\n",
    "\n",
    "drivers_df = drivers_df \\\n",
    "    .withColumn(\"forename\", upper(col(\"forename\"))) \\\n",
    "    .withColumn(\"surname\", upper(col(\"surname\"))) \\\n",
    "    .withColumn(\"dob\", to_date(col(\"dob\"), \"yyyy-MM-dd\"))\n"
   ]
  },
  {
   "cell_type": "code",
   "execution_count": 0,
   "metadata": {
    "application/vnd.databricks.v1+cell": {
     "cellMetadata": {
      "byteLimit": 2048000,
      "rowLimit": 10000
     },
     "inputWidgets": {},
     "nuid": "441b9f7f-4292-4284-8595-a5302e933f20",
     "showTitle": false,
     "title": ""
    }
   },
   "outputs": [
    {
     "output_type": "stream",
     "name": "stdout",
     "output_type": "stream",
     "text": [
      "+--------+------------------+-------+-------+---------------+-------------+----------+-----------+--------------------+\n|driverId|         driverRef| number|   code|       forename|      surname|       dob|nationality|                 url|\n+--------+------------------+-------+-------+---------------+-------------+----------+-----------+--------------------+\n|       1|          hamilton|     44|    HAM|          LEWIS|     HAMILTON|1985-01-07|    British|http://en.wikiped...|\n|       2|          heidfeld|Unknown|    HEI|           NICK|     HEIDFELD|1977-05-10|     German|http://en.wikiped...|\n|       3|           rosberg|      6|    ROS|           NICO|      ROSBERG|1985-06-27|     German|http://en.wikiped...|\n|       4|            alonso|     14|    ALO|       FERNANDO|       ALONSO|1981-07-29|    Spanish|http://en.wikiped...|\n|       5|        kovalainen|Unknown|    KOV|         HEIKKI|   KOVALAINEN|1981-10-19|    Finnish|http://en.wikiped...|\n|       6|          nakajima|Unknown|    NAK|         KAZUKI|     NAKAJIMA|1985-01-11|   Japanese|http://en.wikiped...|\n|       7|          bourdais|Unknown|    BOU|      SÉBASTIEN|     BOURDAIS|1979-02-28|     French|http://en.wikiped...|\n|       8|         raikkonen|      7|    RAI|           KIMI|    RÄIKKÖNEN|1979-10-17|    Finnish|http://en.wikiped...|\n|       9|            kubica|     88|    KUB|         ROBERT|       KUBICA|1984-12-07|     Polish|http://en.wikiped...|\n|      10|             glock|Unknown|    GLO|           TIMO|        GLOCK|1982-03-18|     German|http://en.wikiped...|\n|      11|              sato|Unknown|    SAT|         TAKUMA|         SATO|1977-01-28|   Japanese|http://en.wikiped...|\n|      12|         piquet_jr|Unknown|    PIQ|         NELSON|   PIQUET JR.|1985-07-25|  Brazilian|http://en.wikiped...|\n|      13|             massa|     19|    MAS|         FELIPE|        MASSA|1981-04-25|  Brazilian|http://en.wikiped...|\n|      14|         coulthard|Unknown|    COU|          DAVID|    COULTHARD|1971-03-27|    British|http://en.wikiped...|\n|      15|            trulli|Unknown|    TRU|          JARNO|       TRULLI|1974-07-13|    Italian|http://en.wikiped...|\n|      16|             sutil|     99|    SUT|         ADRIAN|        SUTIL|1983-01-11|     German|http://en.wikiped...|\n|      17|            webber|Unknown|    WEB|           MARK|       WEBBER|1976-08-27| Australian|http://en.wikiped...|\n|      18|            button|     22|    BUT|         JENSON|       BUTTON|1980-01-19|    British|http://en.wikiped...|\n|      19|          davidson|Unknown|    DAV|        ANTHONY|     DAVIDSON|1979-04-18|    British|http://en.wikiped...|\n|      20|            vettel|      5|    VET|      SEBASTIAN|       VETTEL|1987-07-03|     German|http://en.wikiped...|\n|      21|        fisichella|Unknown|    FIS|      GIANCARLO|   FISICHELLA|1973-01-14|    Italian|http://en.wikiped...|\n|      22|       barrichello|Unknown|    BAR|         RUBENS|  BARRICHELLO|1972-05-23|  Brazilian|http://en.wikiped...|\n|      23|   ralf_schumacher|Unknown|    SCH|           RALF|   SCHUMACHER|1975-06-30|     German|http://en.wikiped...|\n|      24|            liuzzi|Unknown|    LIU|     VITANTONIO|       LIUZZI|1980-08-06|    Italian|http://en.wikiped...|\n|      25|              wurz|Unknown|    WUR|      ALEXANDER|         WURZ|1974-02-15|   Austrian|http://en.wikiped...|\n|      26|             speed|Unknown|    SPE|          SCOTT|        SPEED|1983-01-24|   American|http://en.wikiped...|\n|      27|            albers|Unknown|    ALB|     CHRISTIJAN|       ALBERS|1979-04-16|      Dutch|http://en.wikiped...|\n|      28| markus_winkelhock|Unknown|    WIN|         MARKUS|   WINKELHOCK|1980-06-13|     German|http://en.wikiped...|\n|      29|          yamamoto|Unknown|    YAM|          SAKON|     YAMAMOTO|1982-07-09|   Japanese|http://en.wikiped...|\n|      30|michael_schumacher|Unknown|    MSC|        MICHAEL|   SCHUMACHER|1969-01-03|     German|http://en.wikiped...|\n|      31|           montoya|Unknown|    MON|           JUAN|PABLO MONTOYA|1975-09-20|  Colombian|http://en.wikiped...|\n|      32|             klien|Unknown|    KLI|      CHRISTIAN|        KLIEN|1983-02-07|   Austrian|http://en.wikiped...|\n|      33|          monteiro|Unknown|    TMO|          TIAGO|     MONTEIRO|1976-07-24| Portuguese|http://en.wikiped...|\n|      34|               ide|Unknown|    IDE|           YUJI|          IDE|1975-01-21|   Japanese|http://en.wikiped...|\n|      35|        villeneuve|Unknown|    VIL|        JACQUES|   VILLENEUVE|1971-04-09|   Canadian|http://en.wikiped...|\n|      36|          montagny|Unknown|    FMO|         FRANCK|     MONTAGNY|1978-01-05|     French|http://en.wikiped...|\n|      37|              rosa|Unknown|    DLR|          PEDRO|   DE LA ROSA|1971-02-24|    Spanish|http://en.wikiped...|\n|      38|          doornbos|Unknown|    DOO|         ROBERT|     DOORNBOS|1981-09-23|      Dutch|http://en.wikiped...|\n|      39|       karthikeyan|Unknown|    KAR|         NARAIN|  KARTHIKEYAN|1977-01-14|     Indian|http://en.wikiped...|\n|      40|        friesacher|Unknown|    FRI|        PATRICK|   FRIESACHER|1980-09-26|   Austrian|http://en.wikiped...|\n|      41|             zonta|Unknown|    ZON|        RICARDO|        ZONTA|1976-03-23|  Brazilian|http://en.wikiped...|\n|      42|          pizzonia|Unknown|    PIZ|        ANTÔNIO|     PIZZONIA|1980-09-11|  Brazilian|http://en.wikiped...|\n|      43|             matta|Unknown|Unknown|      CRISTIANO|     DA MATTA|1973-09-19|  Brazilian|http://en.wikiped...|\n|      44|             panis|Unknown|Unknown|        OLIVIER|        PANIS|1966-09-02|     French|http://en.wikiped...|\n|      45|           pantano|Unknown|Unknown|        GIORGIO|      PANTANO|1979-02-04|    Italian|http://en.wikiped...|\n|      46|             bruni|Unknown|Unknown|      GIANMARIA|        BRUNI|1981-05-30|    Italian|http://en.wikiped...|\n|      47|       baumgartner|Unknown|Unknown|          ZSOLT|  BAUMGARTNER|1981-01-01|  Hungarian|http://en.wikiped...|\n|      48|              gene|Unknown|Unknown|           MARC|         GENÉ|1974-03-29|    Spanish|http://en.wikiped...|\n|      49|          frentzen|Unknown|Unknown|   HEINZ-HARALD|     FRENTZEN|1967-05-18|     German|http://en.wikiped...|\n|      50|        verstappen|Unknown|Unknown|            JOS|   VERSTAPPEN|1972-03-04|      Dutch|http://en.wikiped...|\n|      51|            wilson|Unknown|Unknown|         JUSTIN|       WILSON|1978-07-31|    British|http://en.wikiped...|\n|      52|            firman|Unknown|Unknown|          RALPH|       FIRMAN|1975-05-20|      Irish|http://en.wikiped...|\n|      53|             kiesa|Unknown|Unknown|        NICOLAS|        KIESA|1978-03-03|     Danish|http://en.wikiped...|\n|      54|             burti|Unknown|Unknown|        LUCIANO|        BURTI|1975-03-05|  Brazilian|http://en.wikiped...|\n|      55|             alesi|Unknown|Unknown|           JEAN|        ALESI|1964-06-11|     French|http://en.wikiped...|\n|      56|            irvine|Unknown|Unknown|          EDDIE|       IRVINE|1965-11-10|    British|http://en.wikiped...|\n|      57|          hakkinen|Unknown|Unknown|           MIKA|     HÄKKINEN|1968-09-28|    Finnish|http://en.wikiped...|\n|      58|           marques|Unknown|Unknown|          TARSO|      MARQUES|1976-01-19|  Brazilian|http://en.wikiped...|\n|      59|          bernoldi|Unknown|Unknown|        ENRIQUE|     BERNOLDI|1978-10-19|  Brazilian|http://en.wikiped...|\n|      60|         mazzacane|Unknown|Unknown|         GASTÓN|    MAZZACANE|1975-05-08|  Argentine|http://en.wikiped...|\n|      61|              enge|Unknown|Unknown|          TOMÁŠ|         ENGE|1976-09-11|      Czech|http://en.wikiped...|\n|      62|             yoong|Unknown|Unknown|           ALEX|        YOONG|1976-07-20|  Malaysian|http://en.wikiped...|\n|      63|              salo|Unknown|Unknown|           MIKA|         SALO|1966-11-30|    Finnish|http://en.wikiped...|\n|      64|             diniz|Unknown|Unknown|          PEDRO|        DINIZ|1970-05-22|  Brazilian|http://en.wikiped...|\n|      65|           herbert|Unknown|Unknown|         JOHNNY|      HERBERT|1964-06-25|    British|http://en.wikiped...|\n|      66|            mcnish|Unknown|Unknown|          ALLAN|       MCNISH|1969-12-29|    British|http://en.wikiped...|\n|      67|             buemi|Unknown|    BUE|      SÉBASTIEN|        BUEMI|1988-10-31|      Swiss|http://en.wikiped...|\n|      68|            takagi|Unknown|Unknown|     TORANOSUKE|       TAKAGI|1974-02-12|   Japanese|http://en.wikiped...|\n|      69|            badoer|Unknown|    BAD|           LUCA|       BADOER|1971-01-25|    Italian|http://en.wikiped...|\n|      70|           zanardi|Unknown|Unknown|     ALESSANDRO|      ZANARDI|1966-10-23|    Italian|http://en.wikiped...|\n|      71|        damon_hill|Unknown|Unknown|          DAMON|         HILL|1960-09-17|    British|http://en.wikiped...|\n|      72|          sarrazin|Unknown|Unknown|       STÉPHANE|     SARRAZIN|1975-11-02|     French|http://en.wikiped...|\n|      73|            rosset|Unknown|Unknown|        RICARDO|       ROSSET|1968-07-27|  Brazilian|http://en.wikiped...|\n|      74|             tuero|Unknown|Unknown|        ESTEBAN|        TUERO|1978-04-22|  Argentine|http://en.wikiped...|\n|      75|            nakano|Unknown|Unknown|         SHINJI|       NAKANO|1971-04-01|   Japanese|http://en.wikiped...|\n|      76|         magnussen|Unknown|    MAG|            JAN|    MAGNUSSEN|1973-07-04|     Danish|http://en.wikiped...|\n|      77|            berger|Unknown|Unknown|        GERHARD|       BERGER|1959-08-27|   Austrian|http://en.wikiped...|\n|      78|            larini|Unknown|Unknown|         NICOLA|       LARINI|1964-03-19|    Italian|http://en.wikiped...|\n|      79|          katayama|Unknown|Unknown|           UKYO|     KATAYAMA|1963-05-29|   Japanese|http://en.wikiped...|\n|      80|           sospiri|Unknown|Unknown|       VINCENZO|      SOSPIRI|1966-10-07|    Italian|http://en.wikiped...|\n|      81|        morbidelli|Unknown|Unknown|         GIANNI|   MORBIDELLI|1968-01-13|    Italian|http://en.wikiped...|\n|      82|           fontana|Unknown|Unknown|       NORBERTO|      FONTANA|1975-01-20|  Argentine|http://en.wikiped...|\n|      83|              lamy|Unknown|Unknown|          PEDRO|         LAMY|1972-03-20| Portuguese|http://en.wikiped...|\n|      84|           brundle|Unknown|Unknown|         MARTIN|      BRUNDLE|1959-06-01|    British|http://en.wikiped...|\n|      85|        montermini|Unknown|Unknown|         ANDREA|   MONTERMINI|1964-05-30|    Italian|http://en.wikiped...|\n|      86|           lavaggi|Unknown|Unknown|       GIOVANNI|      LAVAGGI|1958-02-18|    Italian|http://en.wikiped...|\n|      87|          blundell|Unknown|Unknown|           MARK|     BLUNDELL|1966-04-08|    British|http://en.wikiped...|\n|      88|            suzuki|Unknown|Unknown|          AGURI|       SUZUKI|1960-09-08|   Japanese|http://en.wikiped...|\n|      89|             inoue|Unknown|Unknown|           TAKI|        INOUE|1963-09-05|   Japanese|http://en.wikiped...|\n|      90|            moreno|Unknown|Unknown|        ROBERTO|       MORENO|1959-02-11|  Brazilian|http://en.wikiped...|\n|      91|        wendlinger|Unknown|Unknown|           KARL|   WENDLINGER|1968-12-20|   Austrian|http://en.wikiped...|\n|      92|            gachot|Unknown|Unknown|       BERTRAND|       GACHOT|1962-12-23|    Belgian|http://en.wikiped...|\n|      93|     schiattarella|Unknown|Unknown|       DOMENICO|SCHIATTARELLA|1967-11-17|    Italian|http://en.wikiped...|\n|      94|           martini|Unknown|Unknown|      PIERLUIGI|      MARTINI|1961-04-23|    Italian|http://en.wikiped...|\n|      95|           mansell|Unknown|Unknown|          NIGEL|      MANSELL|1953-08-08|    British|http://en.wikiped...|\n|      96|          boullion|Unknown|Unknown|JEAN-CHRISTOPHE|     BOULLION|1969-12-27|     French|http://en.wikiped...|\n|      97|             papis|Unknown|Unknown|   MASSIMILIANO|        PAPIS|1969-10-03|    Italian|http://en.wikiped...|\n|      98|          deletraz|Unknown|Unknown|     JEAN-DENIS|     DÉLÉTRAZ|1963-10-01|      Swiss|http://en.wikiped...|\n|      99|          tarquini|Unknown|Unknown|       GABRIELE|     TARQUINI|1962-03-02|    Italian|http://en.wikiped...|\n|     100|             comas|Unknown|Unknown|           ÉRIK|        COMAS|1963-09-28|     French|http://en.wikiped...|\n+--------+------------------+-------+-------+---------------+-------------+----------+-----------+--------------------+\nonly showing top 100 rows\n\n"
     ]
    }
   ],
   "source": [
    "drivers_df.show(100)"
   ]
  },
  {
   "cell_type": "markdown",
   "metadata": {
    "application/vnd.databricks.v1+cell": {
     "cellMetadata": {
      "byteLimit": 2048000,
      "rowLimit": 10000
     },
     "inputWidgets": {},
     "nuid": "2c8ededa-0020-4cbf-b965-3b5a8d5e4383",
     "showTitle": false,
     "title": ""
    }
   },
   "source": [
    "## Transformations for Laptimes Table"
   ]
  },
  {
   "cell_type": "code",
   "execution_count": 0,
   "metadata": {
    "application/vnd.databricks.v1+cell": {
     "cellMetadata": {
      "byteLimit": 2048000,
      "rowLimit": 10000
     },
     "inputWidgets": {},
     "nuid": "0bee6711-9812-408f-83fc-7d32209b342a",
     "showTitle": false,
     "title": ""
    }
   },
   "outputs": [],
   "source": [
    "lap_times_df = dataframes_dict['lap_times']"
   ]
  },
  {
   "cell_type": "code",
   "execution_count": 0,
   "metadata": {
    "application/vnd.databricks.v1+cell": {
     "cellMetadata": {
      "byteLimit": 2048000,
      "rowLimit": 10000
     },
     "inputWidgets": {},
     "nuid": "5e190b9c-49e7-43ca-b3fc-7d56c2c41623",
     "showTitle": false,
     "title": ""
    }
   },
   "outputs": [
    {
     "output_type": "stream",
     "name": "stdout",
     "output_type": "stream",
     "text": [
      "+------+--------+---+--------+--------+------------+\n|raceId|driverId|lap|position|    time|milliseconds|\n+------+--------+---+--------+--------+------------+\n|   841|      20|  1|       1|1:38.109|       98109|\n|   841|      20|  2|       1|1:33.006|       93006|\n|   841|      20|  3|       1|1:32.713|       92713|\n|   841|      20|  4|       1|1:32.803|       92803|\n|   841|      20|  5|       1|1:32.342|       92342|\n|   841|      20|  6|       1|1:32.605|       92605|\n|   841|      20|  7|       1|1:32.502|       92502|\n|   841|      20|  8|       1|1:32.537|       92537|\n|   841|      20|  9|       1|1:33.240|       93240|\n|   841|      20| 10|       1|1:32.572|       92572|\n+------+--------+---+--------+--------+------------+\nonly showing top 10 rows\n\n"
     ]
    }
   ],
   "source": [
    "lap_times_df.show(10)"
   ]
  },
  {
   "cell_type": "code",
   "execution_count": 0,
   "metadata": {
    "application/vnd.databricks.v1+cell": {
     "cellMetadata": {
      "byteLimit": 2048000,
      "rowLimit": 10000
     },
     "inputWidgets": {},
     "nuid": "029d7814-23be-49b8-bc3b-eeb478dbba73",
     "showTitle": false,
     "title": ""
    }
   },
   "outputs": [
    {
     "output_type": "stream",
     "name": "stdout",
     "output_type": "stream",
     "text": [
      "[]\n"
     ]
    }
   ],
   "source": [
    "null_dataframe_columns = check_null_columns(lap_times_df)\n",
    "print(null_dataframe_columns)"
   ]
  },
  {
   "cell_type": "code",
   "execution_count": 0,
   "metadata": {
    "application/vnd.databricks.v1+cell": {
     "cellMetadata": {
      "byteLimit": 2048000,
      "rowLimit": 10000
     },
     "inputWidgets": {},
     "nuid": "42dbf92d-eda6-4a48-8343-e3714fa00684",
     "showTitle": false,
     "title": ""
    }
   },
   "outputs": [
    {
     "output_type": "stream",
     "name": "stdout",
     "output_type": "stream",
     "text": [
      "+------+--------+---+--------+--------+------------+\n|raceId|driverId|lap|position|    time|milliseconds|\n+------+--------+---+--------+--------+------------+\n|   841|      20|  1|       1|1:38.109|       98109|\n|   841|      20|  2|       1|1:33.006|       93006|\n|   841|      20|  3|       1|1:32.713|       92713|\n|   841|      20|  4|       1|1:32.803|       92803|\n|   841|      20|  5|       1|1:32.342|       92342|\n|   841|      20|  6|       1|1:32.605|       92605|\n|   841|      20|  7|       1|1:32.502|       92502|\n|   841|      20|  8|       1|1:32.537|       92537|\n|   841|      20|  9|       1|1:33.240|       93240|\n|   841|      20| 10|       1|1:32.572|       92572|\n|   841|      20| 11|       1|1:32.669|       92669|\n|   841|      20| 12|       1|1:32.902|       92902|\n|   841|      20| 13|       1|1:33.698|       93698|\n|   841|      20| 14|       3|1:52.075|      112075|\n|   841|      20| 15|       4|1:38.385|       98385|\n|   841|      20| 16|       2|1:31.548|       91548|\n|   841|      20| 17|       1|1:30.800|       90800|\n|   841|      20| 18|       1|1:31.810|       91810|\n|   841|      20| 19|       1|1:31.018|       91018|\n|   841|      20| 20|       1|1:31.055|       91055|\n+------+--------+---+--------+--------+------------+\nonly showing top 20 rows\n\n"
     ]
    }
   ],
   "source": [
    "lap_times_df.show()"
   ]
  },
  {
   "cell_type": "code",
   "execution_count": 0,
   "metadata": {
    "application/vnd.databricks.v1+cell": {
     "cellMetadata": {
      "byteLimit": 2048000,
      "rowLimit": 10000
     },
     "inputWidgets": {},
     "nuid": "30ef6b17-52b3-4abb-ac66-aa36fb226bd9",
     "showTitle": false,
     "title": ""
    }
   },
   "outputs": [],
   "source": [
    "from pyspark.sql.functions import unix_timestamp, to_timestamp, regexp_replace\n",
    "\n",
    "lap_times_df = lap_times_df \\\n",
    "    .withColumn(\"time_seconds\", unix_timestamp(to_timestamp(col(\"time\"), \"m:ss.SSS\")))\n"
   ]
  },
  {
   "cell_type": "code",
   "execution_count": 0,
   "metadata": {
    "application/vnd.databricks.v1+cell": {
     "cellMetadata": {
      "byteLimit": 2048000,
      "rowLimit": 10000
     },
     "inputWidgets": {},
     "nuid": "690a78b3-85aa-4abf-ae7b-3e0bf3e00ce7",
     "showTitle": false,
     "title": ""
    }
   },
   "outputs": [
    {
     "output_type": "stream",
     "name": "stdout",
     "output_type": "stream",
     "text": [
      "+------+--------+---+--------+--------+------------+------------+\n|raceId|driverId|lap|position|    time|milliseconds|time_seconds|\n+------+--------+---+--------+--------+------------+------------+\n|   841|      20|  1|       1|1:38.109|       98109|          98|\n|   841|      20|  2|       1|1:33.006|       93006|          93|\n|   841|      20|  3|       1|1:32.713|       92713|          92|\n|   841|      20|  4|       1|1:32.803|       92803|          92|\n|   841|      20|  5|       1|1:32.342|       92342|          92|\n|   841|      20|  6|       1|1:32.605|       92605|          92|\n|   841|      20|  7|       1|1:32.502|       92502|          92|\n|   841|      20|  8|       1|1:32.537|       92537|          92|\n|   841|      20|  9|       1|1:33.240|       93240|          93|\n|   841|      20| 10|       1|1:32.572|       92572|          92|\n+------+--------+---+--------+--------+------------+------------+\nonly showing top 10 rows\n\n"
     ]
    }
   ],
   "source": [
    "lap_times_df.show(10)"
   ]
  },
  {
   "cell_type": "markdown",
   "metadata": {
    "application/vnd.databricks.v1+cell": {
     "cellMetadata": {
      "byteLimit": 2048000,
      "rowLimit": 10000
     },
     "inputWidgets": {},
     "nuid": "f9433b48-23f4-47aa-95dc-4417604319e0",
     "showTitle": false,
     "title": ""
    }
   },
   "source": [
    "## Transformations for pit_stops Table"
   ]
  },
  {
   "cell_type": "code",
   "execution_count": 0,
   "metadata": {
    "application/vnd.databricks.v1+cell": {
     "cellMetadata": {
      "byteLimit": 2048000,
      "rowLimit": 10000
     },
     "inputWidgets": {},
     "nuid": "df56da21-598d-4b43-88b9-19d9eefbdb6a",
     "showTitle": false,
     "title": ""
    }
   },
   "outputs": [],
   "source": [
    "pit_stops_df = dataframes_dict['pit_stops'] "
   ]
  },
  {
   "cell_type": "code",
   "execution_count": 0,
   "metadata": {
    "application/vnd.databricks.v1+cell": {
     "cellMetadata": {
      "byteLimit": 2048000,
      "rowLimit": 10000
     },
     "inputWidgets": {},
     "nuid": "1d28a915-359c-4b12-81db-f7fa2c7a8a7f",
     "showTitle": false,
     "title": ""
    }
   },
   "outputs": [
    {
     "output_type": "stream",
     "name": "stdout",
     "output_type": "stream",
     "text": [
      "['duration']\n"
     ]
    }
   ],
   "source": [
    "null_dataframe_columns = check_null_columns(pit_stops_df)\n",
    "print(null_dataframe_columns)"
   ]
  },
  {
   "cell_type": "code",
   "execution_count": 0,
   "metadata": {
    "application/vnd.databricks.v1+cell": {
     "cellMetadata": {
      "byteLimit": 2048000,
      "rowLimit": 10000
     },
     "inputWidgets": {},
     "nuid": "c5738f79-054e-4e30-879d-5a7698335c8b",
     "showTitle": false,
     "title": ""
    }
   },
   "outputs": [
    {
     "output_type": "stream",
     "name": "stdout",
     "output_type": "stream",
     "text": [
      "+------+--------+----+---+-------------------+--------+------------+\n|raceId|driverId|stop|lap|               time|duration|milliseconds|\n+------+--------+----+---+-------------------+--------+------------+\n|   853|     817|   1|  1|1970-01-01 14:08:50|    NULL|     1004718|\n|   881|     814|   2| 20|1970-01-01 16:41:12|    NULL|      123124|\n|   881|      16|   2| 22|1970-01-01 16:44:43|    NULL|       89401|\n|   881|      18|   3| 35|1970-01-01 17:06:47|    NULL|      104833|\n|   884|      16|   1|  8|1970-01-01 14:15:56|    NULL|       74026|\n|   888|      17|   1|  8|1970-01-01 14:16:48|    NULL|      162042|\n|   893|     154|   3| 33|1970-01-01 21:11:23|    NULL|       73009|\n|   894|      16|   3| 38|1970-01-01 16:16:46|    NULL|       71445|\n|   901|     817|   3| 40|1970-01-01 17:16:28|    NULL|      109329|\n|   903|      13|   1| 10|1970-01-01 15:21:37|    NULL|       78277|\n|   905|      20|   1|  4|1970-01-01 14:10:25|    NULL|       66065|\n|   914|       3|   1|  2|1970-01-01 15:06:10|    NULL|     1136516|\n|   914|       1|   1|  2|1970-01-01 15:06:11|    NULL|     1137295|\n|   914|     822|   1|  2|1970-01-01 15:06:13|    NULL|     1136994|\n|   914|      13|   1|  2|1970-01-01 15:06:15|    NULL|     1136594|\n|   914|       4|   1|  2|1970-01-01 15:06:17|    NULL|     1137051|\n|   914|     817|   1|  2|1970-01-01 15:06:20|    NULL|     1135520|\n|   914|     825|   1|  2|1970-01-01 15:06:21|    NULL|     1135891|\n|   914|      18|   1|  2|1970-01-01 15:06:23|    NULL|     1136054|\n|   914|      20|   1|  2|1970-01-01 15:06:26|    NULL|     1134978|\n+------+--------+----+---+-------------------+--------+------------+\nonly showing top 20 rows\n\n"
     ]
    }
   ],
   "source": [
    "null_col =pit_stops_df.filter((col(\"duration\").isNull())).show()\n"
   ]
  },
  {
   "cell_type": "code",
   "execution_count": 0,
   "metadata": {
    "application/vnd.databricks.v1+cell": {
     "cellMetadata": {
      "byteLimit": 2048000,
      "rowLimit": 10000
     },
     "inputWidgets": {},
     "nuid": "a9325f92-3b4d-4769-acec-4aa0280002d8",
     "showTitle": false,
     "title": ""
    }
   },
   "outputs": [],
   "source": [
    "from pyspark.sql.functions import col, when\n",
    "\n",
    "# fill 'duration' where it is currently null, using the 'milliseconds' column\n",
    "pit_stops_df = pit_stops_df.withColumn(\"duration\",\n",
    "                                     when(col(\"duration\").isNull(),\n",
    "                                          col(\"milliseconds\") / 1000)\n",
    "                                     .otherwise(col(\"duration\")))\n"
   ]
  },
  {
   "cell_type": "markdown",
   "metadata": {
    "application/vnd.databricks.v1+cell": {
     "cellMetadata": {
      "byteLimit": 2048000,
      "rowLimit": 10000
     },
     "inputWidgets": {},
     "nuid": "9d4b3dca-8a15-4a54-8092-700fab414871",
     "showTitle": false,
     "title": ""
    }
   },
   "source": [
    "## Transformation for Qualifying Table \n",
    "\n",
    "##### Null Handling: Replace nulls in 'q1', 'q2', and 'q3' with \"DNP\" (Did Not Participate) to clarify non-participation or disqualifications for visualization purposes.\n",
    "##### Binary Flags: Create flags (q1_recorded, q2_recorded, q3_recorded) to indicate recorded times, aiding in machine learning model accuracy."
   ]
  },
  {
   "cell_type": "code",
   "execution_count": 0,
   "metadata": {
    "application/vnd.databricks.v1+cell": {
     "cellMetadata": {
      "byteLimit": 2048000,
      "rowLimit": 10000
     },
     "inputWidgets": {},
     "nuid": "543f23e9-753f-4841-9bd5-5458b246ef8b",
     "showTitle": false,
     "title": ""
    }
   },
   "outputs": [],
   "source": [
    "qualifying_df = dataframes_dict['qualifying'] "
   ]
  },
  {
   "cell_type": "code",
   "execution_count": 0,
   "metadata": {
    "application/vnd.databricks.v1+cell": {
     "cellMetadata": {
      "byteLimit": 2048000,
      "rowLimit": 10000
     },
     "inputWidgets": {},
     "nuid": "c682e827-7b5d-4dca-833e-d0d0effdc52a",
     "showTitle": false,
     "title": ""
    }
   },
   "outputs": [
    {
     "output_type": "stream",
     "name": "stdout",
     "output_type": "stream",
     "text": [
      "['q1', 'q2', 'q3']\n"
     ]
    }
   ],
   "source": [
    "null_dataframe_columns = check_null_columns(qualifying_df)\n",
    "print(null_dataframe_columns)"
   ]
  },
  {
   "cell_type": "code",
   "execution_count": 0,
   "metadata": {
    "application/vnd.databricks.v1+cell": {
     "cellMetadata": {
      "byteLimit": 2048000,
      "rowLimit": 10000
     },
     "inputWidgets": {},
     "nuid": "0b666a01-1397-4fd8-8846-fa3aacb6300c",
     "showTitle": false,
     "title": ""
    }
   },
   "outputs": [],
   "source": [
    "from pyspark.sql.functions import col, when\n",
    "# Assuming 'qualifying_df' is your DataFrame\n",
    "qualifying_df = qualifying_df \\\n",
    "    .withColumn(\"Q1\", when((col(\"Q1\").isNull()) | (col(\"Q1\") == \"\\\\N\") | (col(\"Q1\") == \"None\"), 0).otherwise(col(\"Q1\"))) \\\n",
    "    .withColumn(\"Q2\", when((col(\"Q2\").isNull()) | (col(\"Q2\") == \"\\\\N\") | (col(\"Q2\") == \"None\"), 0).otherwise(col(\"Q2\"))) \\\n",
    "    .withColumn(\"Q3\", when((col(\"Q3\").isNull()) | (col(\"Q3\") == \"\\\\N\") | (col(\"Q3\") == \"None\"), 0).otherwise(col(\"Q3\")))\n",
    "\n"
   ]
  },
  {
   "cell_type": "code",
   "execution_count": 0,
   "metadata": {
    "application/vnd.databricks.v1+cell": {
     "cellMetadata": {
      "byteLimit": 2048000,
      "rowLimit": 10000
     },
     "inputWidgets": {},
     "nuid": "234271ba-5ba1-4aee-bcf0-86fd68d9e47e",
     "showTitle": false,
     "title": ""
    }
   },
   "outputs": [],
   "source": [
    "null_df = qualifying_df.filter((col(\"driverId\") == 13) & (col(\"raceId\") == 59))\n"
   ]
  },
  {
   "cell_type": "code",
   "execution_count": 0,
   "metadata": {
    "application/vnd.databricks.v1+cell": {
     "cellMetadata": {
      "byteLimit": 2048000,
      "rowLimit": 10000
     },
     "inputWidgets": {},
     "nuid": "2a9f23fa-85ab-429b-9f93-3dd1396e0494",
     "showTitle": false,
     "title": ""
    }
   },
   "outputs": [
    {
     "output_type": "stream",
     "name": "stdout",
     "output_type": "stream",
     "text": [
      "+---------+------+--------+-------------+------+--------+---+---+---+\n|qualifyId|raceId|driverId|constructorId|number|position| Q1| Q2| Q3|\n+---------+------+--------+-------------+------+--------+---+---+---+\n|      895|    59|      13|            6|     6|      21|  0|  0|  0|\n+---------+------+--------+-------------+------+--------+---+---+---+\n\n"
     ]
    }
   ],
   "source": [
    "null_df.show()"
   ]
  },
  {
   "cell_type": "code",
   "execution_count": 0,
   "metadata": {
    "application/vnd.databricks.v1+cell": {
     "cellMetadata": {
      "byteLimit": 2048000,
      "rowLimit": 10000
     },
     "inputWidgets": {},
     "nuid": "fb9ee0bd-a4c7-4a1b-a096-f351af236dc4",
     "showTitle": false,
     "title": ""
    }
   },
   "outputs": [],
   "source": [
    "from pyspark.sql.functions import udf, col\n",
    "from pyspark.sql.types import FloatType\n",
    "\n",
    "def time_to_seconds(time_str):\n",
    "    try:\n",
    "        if time_str in (\"0\", \"\\\\N\", \"None\", None, \"\"):  # Handling expected non-participations and nulls\n",
    "            return 0.0\n",
    "        parts = time_str.split(':')\n",
    "        if len(parts) == 2:\n",
    "            minutes = float(parts[0])\n",
    "            seconds = float(parts[1])\n",
    "            total_seconds = minutes * 60 + seconds\n",
    "            return total_seconds\n",
    "        else:\n",
    "            return 0.0  # Return 0.0 for any unexpected format\n",
    "    except Exception as e:\n",
    "        print(f\"Failed to convert time: {time_str} with error: {str(e)}\")\n",
    "        return 0.0  # Returning 0.0 in case of any error during conversion\n",
    "\n",
    "time_to_seconds_udf = udf(time_to_seconds, FloatType())\n",
    "\n",
    "# Applying the UDF to convert times to seconds\n",
    "qualifying_df = qualifying_df \\\n",
    "    .withColumn(\"Q1_seconds\", time_to_seconds_udf(col(\"Q1\"))) \\\n",
    "    .withColumn(\"Q2_seconds\", time_to_seconds_udf(col(\"Q2\"))) \\\n",
    "    .withColumn(\"Q3_seconds\", time_to_seconds_udf(col(\"Q3\")))\n"
   ]
  },
  {
   "cell_type": "code",
   "execution_count": 0,
   "metadata": {
    "application/vnd.databricks.v1+cell": {
     "cellMetadata": {},
     "inputWidgets": {},
     "nuid": "deed562c-0baf-4f98-a430-c1d5d19e1f52",
     "showTitle": false,
     "title": ""
    }
   },
   "outputs": [],
   "source": []
  },
  {
   "cell_type": "code",
   "execution_count": 0,
   "metadata": {
    "application/vnd.databricks.v1+cell": {
     "cellMetadata": {
      "byteLimit": 2048000,
      "rowLimit": 10000
     },
     "inputWidgets": {},
     "nuid": "e07d4329-fac3-4696-8366-8837376efd8a",
     "showTitle": false,
     "title": ""
    }
   },
   "outputs": [
    {
     "output_type": "stream",
     "name": "stdout",
     "output_type": "stream",
     "text": [
      "+---------+------+--------+-------------+------+--------+--------+--------+--------+----------+----------+----------+\n|qualifyId|raceId|driverId|constructorId|number|position|      Q1|      Q2|      Q3|Q1_seconds|Q2_seconds|Q3_seconds|\n+---------+------+--------+-------------+------+--------+--------+--------+--------+----------+----------+----------+\n|        1|    18|       1|            1|    22|       1|1:26.572|1:25.187|1:26.714|    86.572|    85.187|    86.714|\n|        2|    18|       9|            2|     4|       2|1:26.103|1:25.315|1:26.869|    86.103|    85.315|    86.869|\n|        3|    18|       5|            1|    23|       3|1:25.664|1:25.452|1:27.079|    85.664|    85.452|    87.079|\n|        4|    18|      13|            6|     2|       4|1:25.994|1:25.691|1:27.178|    85.994|    85.691|    87.178|\n|        5|    18|       2|            2|     3|       5|1:25.960|1:25.518|1:27.236|     85.96|    85.518|    87.236|\n|        6|    18|      15|            7|    11|       6|1:26.427|1:26.101|1:28.527|    86.427|    86.101|    88.527|\n|        7|    18|       3|            3|     7|       7|1:26.295|1:26.059|1:28.687|    86.295|    86.059|    88.687|\n|        8|    18|      14|            9|     9|       8|1:26.381|1:26.063|1:29.041|    86.381|    86.063|    89.041|\n|        9|    18|      10|            7|    12|       9|1:26.919|1:26.164|1:29.593|    86.919|    86.164|    89.593|\n|       10|    18|      20|            5|    15|      10|1:26.702|1:25.842|       0|    86.702|    85.842|       0.0|\n|       11|    18|      22|           11|    17|      11|1:26.369|1:26.173|       0|    86.369|    86.173|       0.0|\n|       12|    18|       4|            4|     5|      12|1:26.907|1:26.188|       0|    86.907|    86.188|       0.0|\n|       13|    18|      18|           11|    16|      13|1:26.712|1:26.259|       0|    86.712|    86.259|       0.0|\n|       14|    18|       6|            3|     8|      14|1:26.891|1:26.413|       0|    86.891|    86.413|       0.0|\n|       15|    18|      17|            9|    10|      15|1:26.914|       0|       0|    86.914|       0.0|       0.0|\n|       16|    18|       8|            6|     1|      16|1:26.140|       0|       0|     86.14|       0.0|       0.0|\n|       17|    18|      21|           10|    21|      17|1:27.207|       0|       0|    87.207|       0.0|       0.0|\n|       18|    18|       7|            5|    14|      18|1:27.446|       0|       0|    87.446|       0.0|       0.0|\n|       19|    18|      16|           10|    20|      19|1:27.859|       0|       0|    87.859|       0.0|       0.0|\n|       20|    18|      11|            8|    18|      20|1:28.208|       0|       0|    88.208|       0.0|       0.0|\n|       21|    18|      12|            4|     6|      21|1:28.330|       0|       0|     88.33|       0.0|       0.0|\n|       22|    18|      19|            8|    19|      22|1:29.059|       0|       0|    89.059|       0.0|       0.0|\n|       23|    19|      13|            6|     2|       1|1:35.347|1:34.412|1:35.748|    95.347|    94.412|    95.748|\n|       24|    19|       8|            6|     1|       2|1:35.645|1:34.188|1:36.230|    95.645|    94.188|     96.23|\n|       25|    19|       5|            1|    23|       3|1:35.227|1:34.759|1:36.613|    95.227|    94.759|    96.613|\n|       26|    19|       1|            1|    22|       4|1:35.392|1:34.627|1:36.709|    95.392|    94.627|    96.709|\n|       27|    19|      15|            7|    11|       5|1:35.205|1:34.960|1:36.711|    95.205|     94.96|    96.711|\n|       28|    19|       9|            2|     4|       6|1:35.794|1:34.811|1:36.727|    95.794|    94.811|    96.727|\n|       29|    19|       2|            2|     3|       7|1:35.729|1:34.648|1:36.753|    95.729|    94.648|    96.753|\n|       30|    19|      17|            9|    10|       8|1:35.440|1:34.967|1:37.009|     95.44|    94.967|    97.009|\n|       31|    19|       4|            4|     5|       9|1:35.983|1:35.140|1:38.450|    95.983|     95.14|     98.45|\n|       32|    19|      10|            7|    12|      10|1:35.891|1:35.000|1:39.656|    95.891|      95.0|    99.656|\n|       33|    19|      18|           11|    16|      11|1:35.847|1:35.208|       0|    95.847|    95.208|       0.0|\n|       34|    19|      14|            9|     9|      12|1:36.058|1:35.408|       0|    96.058|    95.408|       0.0|\n|       35|    19|      12|            4|     6|      13|1:36.074|1:35.562|       0|    96.074|    95.562|       0.0|\n|       36|    19|      22|           11|    17|      14|1:36.198|1:35.622|       0|    96.198|    95.622|       0.0|\n|       37|    19|      20|            5|    15|      15|1:36.111|1:35.648|       0|    96.111|    95.648|       0.0|\n|       38|    19|       3|            3|     7|      16|1:35.843|1:35.670|       0|    95.843|     95.67|       0.0|\n|       39|    19|      21|           10|    21|      17|1:36.240|       0|       0|     96.24|       0.0|       0.0|\n|       40|    19|       6|            3|     8|      18|1:36.388|       0|       0|    96.388|       0.0|       0.0|\n|       41|    19|       7|            5|    14|      19|1:36.677|       0|       0|    96.677|       0.0|       0.0|\n|       42|    19|      11|            8|    18|      20|1:37.087|       0|       0|    97.087|       0.0|       0.0|\n|       43|    19|      16|           10|    20|      21|1:37.101|       0|       0|    97.101|       0.0|       0.0|\n|       44|    19|      19|            8|    19|      22|1:37.481|       0|       0|    97.481|       0.0|       0.0|\n|       45|    20|       9|            2|     4|       1|1:32.893|1:31.745|1:33.096|    92.893|    91.745|    93.096|\n|       46|    20|      13|            6|     2|       2|1:31.937|1:31.188|1:33.123|    91.937|    91.188|    93.123|\n|       47|    20|       1|            1|    22|       3|1:32.750|1:31.922|1:33.292|     92.75|    91.922|    93.292|\n|       48|    20|       8|            6|     1|       4|1:32.652|1:31.933|1:33.418|    92.652|    91.933|    93.418|\n|       49|    20|       5|            1|    23|       5|1:33.057|1:31.718|1:33.488|    93.057|    91.718|    93.488|\n|       50|    20|       2|            2|     3|       6|1:33.137|1:31.909|1:33.737|    93.137|    91.909|    93.737|\n|       51|    20|      15|            7|    11|       7|1:32.493|1:32.159|1:33.994|    92.493|    92.159|    93.994|\n|       52|    20|       3|            3|     7|       8|1:32.903|1:32.185|1:34.015|    92.903|    92.185|    94.015|\n|       53|    20|      18|           11|    16|       9|1:32.793|1:32.362|1:35.057|    92.793|    92.362|    95.057|\n|       54|    20|       4|            4|     5|      10|1:32.947|1:32.345|1:35.115|    92.947|    92.345|    95.115|\n|       55|    20|      17|            9|    10|      11|1:33.194|1:32.371|       0|    93.194|    92.371|       0.0|\n|       56|    20|      22|           11|    17|      12|1:32.944|1:32.508|       0|    92.944|    92.508|       0.0|\n|       57|    20|      10|            7|    12|      13|1:32.800|1:32.528|       0|      92.8|    92.528|       0.0|\n|       58|    20|      12|            4|     6|      14|1:32.975|1:32.790|       0|    92.975|     92.79|       0.0|\n|       59|    20|       7|            5|    14|      15|1:33.415|1:32.915|       0|    93.415|    92.915|       0.0|\n|       60|    20|       6|            3|     8|      16|1:33.386|1:32.943|       0|    93.386|    92.943|       0.0|\n|       61|    20|      14|            9|     9|      17|1:33.433|       0|       0|    93.433|       0.0|       0.0|\n|       62|    20|      21|           10|    21|      18|1:33.501|       0|       0|    93.501|       0.0|       0.0|\n|       63|    20|      20|            5|    15|      19|1:33.562|       0|       0|    93.562|       0.0|       0.0|\n|       64|    20|      16|           10|    20|      20|1:33.845|       0|       0|    93.845|       0.0|       0.0|\n|       65|    20|      19|            8|    19|      21|1:34.140|       0|       0|     94.14|       0.0|       0.0|\n|       66|    20|      11|            8|    18|      22|1:35.725|       0|       0|    95.725|       0.0|       0.0|\n|       67|    21|       8|            6|     1|       1|1:20.701|1:20.784|1:21.813|    80.701|    80.784|    81.813|\n|       68|    21|       4|            4|     5|       2|1:21.347|1:20.804|1:21.904|    81.347|    80.804|    81.904|\n|       69|    21|      13|            6|     2|       3|1:21.528|1:20.584|1:22.058|    81.528|    80.584|    82.058|\n|       70|    21|       9|            2|     4|       4|1:21.423|1:20.597|1:22.065|    81.423|    80.597|    82.065|\n|       71|    21|       1|            1|    22|       5|1:21.366|1:20.825|1:22.096|    81.366|    80.825|    82.096|\n|       72|    21|       5|            1|    23|       6|1:21.430|1:20.817|1:22.231|     81.43|    80.817|    82.231|\n|       73|    21|      17|            9|    10|       7|1:21.494|1:20.984|1:22.429|    81.494|    80.984|    82.429|\n|       74|    21|      15|            7|    11|       8|1:21.158|1:20.907|1:22.529|    81.158|    80.907|    82.529|\n|       75|    21|       2|            2|     3|       9|1:21.466|1:20.815|1:22.542|    81.466|    80.815|    82.542|\n|       76|    21|      12|            4|     6|      10|1:21.409|1:20.894|1:22.699|    81.409|    80.894|    82.699|\n|       77|    21|      22|           11|    17|      11|1:21.548|1:21.049|       0|    81.548|    81.049|       0.0|\n|       78|    21|       6|            3|     8|      12|1:21.690|1:21.117|       0|     81.69|    81.117|       0.0|\n|       79|    21|      18|           11|    16|      13|1:21.757|1:21.211|       0|    81.757|    81.211|       0.0|\n|       80|    21|      10|            7|    12|      14|1:21.427|1:21.230|       0|    81.427|     81.23|       0.0|\n|       81|    21|       3|            3|     7|      15|1:21.472|1:21.349|       0|    81.472|    81.349|       0.0|\n|       82|    21|       7|            5|    14|      16|1:21.540|1:21.724|       0|     81.54|    81.724|       0.0|\n|       83|    21|      14|            9|     9|      17|1:21.810|       0|       0|     81.81|       0.0|       0.0|\n|       84|    21|      20|            5|    15|      18|1:22.108|       0|       0|    82.108|       0.0|       0.0|\n|       85|    21|      21|           10|    21|      19|1:22.516|       0|       0|    82.516|       0.0|       0.0|\n|       86|    21|      16|           10|    20|      20|1:23.224|       0|       0|    83.224|       0.0|       0.0|\n|       87|    21|      19|            8|    19|      21|1:23.318|       0|       0|    83.318|       0.0|       0.0|\n|       88|    21|      11|            8|    18|      22|1:23.496|       0|       0|    83.496|       0.0|       0.0|\n|       89|    22|      13|            6|     2|       1|1:25.994|1:26.192|1:27.617|    85.994|    86.192|    87.617|\n|       90|    22|       5|            1|    23|       2|1:26.736|1:26.290|1:27.808|    86.736|     86.29|    87.808|\n|       91|    22|       1|            1|    22|       3|1:26.192|1:26.477|1:27.923|    86.192|    86.477|    87.923|\n|       92|    22|       8|            6|     1|       4|1:26.457|1:26.050|1:27.936|    86.457|     86.05|    87.936|\n|       93|    22|       9|            2|     4|       5|1:26.761|1:26.129|1:28.390|    86.761|    86.129|     88.39|\n|       94|    22|      17|            9|    10|       6|1:26.773|1:26.466|1:28.417|    86.773|    86.466|    88.417|\n|       95|    22|       4|            4|     5|       7|1:26.836|1:26.522|1:28.422|    86.836|    86.522|    88.422|\n|       96|    22|      15|            7|    11|       8|1:26.695|1:26.822|1:28.836|    86.695|    86.822|    88.836|\n|       97|    22|       2|            2|     3|       9|1:27.107|1:27.607|1:28.882|    87.107|    87.607|    88.882|\n|       98|    22|      14|            9|     9|      10|1:26.939|1:26.520|1:29.959|    86.939|     86.52|    89.959|\n|       99|    22|       3|            3|     7|      11|1:27.367|1:27.012|       0|    87.367|    87.012|       0.0|\n|      100|    22|      22|           11|    17|      12|1:27.355|1:27.219|       0|    87.355|    87.219|       0.0|\n+---------+------+--------+-------------+------+--------+--------+--------+--------+----------+----------+----------+\nonly showing top 100 rows\n\n"
     ]
    }
   ],
   "source": [
    "qualifying_df.show(100)"
   ]
  },
  {
   "cell_type": "markdown",
   "metadata": {
    "application/vnd.databricks.v1+cell": {
     "cellMetadata": {},
     "inputWidgets": {},
     "nuid": "0df508cc-b5e2-4f49-b3c8-36a759d5abe2",
     "showTitle": false,
     "title": ""
    }
   },
   "source": [
    "#### Transformations for ML modelling."
   ]
  },
  {
   "cell_type": "code",
   "execution_count": 0,
   "metadata": {
    "application/vnd.databricks.v1+cell": {
     "cellMetadata": {
      "byteLimit": 2048000,
      "rowLimit": 10000
     },
     "inputWidgets": {},
     "nuid": "c4ef2c84-27ff-40d2-afbd-5e1757335680",
     "showTitle": false,
     "title": ""
    }
   },
   "outputs": [],
   "source": [
    "from pyspark.sql.functions import when\n",
    "\n",
    "qualifying_df = qualifying_df.withColumn(\"Q_flag\",\n",
    "    when((col(\"Q1_seconds\") != 0) & (col(\"Q2_seconds\") != 0) & (col(\"Q3_seconds\") != 0), \"All Qualifyings\")\n",
    "    .when((col(\"Q1_seconds\") != 0) & (col(\"Q2_seconds\") != 0) & (col(\"Q3\") == 0), \"Q1 and Q2\")\n",
    "    .when((col(\"Q1_seconds\") != 0) & (col(\"Q2_seconds\") == 0), \"Q1 Only\")\n",
    "    .otherwise(\"Did Not Participate\"))\n"
   ]
  },
  {
   "cell_type": "code",
   "execution_count": 0,
   "metadata": {
    "application/vnd.databricks.v1+cell": {
     "cellMetadata": {
      "byteLimit": 2048000,
      "rowLimit": 10000
     },
     "inputWidgets": {},
     "nuid": "93b481ec-90c1-44cb-9006-7e25022c1ec6",
     "showTitle": false,
     "title": ""
    }
   },
   "outputs": [
    {
     "output_type": "stream",
     "name": "stdout",
     "output_type": "stream",
     "text": [
      "+---------+------+--------+-------------+------+--------+--------+--------+--------+----------+----------+----------+-------------------+\n|qualifyId|raceId|driverId|constructorId|number|position|      Q1|      Q2|      Q3|Q1_seconds|Q2_seconds|Q3_seconds|             Q_flag|\n+---------+------+--------+-------------+------+--------+--------+--------+--------+----------+----------+----------+-------------------+\n|        1|    18|       1|            1|    22|       1|1:26.572|1:25.187|1:26.714|    86.572|    85.187|    86.714|    All Qualifyings|\n|        2|    18|       9|            2|     4|       2|1:26.103|1:25.315|1:26.869|    86.103|    85.315|    86.869|    All Qualifyings|\n|        3|    18|       5|            1|    23|       3|1:25.664|1:25.452|1:27.079|    85.664|    85.452|    87.079|    All Qualifyings|\n|        4|    18|      13|            6|     2|       4|1:25.994|1:25.691|1:27.178|    85.994|    85.691|    87.178|    All Qualifyings|\n|        5|    18|       2|            2|     3|       5|1:25.960|1:25.518|1:27.236|     85.96|    85.518|    87.236|    All Qualifyings|\n|        6|    18|      15|            7|    11|       6|1:26.427|1:26.101|1:28.527|    86.427|    86.101|    88.527|    All Qualifyings|\n|        7|    18|       3|            3|     7|       7|1:26.295|1:26.059|1:28.687|    86.295|    86.059|    88.687|    All Qualifyings|\n|        8|    18|      14|            9|     9|       8|1:26.381|1:26.063|1:29.041|    86.381|    86.063|    89.041|    All Qualifyings|\n|        9|    18|      10|            7|    12|       9|1:26.919|1:26.164|1:29.593|    86.919|    86.164|    89.593|    All Qualifyings|\n|       10|    18|      20|            5|    15|      10|1:26.702|1:25.842|       0|    86.702|    85.842|       0.0|          Q1 and Q2|\n|       11|    18|      22|           11|    17|      11|1:26.369|1:26.173|       0|    86.369|    86.173|       0.0|          Q1 and Q2|\n|       12|    18|       4|            4|     5|      12|1:26.907|1:26.188|       0|    86.907|    86.188|       0.0|          Q1 and Q2|\n|       13|    18|      18|           11|    16|      13|1:26.712|1:26.259|       0|    86.712|    86.259|       0.0|          Q1 and Q2|\n|       14|    18|       6|            3|     8|      14|1:26.891|1:26.413|       0|    86.891|    86.413|       0.0|          Q1 and Q2|\n|       15|    18|      17|            9|    10|      15|1:26.914|       0|       0|    86.914|       0.0|       0.0|            Q1 Only|\n|       16|    18|       8|            6|     1|      16|1:26.140|       0|       0|     86.14|       0.0|       0.0|            Q1 Only|\n|       17|    18|      21|           10|    21|      17|1:27.207|       0|       0|    87.207|       0.0|       0.0|            Q1 Only|\n|       18|    18|       7|            5|    14|      18|1:27.446|       0|       0|    87.446|       0.0|       0.0|            Q1 Only|\n|       19|    18|      16|           10|    20|      19|1:27.859|       0|       0|    87.859|       0.0|       0.0|            Q1 Only|\n|       20|    18|      11|            8|    18|      20|1:28.208|       0|       0|    88.208|       0.0|       0.0|            Q1 Only|\n|       21|    18|      12|            4|     6|      21|1:28.330|       0|       0|     88.33|       0.0|       0.0|            Q1 Only|\n|       22|    18|      19|            8|    19|      22|1:29.059|       0|       0|    89.059|       0.0|       0.0|            Q1 Only|\n|       23|    19|      13|            6|     2|       1|1:35.347|1:34.412|1:35.748|    95.347|    94.412|    95.748|    All Qualifyings|\n|       24|    19|       8|            6|     1|       2|1:35.645|1:34.188|1:36.230|    95.645|    94.188|     96.23|    All Qualifyings|\n|       25|    19|       5|            1|    23|       3|1:35.227|1:34.759|1:36.613|    95.227|    94.759|    96.613|    All Qualifyings|\n|       26|    19|       1|            1|    22|       4|1:35.392|1:34.627|1:36.709|    95.392|    94.627|    96.709|    All Qualifyings|\n|       27|    19|      15|            7|    11|       5|1:35.205|1:34.960|1:36.711|    95.205|     94.96|    96.711|    All Qualifyings|\n|       28|    19|       9|            2|     4|       6|1:35.794|1:34.811|1:36.727|    95.794|    94.811|    96.727|    All Qualifyings|\n|       29|    19|       2|            2|     3|       7|1:35.729|1:34.648|1:36.753|    95.729|    94.648|    96.753|    All Qualifyings|\n|       30|    19|      17|            9|    10|       8|1:35.440|1:34.967|1:37.009|     95.44|    94.967|    97.009|    All Qualifyings|\n|       31|    19|       4|            4|     5|       9|1:35.983|1:35.140|1:38.450|    95.983|     95.14|     98.45|    All Qualifyings|\n|       32|    19|      10|            7|    12|      10|1:35.891|1:35.000|1:39.656|    95.891|      95.0|    99.656|    All Qualifyings|\n|       33|    19|      18|           11|    16|      11|1:35.847|1:35.208|       0|    95.847|    95.208|       0.0|          Q1 and Q2|\n|       34|    19|      14|            9|     9|      12|1:36.058|1:35.408|       0|    96.058|    95.408|       0.0|          Q1 and Q2|\n|       35|    19|      12|            4|     6|      13|1:36.074|1:35.562|       0|    96.074|    95.562|       0.0|          Q1 and Q2|\n|       36|    19|      22|           11|    17|      14|1:36.198|1:35.622|       0|    96.198|    95.622|       0.0|          Q1 and Q2|\n|       37|    19|      20|            5|    15|      15|1:36.111|1:35.648|       0|    96.111|    95.648|       0.0|          Q1 and Q2|\n|       38|    19|       3|            3|     7|      16|1:35.843|1:35.670|       0|    95.843|     95.67|       0.0|          Q1 and Q2|\n|       39|    19|      21|           10|    21|      17|1:36.240|       0|       0|     96.24|       0.0|       0.0|            Q1 Only|\n|       40|    19|       6|            3|     8|      18|1:36.388|       0|       0|    96.388|       0.0|       0.0|            Q1 Only|\n|       41|    19|       7|            5|    14|      19|1:36.677|       0|       0|    96.677|       0.0|       0.0|            Q1 Only|\n|       42|    19|      11|            8|    18|      20|1:37.087|       0|       0|    97.087|       0.0|       0.0|            Q1 Only|\n|       43|    19|      16|           10|    20|      21|1:37.101|       0|       0|    97.101|       0.0|       0.0|            Q1 Only|\n|       44|    19|      19|            8|    19|      22|1:37.481|       0|       0|    97.481|       0.0|       0.0|            Q1 Only|\n|       45|    20|       9|            2|     4|       1|1:32.893|1:31.745|1:33.096|    92.893|    91.745|    93.096|    All Qualifyings|\n|       46|    20|      13|            6|     2|       2|1:31.937|1:31.188|1:33.123|    91.937|    91.188|    93.123|    All Qualifyings|\n|       47|    20|       1|            1|    22|       3|1:32.750|1:31.922|1:33.292|     92.75|    91.922|    93.292|    All Qualifyings|\n|       48|    20|       8|            6|     1|       4|1:32.652|1:31.933|1:33.418|    92.652|    91.933|    93.418|    All Qualifyings|\n|       49|    20|       5|            1|    23|       5|1:33.057|1:31.718|1:33.488|    93.057|    91.718|    93.488|    All Qualifyings|\n|       50|    20|       2|            2|     3|       6|1:33.137|1:31.909|1:33.737|    93.137|    91.909|    93.737|    All Qualifyings|\n|       51|    20|      15|            7|    11|       7|1:32.493|1:32.159|1:33.994|    92.493|    92.159|    93.994|    All Qualifyings|\n|       52|    20|       3|            3|     7|       8|1:32.903|1:32.185|1:34.015|    92.903|    92.185|    94.015|    All Qualifyings|\n|       53|    20|      18|           11|    16|       9|1:32.793|1:32.362|1:35.057|    92.793|    92.362|    95.057|    All Qualifyings|\n|       54|    20|       4|            4|     5|      10|1:32.947|1:32.345|1:35.115|    92.947|    92.345|    95.115|    All Qualifyings|\n|       55|    20|      17|            9|    10|      11|1:33.194|1:32.371|       0|    93.194|    92.371|       0.0|          Q1 and Q2|\n|       56|    20|      22|           11|    17|      12|1:32.944|1:32.508|       0|    92.944|    92.508|       0.0|          Q1 and Q2|\n|       57|    20|      10|            7|    12|      13|1:32.800|1:32.528|       0|      92.8|    92.528|       0.0|          Q1 and Q2|\n|       58|    20|      12|            4|     6|      14|1:32.975|1:32.790|       0|    92.975|     92.79|       0.0|          Q1 and Q2|\n|       59|    20|       7|            5|    14|      15|1:33.415|1:32.915|       0|    93.415|    92.915|       0.0|          Q1 and Q2|\n|       60|    20|       6|            3|     8|      16|1:33.386|1:32.943|       0|    93.386|    92.943|       0.0|          Q1 and Q2|\n|       61|    20|      14|            9|     9|      17|1:33.433|       0|       0|    93.433|       0.0|       0.0|            Q1 Only|\n|       62|    20|      21|           10|    21|      18|1:33.501|       0|       0|    93.501|       0.0|       0.0|            Q1 Only|\n|       63|    20|      20|            5|    15|      19|1:33.562|       0|       0|    93.562|       0.0|       0.0|            Q1 Only|\n|       64|    20|      16|           10|    20|      20|1:33.845|       0|       0|    93.845|       0.0|       0.0|            Q1 Only|\n|       65|    20|      19|            8|    19|      21|1:34.140|       0|       0|     94.14|       0.0|       0.0|            Q1 Only|\n|       66|    20|      11|            8|    18|      22|1:35.725|       0|       0|    95.725|       0.0|       0.0|            Q1 Only|\n|       67|    21|       8|            6|     1|       1|1:20.701|1:20.784|1:21.813|    80.701|    80.784|    81.813|    All Qualifyings|\n|       68|    21|       4|            4|     5|       2|1:21.347|1:20.804|1:21.904|    81.347|    80.804|    81.904|    All Qualifyings|\n|       69|    21|      13|            6|     2|       3|1:21.528|1:20.584|1:22.058|    81.528|    80.584|    82.058|    All Qualifyings|\n|       70|    21|       9|            2|     4|       4|1:21.423|1:20.597|1:22.065|    81.423|    80.597|    82.065|    All Qualifyings|\n|       71|    21|       1|            1|    22|       5|1:21.366|1:20.825|1:22.096|    81.366|    80.825|    82.096|    All Qualifyings|\n|       72|    21|       5|            1|    23|       6|1:21.430|1:20.817|1:22.231|     81.43|    80.817|    82.231|    All Qualifyings|\n|       73|    21|      17|            9|    10|       7|1:21.494|1:20.984|1:22.429|    81.494|    80.984|    82.429|    All Qualifyings|\n|       74|    21|      15|            7|    11|       8|1:21.158|1:20.907|1:22.529|    81.158|    80.907|    82.529|    All Qualifyings|\n|       75|    21|       2|            2|     3|       9|1:21.466|1:20.815|1:22.542|    81.466|    80.815|    82.542|    All Qualifyings|\n|       76|    21|      12|            4|     6|      10|1:21.409|1:20.894|1:22.699|    81.409|    80.894|    82.699|    All Qualifyings|\n|       77|    21|      22|           11|    17|      11|1:21.548|1:21.049|       0|    81.548|    81.049|       0.0|          Q1 and Q2|\n|       78|    21|       6|            3|     8|      12|1:21.690|1:21.117|       0|     81.69|    81.117|       0.0|          Q1 and Q2|\n|       79|    21|      18|           11|    16|      13|1:21.757|1:21.211|       0|    81.757|    81.211|       0.0|          Q1 and Q2|\n|       80|    21|      10|            7|    12|      14|1:21.427|1:21.230|       0|    81.427|     81.23|       0.0|          Q1 and Q2|\n|       81|    21|       3|            3|     7|      15|1:21.472|1:21.349|       0|    81.472|    81.349|       0.0|          Q1 and Q2|\n|       82|    21|       7|            5|    14|      16|1:21.540|1:21.724|       0|     81.54|    81.724|       0.0|          Q1 and Q2|\n|       83|    21|      14|            9|     9|      17|1:21.810|       0|       0|     81.81|       0.0|       0.0|            Q1 Only|\n|       84|    21|      20|            5|    15|      18|1:22.108|       0|       0|    82.108|       0.0|       0.0|            Q1 Only|\n|       85|    21|      21|           10|    21|      19|1:22.516|       0|       0|    82.516|       0.0|       0.0|            Q1 Only|\n|       86|    21|      16|           10|    20|      20|1:23.224|       0|       0|    83.224|       0.0|       0.0|            Q1 Only|\n|       87|    21|      19|            8|    19|      21|1:23.318|       0|       0|    83.318|       0.0|       0.0|            Q1 Only|\n|       88|    21|      11|            8|    18|      22|1:23.496|       0|       0|    83.496|       0.0|       0.0|            Q1 Only|\n|       89|    22|      13|            6|     2|       1|1:25.994|1:26.192|1:27.617|    85.994|    86.192|    87.617|    All Qualifyings|\n|       90|    22|       5|            1|    23|       2|1:26.736|1:26.290|1:27.808|    86.736|     86.29|    87.808|    All Qualifyings|\n|       91|    22|       1|            1|    22|       3|1:26.192|1:26.477|1:27.923|    86.192|    86.477|    87.923|    All Qualifyings|\n|       92|    22|       8|            6|     1|       4|1:26.457|1:26.050|1:27.936|    86.457|     86.05|    87.936|    All Qualifyings|\n|       93|    22|       9|            2|     4|       5|1:26.761|1:26.129|1:28.390|    86.761|    86.129|     88.39|    All Qualifyings|\n|       94|    22|      17|            9|    10|       6|1:26.773|1:26.466|1:28.417|    86.773|    86.466|    88.417|    All Qualifyings|\n|       95|    22|       4|            4|     5|       7|1:26.836|1:26.522|1:28.422|    86.836|    86.522|    88.422|    All Qualifyings|\n|       96|    22|      15|            7|    11|       8|1:26.695|1:26.822|1:28.836|    86.695|    86.822|    88.836|    All Qualifyings|\n|       97|    22|       2|            2|     3|       9|1:27.107|1:27.607|1:28.882|    87.107|    87.607|    88.882|    All Qualifyings|\n|       98|    22|      14|            9|     9|      10|1:26.939|1:26.520|1:29.959|    86.939|     86.52|    89.959|    All Qualifyings|\n|       99|    22|       3|            3|     7|      11|1:27.367|1:27.012|       0|    87.367|    87.012|       0.0|          Q1 and Q2|\n|      100|    22|      22|           11|    17|      12|1:27.355|1:27.219|       0|    87.355|    87.219|       0.0|          Q1 and Q2|\n|      101|    22|      18|           11|    16|      13|1:27.428|1:27.298|       0|    87.428|    87.298|       0.0|          Q1 and Q2|\n|      102|    22|      20|            5|    15|      14|1:27.442|1:27.412|       0|    87.442|    87.412|       0.0|          Q1 and Q2|\n|      103|    22|      10|            7|    12|      15|1:26.614|1:27.806|       0|    86.614|    87.806|       0.0|          Q1 and Q2|\n|      104|    22|       6|            3|     8|      16|1:27.547|       0|       0|    87.547|       0.0|       0.0|            Q1 Only|\n|      105|    22|      12|            4|     6|      17|1:27.568|       0|       0|    87.568|       0.0|       0.0|            Q1 Only|\n|      106|    22|       7|            5|    14|      18|1:27.621|       0|       0|    87.621|       0.0|       0.0|            Q1 Only|\n|      107|    22|      21|           10|    21|      19|1:27.807|       0|       0|    87.807|       0.0|       0.0|            Q1 Only|\n|      108|    22|      16|           10|    20|      20|1:28.325|       0|       0|    88.325|       0.0|       0.0|            Q1 Only|\n|      109|    23|      13|            6|     2|       1|1:15.190|1:15.110|1:15.787|     75.19|     75.11|    75.787|    All Qualifyings|\n|      110|    23|       8|            6|     1|       2|1:15.717|1:15.404|1:15.815|    75.717|    75.404|    75.815|    All Qualifyings|\n|      111|    23|       1|            1|    22|       3|1:15.582|1:15.322|1:15.839|    75.582|    75.322|    75.839|    All Qualifyings|\n|      112|    23|       5|            1|    23|       4|1:15.295|1:15.389|1:16.165|    75.295|    75.389|    76.165|    All Qualifyings|\n|      113|    23|       9|            2|     4|       5|1:15.977|1:15.483|1:16.171|    75.977|    75.483|    76.171|    All Qualifyings|\n|      114|    23|       3|            3|     7|       6|1:15.935|1:15.287|1:16.548|    75.935|    75.287|    76.548|    All Qualifyings|\n|      115|    23|       4|            4|     5|       7|1:16.646|1:15.827|1:16.852|    76.646|    75.827|    76.852|    All Qualifyings|\n|      116|    23|      15|            7|    11|       8|1:16.306|1:15.598|1:17.203|    76.306|    75.598|    77.203|    All Qualifyings|\n|      117|    23|      17|            9|    10|       9|1:16.074|1:15.745|1:17.343|    76.074|    75.745|    77.343|    All Qualifyings|\n|      118|    23|      14|            9|     9|      10|1:16.086|1:15.839|       0|    76.086|    75.839|       0.0|          Q1 and Q2|\n|      119|    23|      10|            7|    12|      11|1:16.285|1:15.907|       0|    76.285|    75.907|       0.0|          Q1 and Q2|\n|      120|    23|      18|           11|    16|      12|1:16.259|1:16.101|       0|    76.259|    76.101|       0.0|          Q1 and Q2|\n|      121|    23|       2|            2|     3|      13|1:16.650|1:16.455|       0|     76.65|    76.455|       0.0|          Q1 and Q2|\n|      122|    23|       6|            3|     8|      14|1:16.756|1:16.479|       0|    76.756|    76.479|       0.0|          Q1 and Q2|\n|      123|    23|      22|           11|    17|      15|1:16.208|1:16.537|       0|    76.208|    76.537|       0.0|          Q1 and Q2|\n|      124|    23|       7|            5|    14|      16|1:16.806|       0|       0|    76.806|       0.0|       0.0|            Q1 Only|\n|      125|    23|      12|            4|     6|      17|1:16.933|       0|       0|    76.933|       0.0|       0.0|            Q1 Only|\n|      126|    23|      20|            5|    15|      18|1:16.955|       0|       0|    76.955|       0.0|       0.0|            Q1 Only|\n|      127|    23|      16|           10|    20|      19|1:17.225|       0|       0|    77.225|       0.0|       0.0|            Q1 Only|\n|      128|    23|      21|           10|    21|      20|1:17.823|       0|       0|    77.823|       0.0|       0.0|            Q1 Only|\n|      129|    24|       1|            1|    22|       1|1:16.909|1:17.034|1:17.886|    76.909|    77.034|    77.886|    All Qualifyings|\n|      130|    24|       9|            2|     4|       2|1:17.471|1:17.679|1:18.498|    77.471|    77.679|    78.498|    All Qualifyings|\n|      131|    24|       8|            6|     1|       3|1:17.301|1:17.364|1:18.735|    77.301|    77.364|    78.735|    All Qualifyings|\n|      132|    24|       4|            4|     5|       4|1:17.415|1:17.488|1:18.746|    77.415|    77.488|    78.746|    All Qualifyings|\n|      133|    24|       3|            3|     7|       5|1:17.991|1:17.891|1:18.844|    77.991|    77.891|    78.844|    All Qualifyings|\n|      134|    24|      13|            6|     2|       6|1:17.231|1:17.353|1:19.048|    77.231|    77.353|    79.048|    All Qualifyings|\n|      135|    24|       5|            1|    23|       7|1:17.287|1:17.684|1:19.089|    77.287|    77.684|    79.089|    All Qualifyings|\n|      136|    24|       2|            2|     3|       8|1:18.082|1:17.781|1:19.633|    78.082|    77.781|    79.633|    All Qualifyings|\n|      137|    24|      22|           11|    17|       9|1:18.256|1:18.020|1:20.848|    78.256|     78.02|    80.848|    All Qualifyings|\n|      138|    24|      17|            9|    10|      10|1:17.582|1:17.523|       0|    77.582|    77.523|       0.0|          Q1 and Q2|\n|      139|    24|      10|            7|    12|      11|1:18.321|1:18.031|       0|    78.321|    78.031|       0.0|          Q1 and Q2|\n|      140|    24|       6|            3|     8|      12|1:17.638|1:18.062|       0|    77.638|    78.062|       0.0|          Q1 and Q2|\n|      141|    24|      14|            9|     9|      13|1:18.168|1:18.238|       0|    78.168|    78.238|       0.0|          Q1 and Q2|\n|      142|    24|      15|            7|    11|      14|1:18.039|1:18.327|       0|    78.039|    78.327|       0.0|          Q1 and Q2|\n|      143|    24|      12|            4|     6|      15|1:18.505|1:18.393|       0|    78.505|    78.393|       0.0|          Q1 and Q2|\n|      144|    24|       7|            5|    14|      16|1:18.916|       0|       0|    78.916|       0.0|       0.0|            Q1 Only|\n|      145|    24|      16|           10|    20|      17|1:19.108|       0|       0|    79.108|       0.0|       0.0|            Q1 Only|\n|      146|    24|      21|           10|    21|      18|1:19.165|       0|       0|    79.165|       0.0|       0.0|            Q1 Only|\n|      147|    24|      18|           11|    16|      19|1:23.565|       0|       0|    83.565|       0.0|       0.0|            Q1 Only|\n|      148|    24|      20|            5|    15|      20|       0|       0|       0|       0.0|       0.0|       0.0|Did Not Participate|\n|      149|    25|       8|            6|     1|       1|1:15.133|1:15.161|1:16.449|    75.133|    75.161|    76.449|    All Qualifyings|\n|      150|    25|      13|            6|     2|       2|1:15.024|1:15.041|1:16.490|    75.024|    75.041|     76.49|    All Qualifyings|\n|      151|    25|       1|            1|    22|       3|1:15.634|1:15.293|1:16.693|    75.634|    75.293|    76.693|    All Qualifyings|\n|      152|    25|       4|            4|     5|       4|1:15.754|1:15.483|1:16.840|    75.754|    75.483|     76.84|    All Qualifyings|\n|      153|    25|      15|            7|    11|       5|1:15.521|1:15.362|1:16.920|    75.521|    75.362|     76.92|    All Qualifyings|\n|      154|    25|       5|            1|    23|       6|1:15.965|1:15.639|1:16.944|    75.965|    75.639|    76.944|    All Qualifyings|\n|      155|    25|       9|            2|     4|       7|1:15.687|1:15.723|1:17.037|    75.687|    75.723|    77.037|    All Qualifyings|\n|      156|    25|      17|            9|    10|       8|1:16.020|1:15.488|1:17.233|     76.02|    75.488|    77.233|    All Qualifyings|\n|      157|    25|      14|            9|     9|       9|1:15.802|1:15.654|1:17.426|    75.802|    75.654|    77.426|    All Qualifyings|\n|      158|    25|      10|            7|    12|      10|1:15.727|1:15.558|1:17.596|    75.727|    75.558|    77.596|    All Qualifyings|\n|      159|    25|      12|            4|     6|      11|1:15.848|1:15.770|       0|    75.848|     75.77|       0.0|          Q1 and Q2|\n|      160|    25|       2|            2|     3|      12|1:16.006|1:15.786|       0|    76.006|    75.786|       0.0|          Q1 and Q2|\n|      161|    25|      20|            5|    15|      13|1:15.918|1:15.816|       0|    75.918|    75.816|       0.0|          Q1 and Q2|\n|      162|    25|       7|            5|    14|      14|1:16.072|1:16.045|       0|    76.072|    76.045|       0.0|          Q1 and Q2|\n|      163|    25|       3|            3|     7|      15|1:16.085|1:16.235|       0|    76.085|    76.235|       0.0|          Q1 and Q2|\n|      164|    25|       6|            3|     8|      16|1:16.243|       0|       0|    76.243|       0.0|       0.0|            Q1 Only|\n|      165|    25|      18|           11|    16|      17|1:16.306|       0|       0|    76.306|       0.0|       0.0|            Q1 Only|\n|      166|    25|      22|           11|    17|      18|1:16.330|       0|       0|     76.33|       0.0|       0.0|            Q1 Only|\n|      167|    25|      21|           10|    21|      19|1:16.971|       0|       0|    76.971|       0.0|       0.0|            Q1 Only|\n|      168|    25|      16|           10|    20|      20|1:17.053|       0|       0|    77.053|       0.0|       0.0|            Q1 Only|\n|      169|    26|       5|            1|    23|       1|1:19.957|1:19.597|1:21.049|    79.957|    79.597|    81.049|    All Qualifyings|\n|      170|    26|      17|            9|    10|       2|1:20.982|1:19.710|1:21.554|    80.982|     79.71|    81.554|    All Qualifyings|\n|      171|    26|       8|            6|     1|       3|1:20.370|1:19.971|1:21.706|     80.37|    79.971|    81.706|    All Qualifyings|\n|      172|    26|       1|            1|    22|       4|1:20.288|1:19.537|1:21.835|    80.288|    79.537|    81.835|    All Qualifyings|\n|      173|    26|       2|            2|     3|       5|1:21.022|1:19.802|1:21.873|    81.022|    79.802|    81.873|    All Qualifyings|\n|      174|    26|       4|            4|     5|       6|1:20.998|1:19.992|1:22.029|    80.998|    79.992|    82.029|    All Qualifyings|\n|      175|    26|      12|            4|     6|       7|1:20.818|1:20.115|1:22.491|    80.818|    80.115|    82.491|    All Qualifyings|\n|      176|    26|      20|            5|    15|       8|1:20.318|1:20.109|1:23.251|    80.318|    80.109|    83.251|    All Qualifyings|\n|      177|    26|      13|            6|     2|       9|1:20.676|1:20.086|1:23.305|    80.676|    80.086|    83.305|    All Qualifyings|\n|      178|    26|       9|            2|     4|      10|1:20.444|1:19.788|       0|    80.444|    79.788|       0.0|          Q1 and Q2|\n|      179|    26|      14|            9|     9|      11|1:21.224|1:20.174|       0|    81.224|    80.174|       0.0|          Q1 and Q2|\n|      180|    26|      10|            7|    12|      12|1:20.893|1:20.274|       0|    80.893|    80.274|       0.0|          Q1 and Q2|\n|      181|    26|       7|            5|    14|      13|1:20.584|1:20.531|       0|    80.584|    80.531|       0.0|          Q1 and Q2|\n|      182|    26|      15|            7|    11|      14|1:21.145|1:20.601|       0|    81.145|    80.601|       0.0|          Q1 and Q2|\n|      183|    26|       6|            3|     8|      15|1:21.407|1:21.112|       0|    81.407|    81.112|       0.0|          Q1 and Q2|\n|      184|    26|      22|           11|    17|      16|1:21.512|       0|       0|    81.512|       0.0|       0.0|            Q1 Only|\n|      185|    26|      18|           11|    16|      17|1:21.631|       0|       0|    81.631|       0.0|       0.0|            Q1 Only|\n|      186|    26|       3|            3|     7|      18|1:21.668|       0|       0|    81.668|       0.0|       0.0|            Q1 Only|\n|      187|    26|      16|           10|    20|      19|1:21.786|       0|       0|    81.786|       0.0|       0.0|            Q1 Only|\n|      188|    26|      21|           10|    21|      20|1:21.885|       0|       0|    81.885|       0.0|       0.0|            Q1 Only|\n|      189|    27|       1|            1|    22|       1|1:15.218|1:14.603|1:15.666|    75.218|    74.603|    75.666|    All Qualifyings|\n|      190|    27|      13|            6|     2|       2|1:14.921|1:14.747|1:15.859|    74.921|    74.747|    75.859|    All Qualifyings|\n|      191|    27|       5|            1|    23|       3|1:15.476|1:14.855|1:16.143|    75.476|    74.855|    76.143|    All Qualifyings|\n|      192|    27|      15|            7|    11|       4|1:15.560|1:15.122|1:16.191|     75.56|    75.122|    76.191|    All Qualifyings|\n|      193|    27|       4|            4|     5|       5|1:15.917|1:14.943|1:16.385|    75.917|    74.943|    76.385|    All Qualifyings|\n|      194|    27|       8|            6|     1|       6|1:15.201|1:14.949|1:16.389|    75.201|    74.949|    76.389|    All Qualifyings|\n|      195|    27|       9|            2|     4|       7|1:15.985|1:15.109|1:16.521|    75.985|    75.109|    76.521|    All Qualifyings|\n|      196|    27|      17|            9|    10|       8|1:15.900|1:15.481|1:17.014|      75.9|    75.481|    77.014|    All Qualifyings|\n|      197|    27|      20|            5|    15|       9|1:15.532|1:15.420|1:17.244|    75.532|     75.42|    77.244|    All Qualifyings|\n|      198|    27|      14|            9|     9|      10|1:15.975|1:15.338|1:17.503|    75.975|    75.338|    77.503|    All Qualifyings|\n|      199|    27|      10|            7|    12|      11|1:15.560|1:15.508|       0|     75.56|    75.508|       0.0|          Q1 and Q2|\n|      200|    27|       2|            2|     3|      12|1:15.596|1:15.581|       0|    75.596|    75.581|       0.0|          Q1 and Q2|\n+---------+------+--------+-------------+------+--------+--------+--------+--------+----------+----------+----------+-------------------+\nonly showing top 200 rows\n\n"
     ]
    }
   ],
   "source": [
    "qualifying_df.show(200)"
   ]
  },
  {
   "cell_type": "code",
   "execution_count": 0,
   "metadata": {
    "application/vnd.databricks.v1+cell": {
     "cellMetadata": {
      "byteLimit": 2048000,
      "rowLimit": 10000
     },
     "inputWidgets": {},
     "nuid": "0466c195-0396-4818-a10c-d8566ce59d04",
     "showTitle": false,
     "title": ""
    }
   },
   "outputs": [],
   "source": [
    "from pyspark.sql.functions import col\n",
    "\n",
    "# Assuming the times are already converted to seconds or a comparable unit\n",
    "qualifying_df = qualifying_df \\\n",
    "    .withColumn(\"Q1_to_Q2_diff\", col(\"Q1_seconds\") - col(\"Q2_seconds\")) \\\n",
    "    .withColumn(\"Q2_to_Q3_diff\", col(\"Q2_seconds\") - col(\"Q3_seconds\")) \\\n",
    "    .withColumn(\"Q1_to_Q3_diff\", col(\"Q1_seconds\") - col(\"Q3_seconds\"))\n"
   ]
  },
  {
   "cell_type": "code",
   "execution_count": 0,
   "metadata": {
    "application/vnd.databricks.v1+cell": {
     "cellMetadata": {
      "byteLimit": 2048000,
      "rowLimit": 10000
     },
     "inputWidgets": {},
     "nuid": "9e335ab4-9330-4122-a767-826394f13fd8",
     "showTitle": false,
     "title": ""
    }
   },
   "outputs": [
    {
     "output_type": "stream",
     "name": "stdout",
     "output_type": "stream",
     "text": [
      "+---------+------+--------+-------------+------+--------+--------+--------+--------+----------+----------+----------+---------------+-------------+-------------+-------------+\n|qualifyId|raceId|driverId|constructorId|number|position|      Q1|      Q2|      Q3|Q1_seconds|Q2_seconds|Q3_seconds|         Q_flag|Q1_to_Q2_diff|Q2_to_Q3_diff|Q1_to_Q3_diff|\n+---------+------+--------+-------------+------+--------+--------+--------+--------+----------+----------+----------+---------------+-------------+-------------+-------------+\n|        1|    18|       1|            1|    22|       1|1:26.572|1:25.187|1:26.714|    86.572|    85.187|    86.714|All Qualifyings|    1.3850021|   -1.5270004|  -0.14199829|\n|        2|    18|       9|            2|     4|       2|1:26.103|1:25.315|1:26.869|    86.103|    85.315|    86.869|All Qualifyings|    0.7879944|   -1.5540009|  -0.76600647|\n|        3|    18|       5|            1|    23|       3|1:25.664|1:25.452|1:27.079|    85.664|    85.452|    87.079|All Qualifyings|   0.21199799|   -1.6269989|   -1.4150009|\n|        4|    18|      13|            6|     2|       4|1:25.994|1:25.691|1:27.178|    85.994|    85.691|    87.178|All Qualifyings|    0.3030014|   -1.4869995|   -1.1839981|\n|        5|    18|       2|            2|     3|       5|1:25.960|1:25.518|1:27.236|     85.96|    85.518|    87.236|All Qualifyings|   0.44200134|   -1.7180023|    -1.276001|\n|        6|    18|      15|            7|    11|       6|1:26.427|1:26.101|1:28.527|    86.427|    86.101|    88.527|All Qualifyings|   0.32600403|   -2.4260025|   -2.0999985|\n|        7|    18|       3|            3|     7|       7|1:26.295|1:26.059|1:28.687|    86.295|    86.059|    88.687|All Qualifyings|   0.23600006|   -2.6279984|   -2.3919983|\n|        8|    18|      14|            9|     9|       8|1:26.381|1:26.063|1:29.041|    86.381|    86.063|    89.041|All Qualifyings|   0.31799316|   -2.9779968|   -2.6600037|\n|        9|    18|      10|            7|    12|       9|1:26.919|1:26.164|1:29.593|    86.919|    86.164|    89.593|All Qualifyings|   0.75499725|   -3.4290009|   -2.6740036|\n|       10|    18|      20|            5|    15|      10|1:26.702|1:25.842|       0|    86.702|    85.842|       0.0|      Q1 and Q2|    0.8600006|       85.842|       86.702|\n+---------+------+--------+-------------+------+--------+--------+--------+--------+----------+----------+----------+---------------+-------------+-------------+-------------+\nonly showing top 10 rows\n\n"
     ]
    }
   ],
   "source": [
    "qualifying_df.show(10)"
   ]
  },
  {
   "cell_type": "markdown",
   "metadata": {
    "application/vnd.databricks.v1+cell": {
     "cellMetadata": {},
     "inputWidgets": {},
     "nuid": "5a5939ba-e214-459c-9ad3-e84d1a1ef9af",
     "showTitle": false,
     "title": ""
    }
   },
   "source": [
    "## Transformations for races Tables"
   ]
  },
  {
   "cell_type": "code",
   "execution_count": 0,
   "metadata": {
    "application/vnd.databricks.v1+cell": {
     "cellMetadata": {
      "byteLimit": 2048000,
      "rowLimit": 10000
     },
     "inputWidgets": {},
     "nuid": "b453c31d-413d-4459-b58f-7b94845c8b50",
     "showTitle": false,
     "title": ""
    }
   },
   "outputs": [],
   "source": [
    "races_df = dataframes_dict['races'] "
   ]
  },
  {
   "cell_type": "code",
   "execution_count": 0,
   "metadata": {
    "application/vnd.databricks.v1+cell": {
     "cellMetadata": {
      "byteLimit": 2048000,
      "rowLimit": 10000
     },
     "inputWidgets": {},
     "nuid": "9edc9bf6-9348-4964-ac01-3b9d4e240db3",
     "showTitle": false,
     "title": ""
    }
   },
   "outputs": [],
   "source": [
    "races_df = races_df \\\n",
    "    .withColumn(\"fp1_date\", when(col(\"fp1_date\") == \"\\\\N\", None).otherwise(col(\"fp1_date\"))) \\\n",
    "    .withColumn(\"fp1_time\", when(col(\"fp1_time\") == \"\\\\N\", None).otherwise(col(\"fp1_time\"))) \\\n",
    "    .withColumn(\"fp2_date\", when(col(\"fp2_date\") == \"\\\\N\", None).otherwise(col(\"fp2_date\"))) \\\n",
    "    .withColumn(\"fp2_time\", when(col(\"fp2_time\") == \"\\\\N\", None).otherwise(col(\"fp2_time\"))) \\\n",
    "    .withColumn(\"fp3_date\", when(col(\"fp3_date\") == \"\\\\N\", None).otherwise(col(\"fp3_date\"))) \\\n",
    "    .withColumn(\"fp3_time\", when(col(\"fp3_time\") == \"\\\\N\", None).otherwise(col(\"fp3_time\"))) \\\n",
    "    .withColumn(\"quali_date\", when(col(\"quali_date\") == \"\\\\N\", None).otherwise(col(\"quali_date\"))) \\\n",
    "    .withColumn(\"quali_time\", when(col(\"quali_time\") == \"\\\\N\", None).otherwise(col(\"quali_time\"))) \\\n",
    "    .withColumn(\"sprint_date\", when(col(\"sprint_date\") == \"\\\\N\", None).otherwise(col(\"sprint_date\"))) \\\n",
    "    .withColumn(\"sprint_time\", when(col(\"sprint_time\") == \"\\\\N\", None).otherwise(col(\"sprint_time\"))) \\\n",
    "    .withColumn(\"time\", when(col(\"time\") == \"\\\\N\", None).otherwise(col(\"time\")))\n"
   ]
  },
  {
   "cell_type": "code",
   "execution_count": 0,
   "metadata": {
    "application/vnd.databricks.v1+cell": {
     "cellMetadata": {
      "byteLimit": 2048000,
      "rowLimit": 10000
     },
     "inputWidgets": {},
     "nuid": "e7454f4e-0e82-4a9a-a7fe-1c852ea835ad",
     "showTitle": false,
     "title": ""
    }
   },
   "outputs": [
    {
     "output_type": "stream",
     "name": "stdout",
     "output_type": "stream",
     "text": [
      "+------+----+-----+---------+--------------------+----------+--------+--------------------+----------+--------+----------+--------+----------+--------+----------+----------+-----------+-----------+\n|raceId|year|round|circuitId|                name|      date|    time|                 url|  fp1_date|fp1_time|  fp2_date|fp2_time|  fp3_date|fp3_time|quali_date|quali_time|sprint_date|sprint_time|\n+------+----+-----+---------+--------------------+----------+--------+--------------------+----------+--------+----------+--------+----------+--------+----------+----------+-----------+-----------+\n|     1|2009|    1|        1|Australian Grand ...|2009-03-29|06:00:00|http://en.wikiped...|      NULL|    NULL|      NULL|    NULL|      NULL|    NULL|      NULL|      NULL|       NULL|       NULL|\n|     2|2009|    2|        2|Malaysian Grand Prix|2009-04-05|09:00:00|http://en.wikiped...|      NULL|    NULL|      NULL|    NULL|      NULL|    NULL|      NULL|      NULL|       NULL|       NULL|\n|     3|2009|    3|       17|  Chinese Grand Prix|2009-04-19|07:00:00|http://en.wikiped...|      NULL|    NULL|      NULL|    NULL|      NULL|    NULL|      NULL|      NULL|       NULL|       NULL|\n|     4|2009|    4|        3|  Bahrain Grand Prix|2009-04-26|12:00:00|http://en.wikiped...|      NULL|    NULL|      NULL|    NULL|      NULL|    NULL|      NULL|      NULL|       NULL|       NULL|\n|     5|2009|    5|        4|  Spanish Grand Prix|2009-05-10|12:00:00|http://en.wikiped...|      NULL|    NULL|      NULL|    NULL|      NULL|    NULL|      NULL|      NULL|       NULL|       NULL|\n|     6|2009|    6|        6|   Monaco Grand Prix|2009-05-24|12:00:00|http://en.wikiped...|      NULL|    NULL|      NULL|    NULL|      NULL|    NULL|      NULL|      NULL|       NULL|       NULL|\n|     7|2009|    7|        5|  Turkish Grand Prix|2009-06-07|12:00:00|http://en.wikiped...|      NULL|    NULL|      NULL|    NULL|      NULL|    NULL|      NULL|      NULL|       NULL|       NULL|\n|     8|2009|    8|        9|  British Grand Prix|2009-06-21|12:00:00|http://en.wikiped...|      NULL|    NULL|      NULL|    NULL|      NULL|    NULL|      NULL|      NULL|       NULL|       NULL|\n|     9|2009|    9|       20|   German Grand Prix|2009-07-12|12:00:00|http://en.wikiped...|      NULL|    NULL|      NULL|    NULL|      NULL|    NULL|      NULL|      NULL|       NULL|       NULL|\n|    10|2009|   10|       11|Hungarian Grand Prix|2009-07-26|12:00:00|http://en.wikiped...|      NULL|    NULL|      NULL|    NULL|      NULL|    NULL|      NULL|      NULL|       NULL|       NULL|\n|    11|2009|   11|       12| European Grand Prix|2009-08-23|12:00:00|http://en.wikiped...|      NULL|    NULL|      NULL|    NULL|      NULL|    NULL|      NULL|      NULL|       NULL|       NULL|\n|    12|2009|   12|       13|  Belgian Grand Prix|2009-08-30|12:00:00|http://en.wikiped...|      NULL|    NULL|      NULL|    NULL|      NULL|    NULL|      NULL|      NULL|       NULL|       NULL|\n|    13|2009|   13|       14|  Italian Grand Prix|2009-09-13|12:00:00|http://en.wikiped...|      NULL|    NULL|      NULL|    NULL|      NULL|    NULL|      NULL|      NULL|       NULL|       NULL|\n|    14|2009|   14|       15|Singapore Grand Prix|2009-09-27|12:00:00|http://en.wikiped...|      NULL|    NULL|      NULL|    NULL|      NULL|    NULL|      NULL|      NULL|       NULL|       NULL|\n|    15|2009|   15|       22| Japanese Grand Prix|2009-10-04|05:00:00|http://en.wikiped...|      NULL|    NULL|      NULL|    NULL|      NULL|    NULL|      NULL|      NULL|       NULL|       NULL|\n|    16|2009|   16|       18|Brazilian Grand Prix|2009-10-18|16:00:00|http://en.wikiped...|      NULL|    NULL|      NULL|    NULL|      NULL|    NULL|      NULL|      NULL|       NULL|       NULL|\n|    17|2009|   17|       24|Abu Dhabi Grand Prix|2009-11-01|11:00:00|http://en.wikiped...|      NULL|    NULL|      NULL|    NULL|      NULL|    NULL|      NULL|      NULL|       NULL|       NULL|\n|    18|2008|    1|        1|Australian Grand ...|2008-03-16|04:30:00|http://en.wikiped...|      NULL|    NULL|      NULL|    NULL|      NULL|    NULL|      NULL|      NULL|       NULL|       NULL|\n|    19|2008|    2|        2|Malaysian Grand Prix|2008-03-23|07:00:00|http://en.wikiped...|      NULL|    NULL|      NULL|    NULL|      NULL|    NULL|      NULL|      NULL|       NULL|       NULL|\n|    20|2008|    3|        3|  Bahrain Grand Prix|2008-04-06|11:30:00|http://en.wikiped...|      NULL|    NULL|      NULL|    NULL|      NULL|    NULL|      NULL|      NULL|       NULL|       NULL|\n|    21|2008|    4|        4|  Spanish Grand Prix|2008-04-27|12:00:00|http://en.wikiped...|      NULL|    NULL|      NULL|    NULL|      NULL|    NULL|      NULL|      NULL|       NULL|       NULL|\n|    22|2008|    5|        5|  Turkish Grand Prix|2008-05-11|12:00:00|http://en.wikiped...|      NULL|    NULL|      NULL|    NULL|      NULL|    NULL|      NULL|      NULL|       NULL|       NULL|\n|    23|2008|    6|        6|   Monaco Grand Prix|2008-05-25|12:00:00|http://en.wikiped...|      NULL|    NULL|      NULL|    NULL|      NULL|    NULL|      NULL|      NULL|       NULL|       NULL|\n|    24|2008|    7|        7| Canadian Grand Prix|2008-06-08|17:00:00|http://en.wikiped...|      NULL|    NULL|      NULL|    NULL|      NULL|    NULL|      NULL|      NULL|       NULL|       NULL|\n|    25|2008|    8|        8|   French Grand Prix|2008-06-22|12:00:00|http://en.wikiped...|      NULL|    NULL|      NULL|    NULL|      NULL|    NULL|      NULL|      NULL|       NULL|       NULL|\n|    26|2008|    9|        9|  British Grand Prix|2008-07-06|12:00:00|http://en.wikiped...|      NULL|    NULL|      NULL|    NULL|      NULL|    NULL|      NULL|      NULL|       NULL|       NULL|\n|    27|2008|   10|       10|   German Grand Prix|2008-07-20|12:00:00|http://en.wikiped...|      NULL|    NULL|      NULL|    NULL|      NULL|    NULL|      NULL|      NULL|       NULL|       NULL|\n|    28|2008|   11|       11|Hungarian Grand Prix|2008-08-03|12:00:00|http://en.wikiped...|      NULL|    NULL|      NULL|    NULL|      NULL|    NULL|      NULL|      NULL|       NULL|       NULL|\n|    29|2008|   12|       12| European Grand Prix|2008-08-24|12:00:00|http://en.wikiped...|      NULL|    NULL|      NULL|    NULL|      NULL|    NULL|      NULL|      NULL|       NULL|       NULL|\n|    30|2008|   13|       13|  Belgian Grand Prix|2008-09-07|12:00:00|http://en.wikiped...|      NULL|    NULL|      NULL|    NULL|      NULL|    NULL|      NULL|      NULL|       NULL|       NULL|\n|    31|2008|   14|       14|  Italian Grand Prix|2008-09-14|12:00:00|http://en.wikiped...|      NULL|    NULL|      NULL|    NULL|      NULL|    NULL|      NULL|      NULL|       NULL|       NULL|\n|    32|2008|   15|       15|Singapore Grand Prix|2008-09-28|12:00:00|http://en.wikiped...|      NULL|    NULL|      NULL|    NULL|      NULL|    NULL|      NULL|      NULL|       NULL|       NULL|\n|    33|2008|   16|       16| Japanese Grand Prix|2008-10-12|04:30:00|http://en.wikiped...|      NULL|    NULL|      NULL|    NULL|      NULL|    NULL|      NULL|      NULL|       NULL|       NULL|\n|    34|2008|   17|       17|  Chinese Grand Prix|2008-10-19|07:00:00|http://en.wikiped...|      NULL|    NULL|      NULL|    NULL|      NULL|    NULL|      NULL|      NULL|       NULL|       NULL|\n|    35|2008|   18|       18|Brazilian Grand Prix|2008-11-02|17:00:00|http://en.wikiped...|      NULL|    NULL|      NULL|    NULL|      NULL|    NULL|      NULL|      NULL|       NULL|       NULL|\n|    36|2007|    1|        1|Australian Grand ...|2007-03-18|03:00:00|http://en.wikiped...|      NULL|    NULL|      NULL|    NULL|      NULL|    NULL|      NULL|      NULL|       NULL|       NULL|\n|    37|2007|    2|        2|Malaysian Grand Prix|2007-04-08|07:00:00|http://en.wikiped...|      NULL|    NULL|      NULL|    NULL|      NULL|    NULL|      NULL|      NULL|       NULL|       NULL|\n|    38|2007|    3|        3|  Bahrain Grand Prix|2007-04-15|11:30:00|http://en.wikiped...|      NULL|    NULL|      NULL|    NULL|      NULL|    NULL|      NULL|      NULL|       NULL|       NULL|\n|    39|2007|    4|        4|  Spanish Grand Prix|2007-05-13|12:00:00|http://en.wikiped...|      NULL|    NULL|      NULL|    NULL|      NULL|    NULL|      NULL|      NULL|       NULL|       NULL|\n|    40|2007|    5|        6|   Monaco Grand Prix|2007-05-27|12:00:00|http://en.wikiped...|      NULL|    NULL|      NULL|    NULL|      NULL|    NULL|      NULL|      NULL|       NULL|       NULL|\n|    41|2007|    6|        7| Canadian Grand Prix|2007-06-10|17:00:00|http://en.wikiped...|      NULL|    NULL|      NULL|    NULL|      NULL|    NULL|      NULL|      NULL|       NULL|       NULL|\n|    42|2007|    7|       19|United States Gra...|2007-06-17|17:00:00|http://en.wikiped...|      NULL|    NULL|      NULL|    NULL|      NULL|    NULL|      NULL|      NULL|       NULL|       NULL|\n|    43|2007|    8|        8|   French Grand Prix|2007-07-01|12:00:00|http://en.wikiped...|      NULL|    NULL|      NULL|    NULL|      NULL|    NULL|      NULL|      NULL|       NULL|       NULL|\n|    44|2007|    9|        9|  British Grand Prix|2007-07-08|12:00:00|http://en.wikiped...|      NULL|    NULL|      NULL|    NULL|      NULL|    NULL|      NULL|      NULL|       NULL|       NULL|\n|    45|2007|   10|       20| European Grand Prix|2007-07-22|12:00:00|http://en.wikiped...|      NULL|    NULL|      NULL|    NULL|      NULL|    NULL|      NULL|      NULL|       NULL|       NULL|\n|    46|2007|   11|       11|Hungarian Grand Prix|2007-08-05|12:00:00|http://en.wikiped...|      NULL|    NULL|      NULL|    NULL|      NULL|    NULL|      NULL|      NULL|       NULL|       NULL|\n|    47|2007|   12|        5|  Turkish Grand Prix|2007-08-26|12:00:00|http://en.wikiped...|      NULL|    NULL|      NULL|    NULL|      NULL|    NULL|      NULL|      NULL|       NULL|       NULL|\n|    48|2007|   13|       14|  Italian Grand Prix|2007-09-09|12:00:00|http://en.wikiped...|      NULL|    NULL|      NULL|    NULL|      NULL|    NULL|      NULL|      NULL|       NULL|       NULL|\n|    49|2007|   14|       13|  Belgian Grand Prix|2007-09-16|12:00:00|http://en.wikiped...|      NULL|    NULL|      NULL|    NULL|      NULL|    NULL|      NULL|      NULL|       NULL|       NULL|\n|    50|2007|   15|       16| Japanese Grand Prix|2007-09-30|04:30:00|http://en.wikiped...|      NULL|    NULL|      NULL|    NULL|      NULL|    NULL|      NULL|      NULL|       NULL|       NULL|\n|    51|2007|   16|       17|  Chinese Grand Prix|2007-10-07|06:00:00|http://en.wikiped...|      NULL|    NULL|      NULL|    NULL|      NULL|    NULL|      NULL|      NULL|       NULL|       NULL|\n|    52|2007|   17|       18|Brazilian Grand Prix|2007-10-21|16:00:00|http://en.wikiped...|      NULL|    NULL|      NULL|    NULL|      NULL|    NULL|      NULL|      NULL|       NULL|       NULL|\n|    53|2006|    1|        3|  Bahrain Grand Prix|2006-03-12|14:30:00|http://en.wikiped...|      NULL|    NULL|      NULL|    NULL|      NULL|    NULL|      NULL|      NULL|       NULL|       NULL|\n|    54|2006|    2|        2|Malaysian Grand Prix|2006-03-19|15:00:00|http://en.wikiped...|      NULL|    NULL|      NULL|    NULL|      NULL|    NULL|      NULL|      NULL|       NULL|       NULL|\n|    55|2006|    3|        1|Australian Grand ...|2006-04-02|14:00:00|http://en.wikiped...|      NULL|    NULL|      NULL|    NULL|      NULL|    NULL|      NULL|      NULL|       NULL|       NULL|\n|    56|2006|    4|       21|San Marino Grand ...|2006-04-23|14:00:00|http://en.wikiped...|      NULL|    NULL|      NULL|    NULL|      NULL|    NULL|      NULL|      NULL|       NULL|       NULL|\n|    57|2006|    5|       20| European Grand Prix|2006-05-07|14:00:00|http://en.wikiped...|      NULL|    NULL|      NULL|    NULL|      NULL|    NULL|      NULL|      NULL|       NULL|       NULL|\n|    58|2006|    6|        4|  Spanish Grand Prix|2006-05-14|14:00:00|http://en.wikiped...|      NULL|    NULL|      NULL|    NULL|      NULL|    NULL|      NULL|      NULL|       NULL|       NULL|\n|    59|2006|    7|        6|   Monaco Grand Prix|2006-05-28|14:00:00|http://en.wikiped...|      NULL|    NULL|      NULL|    NULL|      NULL|    NULL|      NULL|      NULL|       NULL|       NULL|\n|    60|2006|    8|        9|  British Grand Prix|2006-06-11|12:00:00|http://en.wikiped...|      NULL|    NULL|      NULL|    NULL|      NULL|    NULL|      NULL|      NULL|       NULL|       NULL|\n|    61|2006|    9|        7| Canadian Grand Prix|2006-06-25|13:00:00|http://en.wikiped...|      NULL|    NULL|      NULL|    NULL|      NULL|    NULL|      NULL|      NULL|       NULL|       NULL|\n|    62|2006|   10|       19|United States Gra...|2006-07-02|14:00:00|http://en.wikiped...|      NULL|    NULL|      NULL|    NULL|      NULL|    NULL|      NULL|      NULL|       NULL|       NULL|\n|    63|2006|   11|        8|   French Grand Prix|2006-07-16|14:00:00|http://en.wikiped...|      NULL|    NULL|      NULL|    NULL|      NULL|    NULL|      NULL|      NULL|       NULL|       NULL|\n|    64|2006|   12|       10|   German Grand Prix|2006-07-30|14:00:00|http://en.wikiped...|      NULL|    NULL|      NULL|    NULL|      NULL|    NULL|      NULL|      NULL|       NULL|       NULL|\n|    65|2006|   13|       11|Hungarian Grand Prix|2006-08-06|14:00:00|http://en.wikiped...|      NULL|    NULL|      NULL|    NULL|      NULL|    NULL|      NULL|      NULL|       NULL|       NULL|\n|    66|2006|   14|        5|  Turkish Grand Prix|2006-08-27|15:00:00|http://en.wikiped...|      NULL|    NULL|      NULL|    NULL|      NULL|    NULL|      NULL|      NULL|       NULL|       NULL|\n|    67|2006|   15|       14|  Italian Grand Prix|2006-09-10|14:00:00|http://en.wikiped...|      NULL|    NULL|      NULL|    NULL|      NULL|    NULL|      NULL|      NULL|       NULL|       NULL|\n|    68|2006|   16|       17|  Chinese Grand Prix|2006-10-01|14:00:00|http://en.wikiped...|      NULL|    NULL|      NULL|    NULL|      NULL|    NULL|      NULL|      NULL|       NULL|       NULL|\n|    69|2006|   17|       22| Japanese Grand Prix|2006-10-08|14:00:00|http://en.wikiped...|      NULL|    NULL|      NULL|    NULL|      NULL|    NULL|      NULL|      NULL|       NULL|       NULL|\n|    70|2006|   18|       18|Brazilian Grand Prix|2006-10-22|14:00:00|http://en.wikiped...|      NULL|    NULL|      NULL|    NULL|      NULL|    NULL|      NULL|      NULL|       NULL|       NULL|\n|    71|2005|    1|        1|Australian Grand ...|2005-03-06|14:00:00|http://en.wikiped...|      NULL|    NULL|      NULL|    NULL|      NULL|    NULL|      NULL|      NULL|       NULL|       NULL|\n|    72|2005|    2|        2|Malaysian Grand Prix|2005-03-20|15:00:00|http://en.wikiped...|      NULL|    NULL|      NULL|    NULL|      NULL|    NULL|      NULL|      NULL|       NULL|       NULL|\n|    73|2005|    3|        3|  Bahrain Grand Prix|2005-04-03|14:30:00|http://en.wikiped...|      NULL|    NULL|      NULL|    NULL|      NULL|    NULL|      NULL|      NULL|       NULL|       NULL|\n|    74|2005|    4|       21|San Marino Grand ...|2005-04-24|14:00:00|http://en.wikiped...|      NULL|    NULL|      NULL|    NULL|      NULL|    NULL|      NULL|      NULL|       NULL|       NULL|\n|    75|2005|    5|        4|  Spanish Grand Prix|2005-05-08|14:00:00|http://en.wikiped...|      NULL|    NULL|      NULL|    NULL|      NULL|    NULL|      NULL|      NULL|       NULL|       NULL|\n|    76|2005|    6|        6|   Monaco Grand Prix|2005-05-22|14:00:00|http://en.wikiped...|      NULL|    NULL|      NULL|    NULL|      NULL|    NULL|      NULL|      NULL|       NULL|       NULL|\n|    77|2005|    7|       20| European Grand Prix|2005-05-29|14:00:00|http://en.wikiped...|      NULL|    NULL|      NULL|    NULL|      NULL|    NULL|      NULL|      NULL|       NULL|       NULL|\n|    78|2005|    8|        7| Canadian Grand Prix|2005-06-12|13:00:00|http://en.wikiped...|      NULL|    NULL|      NULL|    NULL|      NULL|    NULL|      NULL|      NULL|       NULL|       NULL|\n|    79|2005|    9|       19|United States Gra...|2005-06-19|14:00:00|http://en.wikiped...|      NULL|    NULL|      NULL|    NULL|      NULL|    NULL|      NULL|      NULL|       NULL|       NULL|\n|    80|2005|   10|        8|   French Grand Prix|2005-07-03|14:00:00|http://en.wikiped...|      NULL|    NULL|      NULL|    NULL|      NULL|    NULL|      NULL|      NULL|       NULL|       NULL|\n|    81|2005|   11|        9|  British Grand Prix|2005-07-10|14:00:00|http://en.wikiped...|      NULL|    NULL|      NULL|    NULL|      NULL|    NULL|      NULL|      NULL|       NULL|       NULL|\n|    82|2005|   12|       10|   German Grand Prix|2005-07-24|14:00:00|http://en.wikiped...|      NULL|    NULL|      NULL|    NULL|      NULL|    NULL|      NULL|      NULL|       NULL|       NULL|\n|    83|2005|   13|       11|Hungarian Grand Prix|2005-07-31|14:00:00|http://en.wikiped...|      NULL|    NULL|      NULL|    NULL|      NULL|    NULL|      NULL|      NULL|       NULL|       NULL|\n|    84|2005|   14|        5|  Turkish Grand Prix|2005-08-21|15:00:00|http://en.wikiped...|      NULL|    NULL|      NULL|    NULL|      NULL|    NULL|      NULL|      NULL|       NULL|       NULL|\n|    85|2005|   15|       14|  Italian Grand Prix|2005-09-04|14:00:00|http://en.wikiped...|      NULL|    NULL|      NULL|    NULL|      NULL|    NULL|      NULL|      NULL|       NULL|       NULL|\n|    86|2005|   16|       13|  Belgian Grand Prix|2005-09-11|14:00:00|http://en.wikiped...|      NULL|    NULL|      NULL|    NULL|      NULL|    NULL|      NULL|      NULL|       NULL|       NULL|\n|    87|2005|   17|       18|Brazilian Grand Prix|2005-09-25|14:00:00|http://en.wikiped...|      NULL|    NULL|      NULL|    NULL|      NULL|    NULL|      NULL|      NULL|       NULL|       NULL|\n|    88|2005|   18|       22| Japanese Grand Prix|2005-10-09|14:00:00|http://en.wikiped...|      NULL|    NULL|      NULL|    NULL|      NULL|    NULL|      NULL|      NULL|       NULL|       NULL|\n|    89|2005|   19|       17|  Chinese Grand Prix|2005-10-16|14:00:00|http://en.wikiped...|      NULL|    NULL|      NULL|    NULL|      NULL|    NULL|      NULL|      NULL|       NULL|       NULL|\n|    90|2004|    1|        1|Australian Grand ...|2004-03-07|    NULL|http://en.wikiped...|      NULL|    NULL|      NULL|    NULL|      NULL|    NULL|      NULL|      NULL|       NULL|       NULL|\n|    91|2004|    2|        2|Malaysian Grand Prix|2004-03-21|    NULL|http://en.wikiped...|      NULL|    NULL|      NULL|    NULL|      NULL|    NULL|      NULL|      NULL|       NULL|       NULL|\n|    92|2004|    3|        3|  Bahrain Grand Prix|2004-04-04|    NULL|http://en.wikiped...|      NULL|    NULL|      NULL|    NULL|      NULL|    NULL|      NULL|      NULL|       NULL|       NULL|\n|    93|2004|    4|       21|San Marino Grand ...|2004-04-25|    NULL|http://en.wikiped...|      NULL|    NULL|      NULL|    NULL|      NULL|    NULL|      NULL|      NULL|       NULL|       NULL|\n|    94|2004|    5|        4|  Spanish Grand Prix|2004-05-09|    NULL|http://en.wikiped...|      NULL|    NULL|      NULL|    NULL|      NULL|    NULL|      NULL|      NULL|       NULL|       NULL|\n|    95|2004|    6|        6|   Monaco Grand Prix|2004-05-23|    NULL|http://en.wikiped...|      NULL|    NULL|      NULL|    NULL|      NULL|    NULL|      NULL|      NULL|       NULL|       NULL|\n|    96|2004|    7|       20| European Grand Prix|2004-05-30|    NULL|http://en.wikiped...|      NULL|    NULL|      NULL|    NULL|      NULL|    NULL|      NULL|      NULL|       NULL|       NULL|\n|    97|2004|    8|        7| Canadian Grand Prix|2004-06-13|    NULL|http://en.wikiped...|      NULL|    NULL|      NULL|    NULL|      NULL|    NULL|      NULL|      NULL|       NULL|       NULL|\n|    98|2004|    9|       19|United States Gra...|2004-06-20|    NULL|http://en.wikiped...|      NULL|    NULL|      NULL|    NULL|      NULL|    NULL|      NULL|      NULL|       NULL|       NULL|\n|    99|2004|   10|        8|   French Grand Prix|2004-07-04|    NULL|http://en.wikiped...|      NULL|    NULL|      NULL|    NULL|      NULL|    NULL|      NULL|      NULL|       NULL|       NULL|\n|   100|2004|   11|        9|  British Grand Prix|2004-07-11|    NULL|http://en.wikiped...|      NULL|    NULL|      NULL|    NULL|      NULL|    NULL|      NULL|      NULL|       NULL|       NULL|\n|   101|2004|   12|       10|   German Grand Prix|2004-07-25|    NULL|http://en.wikiped...|      NULL|    NULL|      NULL|    NULL|      NULL|    NULL|      NULL|      NULL|       NULL|       NULL|\n|   102|2004|   13|       11|Hungarian Grand Prix|2004-08-15|    NULL|http://en.wikiped...|      NULL|    NULL|      NULL|    NULL|      NULL|    NULL|      NULL|      NULL|       NULL|       NULL|\n|   103|2004|   14|       13|  Belgian Grand Prix|2004-08-29|    NULL|http://en.wikiped...|      NULL|    NULL|      NULL|    NULL|      NULL|    NULL|      NULL|      NULL|       NULL|       NULL|\n|   104|2004|   15|       14|  Italian Grand Prix|2004-09-12|    NULL|http://en.wikiped...|      NULL|    NULL|      NULL|    NULL|      NULL|    NULL|      NULL|      NULL|       NULL|       NULL|\n|   105|2004|   16|       17|  Chinese Grand Prix|2004-09-26|    NULL|http://en.wikiped...|      NULL|    NULL|      NULL|    NULL|      NULL|    NULL|      NULL|      NULL|       NULL|       NULL|\n|   106|2004|   17|       22| Japanese Grand Prix|2004-10-10|    NULL|http://en.wikiped...|      NULL|    NULL|      NULL|    NULL|      NULL|    NULL|      NULL|      NULL|       NULL|       NULL|\n|   107|2004|   18|       18|Brazilian Grand Prix|2004-10-24|    NULL|http://en.wikiped...|      NULL|    NULL|      NULL|    NULL|      NULL|    NULL|      NULL|      NULL|       NULL|       NULL|\n|   108|2003|    1|        1|Australian Grand ...|2003-03-09|    NULL|http://en.wikiped...|      NULL|    NULL|      NULL|    NULL|      NULL|    NULL|      NULL|      NULL|       NULL|       NULL|\n|   109|2003|    2|        2|Malaysian Grand Prix|2003-03-23|    NULL|http://en.wikiped...|      NULL|    NULL|      NULL|    NULL|      NULL|    NULL|      NULL|      NULL|       NULL|       NULL|\n|   110|2003|    3|       18|Brazilian Grand Prix|2003-04-06|    NULL|http://en.wikiped...|      NULL|    NULL|      NULL|    NULL|      NULL|    NULL|      NULL|      NULL|       NULL|       NULL|\n|   111|2003|    4|       21|San Marino Grand ...|2003-04-20|    NULL|http://en.wikiped...|      NULL|    NULL|      NULL|    NULL|      NULL|    NULL|      NULL|      NULL|       NULL|       NULL|\n|   112|2003|    5|        4|  Spanish Grand Prix|2003-05-04|    NULL|http://en.wikiped...|      NULL|    NULL|      NULL|    NULL|      NULL|    NULL|      NULL|      NULL|       NULL|       NULL|\n|   113|2003|    6|       70| Austrian Grand Prix|2003-05-18|    NULL|http://en.wikiped...|      NULL|    NULL|      NULL|    NULL|      NULL|    NULL|      NULL|      NULL|       NULL|       NULL|\n|   114|2003|    7|        6|   Monaco Grand Prix|2003-06-01|    NULL|http://en.wikiped...|      NULL|    NULL|      NULL|    NULL|      NULL|    NULL|      NULL|      NULL|       NULL|       NULL|\n|   115|2003|    8|        7| Canadian Grand Prix|2003-06-15|    NULL|http://en.wikiped...|      NULL|    NULL|      NULL|    NULL|      NULL|    NULL|      NULL|      NULL|       NULL|       NULL|\n|   116|2003|    9|       20| European Grand Prix|2003-06-29|    NULL|http://en.wikiped...|      NULL|    NULL|      NULL|    NULL|      NULL|    NULL|      NULL|      NULL|       NULL|       NULL|\n|   117|2003|   10|        8|   French Grand Prix|2003-07-06|    NULL|http://en.wikiped...|      NULL|    NULL|      NULL|    NULL|      NULL|    NULL|      NULL|      NULL|       NULL|       NULL|\n|   118|2003|   11|        9|  British Grand Prix|2003-07-20|    NULL|http://en.wikiped...|      NULL|    NULL|      NULL|    NULL|      NULL|    NULL|      NULL|      NULL|       NULL|       NULL|\n|   119|2003|   12|       10|   German Grand Prix|2003-08-03|    NULL|http://en.wikiped...|      NULL|    NULL|      NULL|    NULL|      NULL|    NULL|      NULL|      NULL|       NULL|       NULL|\n|   120|2003|   13|       11|Hungarian Grand Prix|2003-08-24|    NULL|http://en.wikiped...|      NULL|    NULL|      NULL|    NULL|      NULL|    NULL|      NULL|      NULL|       NULL|       NULL|\n|   121|2003|   14|       14|  Italian Grand Prix|2003-09-14|    NULL|http://en.wikiped...|      NULL|    NULL|      NULL|    NULL|      NULL|    NULL|      NULL|      NULL|       NULL|       NULL|\n|   122|2003|   15|       19|United States Gra...|2003-09-28|    NULL|http://en.wikiped...|      NULL|    NULL|      NULL|    NULL|      NULL|    NULL|      NULL|      NULL|       NULL|       NULL|\n|   123|2003|   16|       22| Japanese Grand Prix|2003-10-12|    NULL|http://en.wikiped...|      NULL|    NULL|      NULL|    NULL|      NULL|    NULL|      NULL|      NULL|       NULL|       NULL|\n|   124|2002|    1|        1|Australian Grand ...|20\n\n*** WARNING: max output size exceeded, skipping output. ***\n\nULL|      NULL|      NULL|       NULL|       NULL|\n|  1013|2019|    4|       73|Azerbaijan Grand ...|2019-04-28|12:10:00|http://en.wikiped...|      NULL|    NULL|      NULL|    NULL|      NULL|    NULL|      NULL|      NULL|       NULL|       NULL|\n|  1014|2019|    5|        4|  Spanish Grand Prix|2019-05-12|13:10:00|http://en.wikiped...|      NULL|    NULL|      NULL|    NULL|      NULL|    NULL|      NULL|      NULL|       NULL|       NULL|\n|  1015|2019|    6|        6|   Monaco Grand Prix|2019-05-26|13:10:00|http://en.wikiped...|      NULL|    NULL|      NULL|    NULL|      NULL|    NULL|      NULL|      NULL|       NULL|       NULL|\n|  1016|2019|    7|        7| Canadian Grand Prix|2019-06-09|18:10:00|http://en.wikiped...|      NULL|    NULL|      NULL|    NULL|      NULL|    NULL|      NULL|      NULL|       NULL|       NULL|\n|  1017|2019|    8|       34|   French Grand Prix|2019-06-23|13:10:00|http://en.wikiped...|      NULL|    NULL|      NULL|    NULL|      NULL|    NULL|      NULL|      NULL|       NULL|       NULL|\n|  1018|2019|    9|       70| Austrian Grand Prix|2019-06-30|13:10:00|http://en.wikiped...|      NULL|    NULL|      NULL|    NULL|      NULL|    NULL|      NULL|      NULL|       NULL|       NULL|\n|  1019|2019|   10|        9|  British Grand Prix|2019-07-14|13:10:00|http://en.wikiped...|      NULL|    NULL|      NULL|    NULL|      NULL|    NULL|      NULL|      NULL|       NULL|       NULL|\n|  1020|2019|   11|       10|   German Grand Prix|2019-07-28|13:10:00|http://en.wikiped...|      NULL|    NULL|      NULL|    NULL|      NULL|    NULL|      NULL|      NULL|       NULL|       NULL|\n|  1021|2019|   12|       11|Hungarian Grand Prix|2019-08-04|13:10:00|http://en.wikiped...|      NULL|    NULL|      NULL|    NULL|      NULL|    NULL|      NULL|      NULL|       NULL|       NULL|\n|  1022|2019|   13|       13|  Belgian Grand Prix|2019-09-01|13:10:00|http://en.wikiped...|      NULL|    NULL|      NULL|    NULL|      NULL|    NULL|      NULL|      NULL|       NULL|       NULL|\n|  1023|2019|   14|       14|  Italian Grand Prix|2019-09-08|13:10:00|http://en.wikiped...|      NULL|    NULL|      NULL|    NULL|      NULL|    NULL|      NULL|      NULL|       NULL|       NULL|\n|  1024|2019|   15|       15|Singapore Grand Prix|2019-09-22|12:10:00|http://en.wikiped...|      NULL|    NULL|      NULL|    NULL|      NULL|    NULL|      NULL|      NULL|       NULL|       NULL|\n|  1025|2019|   16|       71|  Russian Grand Prix|2019-09-29|11:10:00|http://en.wikiped...|      NULL|    NULL|      NULL|    NULL|      NULL|    NULL|      NULL|      NULL|       NULL|       NULL|\n|  1026|2019|   17|       22| Japanese Grand Prix|2019-10-13|05:10:00|http://en.wikiped...|      NULL|    NULL|      NULL|    NULL|      NULL|    NULL|      NULL|      NULL|       NULL|       NULL|\n|  1027|2019|   18|       32|  Mexican Grand Prix|2019-10-27|19:10:00|http://en.wikiped...|      NULL|    NULL|      NULL|    NULL|      NULL|    NULL|      NULL|      NULL|       NULL|       NULL|\n|  1028|2019|   19|       69|United States Gra...|2019-11-03|19:10:00|http://en.wikiped...|      NULL|    NULL|      NULL|    NULL|      NULL|    NULL|      NULL|      NULL|       NULL|       NULL|\n|  1029|2019|   20|       18|Brazilian Grand Prix|2019-11-17|17:10:00|http://en.wikiped...|      NULL|    NULL|      NULL|    NULL|      NULL|    NULL|      NULL|      NULL|       NULL|       NULL|\n|  1030|2019|   21|       24|Abu Dhabi Grand Prix|2019-12-01|13:10:00|http://en.wikiped...|      NULL|    NULL|      NULL|    NULL|      NULL|    NULL|      NULL|      NULL|       NULL|       NULL|\n|  1031|2020|    1|       70| Austrian Grand Prix|2020-07-05|13:10:00|http://en.wikiped...|      NULL|    NULL|      NULL|    NULL|      NULL|    NULL|      NULL|      NULL|       NULL|       NULL|\n|  1032|2020|    2|       70|  Styrian Grand Prix|2020-07-12|13:10:00|http://en.wikiped...|      NULL|    NULL|      NULL|    NULL|      NULL|    NULL|      NULL|      NULL|       NULL|       NULL|\n|  1033|2020|    3|       11|Hungarian Grand Prix|2020-07-19|13:10:00|http://en.wikiped...|      NULL|    NULL|      NULL|    NULL|      NULL|    NULL|      NULL|      NULL|       NULL|       NULL|\n|  1034|2020|    4|        9|  British Grand Prix|2020-08-02|13:10:00|http://en.wikiped...|      NULL|    NULL|      NULL|    NULL|      NULL|    NULL|      NULL|      NULL|       NULL|       NULL|\n|  1035|2020|    5|        9|70th Anniversary ...|2020-08-09|13:10:00|http://en.wikiped...|      NULL|    NULL|      NULL|    NULL|      NULL|    NULL|      NULL|      NULL|       NULL|       NULL|\n|  1036|2020|    6|        4|  Spanish Grand Prix|2020-08-16|13:10:00|http://en.wikiped...|      NULL|    NULL|      NULL|    NULL|      NULL|    NULL|      NULL|      NULL|       NULL|       NULL|\n|  1037|2020|    7|       13|  Belgian Grand Prix|2020-08-30|13:10:00|http://en.wikiped...|      NULL|    NULL|      NULL|    NULL|      NULL|    NULL|      NULL|      NULL|       NULL|       NULL|\n|  1038|2020|    8|       14|  Italian Grand Prix|2020-09-06|13:10:00|http://en.wikiped...|      NULL|    NULL|      NULL|    NULL|      NULL|    NULL|      NULL|      NULL|       NULL|       NULL|\n|  1039|2020|    9|       76|   Tuscan Grand Prix|2020-09-13|13:10:00|http://en.wikiped...|      NULL|    NULL|      NULL|    NULL|      NULL|    NULL|      NULL|      NULL|       NULL|       NULL|\n|  1040|2020|   10|       71|  Russian Grand Prix|2020-09-27|11:10:00|http://en.wikiped...|      NULL|    NULL|      NULL|    NULL|      NULL|    NULL|      NULL|      NULL|       NULL|       NULL|\n|  1041|2020|   11|       20|    Eifel Grand Prix|2020-10-11|13:10:00|http://en.wikiped...|      NULL|    NULL|      NULL|    NULL|      NULL|    NULL|      NULL|      NULL|       NULL|       NULL|\n|  1042|2020|   12|       75|Portuguese Grand ...|2020-10-25|12:10:00|http://en.wikiped...|      NULL|    NULL|      NULL|    NULL|      NULL|    NULL|      NULL|      NULL|       NULL|       NULL|\n|  1043|2020|   13|       21|Emilia Romagna Gr...|2020-11-01|12:10:00|http://en.wikiped...|      NULL|    NULL|      NULL|    NULL|      NULL|    NULL|      NULL|      NULL|       NULL|       NULL|\n|  1044|2020|   14|        5|  Turkish Grand Prix|2020-11-15|10:10:00|http://en.wikiped...|      NULL|    NULL|      NULL|    NULL|      NULL|    NULL|      NULL|      NULL|       NULL|       NULL|\n|  1045|2020|   15|        3|  Bahrain Grand Prix|2020-11-29|14:10:00|http://en.wikiped...|      NULL|    NULL|      NULL|    NULL|      NULL|    NULL|      NULL|      NULL|       NULL|       NULL|\n|  1046|2020|   16|        3|   Sakhir Grand Prix|2020-12-06|17:10:00|http://en.wikiped...|      NULL|    NULL|      NULL|    NULL|      NULL|    NULL|      NULL|      NULL|       NULL|       NULL|\n|  1047|2020|   17|       24|Abu Dhabi Grand Prix|2020-12-13|13:10:00|http://en.wikiped...|      NULL|    NULL|      NULL|    NULL|      NULL|    NULL|      NULL|      NULL|       NULL|       NULL|\n|  1051|2021|   20|       78|    Qatar Grand Prix|2021-11-21|14:00:00|http://en.wikiped...|2021-11-19|    NULL|2021-11-19|    NULL|2021-11-20|    NULL|2021-11-20|      NULL|       NULL|       NULL|\n|  1052|2021|    1|        3|  Bahrain Grand Prix|2021-03-28|15:00:00|http://en.wikiped...|2021-03-26|    NULL|2021-03-26|    NULL|2021-03-27|    NULL|2021-03-27|      NULL|       NULL|       NULL|\n|  1053|2021|    2|       21|Emilia Romagna Gr...|2021-04-18|13:00:00|http://en.wikiped...|2021-04-16|    NULL|2021-04-16|    NULL|2021-04-17|    NULL|2021-04-17|      NULL|       NULL|       NULL|\n|  1054|2021|    3|       75|Portuguese Grand ...|2021-05-02|14:00:00|http://en.wikiped...|2021-04-30|    NULL|2021-04-30|    NULL|2021-05-01|    NULL|2021-05-01|      NULL|       NULL|       NULL|\n|  1055|2021|    4|        4|  Spanish Grand Prix|2021-05-09|13:00:00|http://en.wikiped...|2021-05-07|    NULL|2021-05-07|    NULL|2021-05-08|    NULL|2021-05-08|      NULL|       NULL|       NULL|\n|  1056|2021|    5|        6|   Monaco Grand Prix|2021-05-23|13:00:00|http://en.wikiped...|2021-05-21|    NULL|2021-05-21|    NULL|2021-05-22|    NULL|2021-05-22|      NULL|       NULL|       NULL|\n|  1057|2021|    6|       73|Azerbaijan Grand ...|2021-06-06|12:00:00|http://en.wikiped...|2021-06-04|    NULL|2021-06-04|    NULL|2021-06-05|    NULL|2021-06-05|      NULL|       NULL|       NULL|\n|  1058|2021|    8|       70|  Styrian Grand Prix|2021-06-27|13:00:00|http://en.wikiped...|2021-06-25|    NULL|2021-06-25|    NULL|2021-06-26|    NULL|2021-06-26|      NULL|       NULL|       NULL|\n|  1059|2021|    7|       34|   French Grand Prix|2021-06-20|13:00:00|http://en.wikiped...|2021-06-18|    NULL|2021-06-18|    NULL|2021-06-19|    NULL|2021-06-19|      NULL|       NULL|       NULL|\n|  1060|2021|    9|       70| Austrian Grand Prix|2021-07-04|13:00:00|http://en.wikiped...|2021-07-02|    NULL|2021-07-02|    NULL|2021-07-03|    NULL|2021-07-03|      NULL|       NULL|       NULL|\n|  1061|2021|   10|        9|  British Grand Prix|2021-07-18|14:00:00|http://en.wikiped...|2021-07-16|    NULL|2021-07-17|    NULL|      NULL|    NULL|2021-07-16|      NULL| 2021-07-17|       NULL|\n|  1062|2021|   11|       11|Hungarian Grand Prix|2021-08-01|13:00:00|http://en.wikiped...|2021-07-30|    NULL|2021-07-30|    NULL|2021-07-31|    NULL|2021-07-31|      NULL|       NULL|       NULL|\n|  1063|2021|   12|       13|  Belgian Grand Prix|2021-08-29|13:00:00|http://en.wikiped...|2021-08-27|    NULL|2021-08-27|    NULL|2021-08-28|    NULL|2021-08-28|      NULL|       NULL|       NULL|\n|  1064|2021|   13|       39|    Dutch Grand Prix|2021-09-05|13:00:00|http://en.wikiped...|2021-09-03|    NULL|2021-09-03|    NULL|2021-09-04|    NULL|2021-09-04|      NULL|       NULL|       NULL|\n|  1065|2021|   14|       14|  Italian Grand Prix|2021-09-12|13:00:00|http://en.wikiped...|2021-09-10|    NULL|2021-09-11|    NULL|      NULL|    NULL|2021-09-10|      NULL| 2021-09-11|       NULL|\n|  1066|2021|   15|       71|  Russian Grand Prix|2021-09-26|12:00:00|http://en.wikiped...|2021-09-24|    NULL|2021-09-24|    NULL|2021-09-25|    NULL|2021-09-25|      NULL|       NULL|       NULL|\n|  1067|2021|   16|        5|  Turkish Grand Prix|2021-10-10|12:00:00|http://en.wikiped...|2021-10-08|    NULL|2021-10-08|    NULL|2021-10-09|    NULL|2021-10-09|      NULL|       NULL|       NULL|\n|  1069|2021|   17|       69|United States Gra...|2021-10-24|19:00:00|http://en.wikiped...|2021-10-22|    NULL|2021-10-22|    NULL|2021-10-23|    NULL|2021-10-23|      NULL|       NULL|       NULL|\n|  1070|2021|   18|       32|Mexico City Grand...|2021-11-07|19:00:00|http://en.wikiped...|2021-11-05|    NULL|2021-11-05|    NULL|2021-11-06|    NULL|2021-11-06|      NULL|       NULL|       NULL|\n|  1071|2021|   19|       18|São Paulo Grand Prix|2021-11-14|17:00:00|http://en.wikiped...|2021-11-12|    NULL|2021-11-13|    NULL|      NULL|    NULL|2021-11-12|      NULL| 2021-11-13|       NULL|\n|  1072|2021|   21|       77|Saudi Arabian Gra...|2021-12-05|17:30:00|http://en.wikiped...|2021-12-03|    NULL|2021-12-03|    NULL|2021-12-04|    NULL|2021-12-04|      NULL|       NULL|       NULL|\n|  1073|2021|   22|       24|Abu Dhabi Grand Prix|2021-12-12|13:00:00|http://en.wikiped...|2021-12-10|    NULL|2021-12-10|    NULL|2021-12-11|    NULL|2021-12-11|      NULL|       NULL|       NULL|\n|  1074|2022|    1|        3|  Bahrain Grand Prix|2022-03-20|15:00:00|http://en.wikiped...|2022-03-18|12:00:00|2022-03-18|15:00:00|2022-03-19|12:00:00|2022-03-19|  15:00:00|       NULL|       NULL|\n|  1075|2022|    2|       77|Saudi Arabian Gra...|2022-03-27|17:00:00|http://en.wikiped...|2022-03-25|14:00:00|2022-03-25|17:00:00|2022-03-26|14:00:00|2022-03-26|  17:00:00|       NULL|       NULL|\n|  1076|2022|    3|        1|Australian Grand ...|2022-04-10|05:00:00|http://en.wikiped...|2022-04-08|03:00:00|2022-04-08|06:00:00|2022-04-09|03:00:00|2022-04-09|  06:00:00|       NULL|       NULL|\n|  1077|2022|    4|       21|Emilia Romagna Gr...|2022-04-24|13:00:00|http://en.wikiped...|2022-04-22|11:30:00|2022-04-23|10:30:00|      NULL|    NULL|2022-04-22|  15:00:00| 2022-04-23|   14:30:00|\n|  1078|2022|    5|       79|    Miami Grand Prix|2022-05-08|19:30:00|http://en.wikiped...|2022-05-06|18:30:00|2022-05-06|21:30:00|2022-05-07|17:00:00|2022-05-07|  20:00:00|       NULL|       NULL|\n|  1079|2022|    6|        4|  Spanish Grand Prix|2022-05-22|13:00:00|http://en.wikiped...|2022-05-20|12:00:00|2022-05-20|15:00:00|2022-05-21|11:00:00|2022-05-21|  14:00:00|       NULL|       NULL|\n|  1080|2022|    7|        6|   Monaco Grand Prix|2022-05-29|13:00:00|http://en.wikiped...|2022-05-27|12:00:00|2022-05-27|15:00:00|2022-05-28|11:00:00|2022-05-28|  14:00:00|       NULL|       NULL|\n|  1081|2022|    8|       73|Azerbaijan Grand ...|2022-06-12|11:00:00|http://en.wikiped...|2022-06-10|11:00:00|2022-06-10|14:00:00|2022-06-11|11:00:00|2022-06-11|  14:00:00|       NULL|       NULL|\n|  1082|2022|    9|        7| Canadian Grand Prix|2022-06-19|18:00:00|http://en.wikiped...|2022-06-17|18:00:00|2022-06-17|21:00:00|2022-06-18|17:00:00|2022-06-18|  20:00:00|       NULL|       NULL|\n|  1083|2022|   10|        9|  British Grand Prix|2022-07-03|14:00:00|http://en.wikiped...|2022-07-01|12:00:00|2022-07-01|15:00:00|2022-07-02|11:00:00|2022-07-02|  14:00:00|       NULL|       NULL|\n|  1084|2022|   11|       70| Austrian Grand Prix|2022-07-10|13:00:00|http://en.wikiped...|2022-07-08|11:30:00|2022-07-09|10:30:00|      NULL|    NULL|2022-07-08|  15:00:00| 2022-07-09|   14:30:00|\n|  1085|2022|   12|       34|   French Grand Prix|2022-07-24|13:00:00|http://en.wikiped...|2022-07-22|12:00:00|2022-07-22|15:00:00|2022-07-23|11:00:00|2022-07-23|  14:00:00|       NULL|       NULL|\n|  1086|2022|   13|       11|Hungarian Grand Prix|2022-07-31|13:00:00|http://en.wikiped...|2022-07-29|12:00:00|2022-07-29|15:00:00|2022-07-30|11:00:00|2022-07-30|  14:00:00|       NULL|       NULL|\n|  1087|2022|   14|       13|  Belgian Grand Prix|2022-08-28|13:00:00|http://en.wikiped...|2022-08-26|12:00:00|2022-08-26|15:00:00|2022-08-27|11:00:00|2022-08-27|  14:00:00|       NULL|       NULL|\n|  1088|2022|   15|       39|    Dutch Grand Prix|2022-09-04|13:00:00|http://en.wikiped...|2022-09-02|10:30:00|2022-09-02|14:00:00|2022-09-03|10:00:00|2022-09-03|  13:00:00|       NULL|       NULL|\n|  1089|2022|   16|       14|  Italian Grand Prix|2022-09-11|13:00:00|http://en.wikiped...|2022-09-09|12:00:00|2022-09-09|15:00:00|2022-09-10|11:00:00|2022-09-10|  14:00:00|       NULL|       NULL|\n|  1091|2022|   17|       15|Singapore Grand Prix|2022-10-02|12:00:00|http://en.wikiped...|2022-09-30|10:00:00|2022-09-30|13:00:00|2022-10-01|10:00:00|2022-10-01|  13:00:00|       NULL|       NULL|\n|  1092|2022|   18|       22| Japanese Grand Prix|2022-10-09|05:00:00|http://en.wikiped...|2022-10-07|03:00:00|2022-10-07|06:00:00|2022-10-08|03:00:00|2022-10-08|  06:00:00|       NULL|       NULL|\n|  1093|2022|   19|       69|United States Gra...|2022-10-23|19:00:00|http://en.wikiped...|2022-10-21|19:00:00|2022-10-21|22:00:00|2022-10-22|19:00:00|2022-10-22|  22:00:00|       NULL|       NULL|\n|  1094|2022|   20|       32|Mexico City Grand...|2022-10-30|20:00:00|http://en.wikiped...|2022-10-28|18:00:00|2022-10-28|21:00:00|2022-10-29|17:00:00|2022-10-29|  20:00:00|       NULL|       NULL|\n|  1095|2022|   21|       18|São Paulo Grand Prix|2022-11-13|18:00:00|http://en.wikiped...|2022-11-11|15:30:00|2022-11-12|15:30:00|      NULL|    NULL|2022-11-11|  19:00:00| 2022-11-12|   19:30:00|\n|  1096|2022|   22|       24|Abu Dhabi Grand Prix|2022-11-20|13:00:00|http://en.wikiped...|2022-11-18|10:00:00|2022-11-18|13:00:00|2022-11-19|11:00:00|2022-11-19|  14:00:00|       NULL|       NULL|\n|  1098|2023|    1|        3|  Bahrain Grand Prix|2023-03-05|15:00:00|https://en.wikipe...|2023-03-03|11:30:00|2023-03-03|15:00:00|2023-03-04|11:30:00|2023-03-04|  15:00:00|       NULL|       NULL|\n|  1099|2023|    2|       77|Saudi Arabian Gra...|2023-03-19|17:00:00|https://en.wikipe...|2023-03-17|13:30:00|2023-03-17|17:00:00|2023-03-18|13:30:00|2023-03-18|  17:00:00|       NULL|       NULL|\n|  1100|2023|    3|        1|Australian Grand ...|2023-04-02|05:00:00|https://en.wikipe...|2023-03-31|01:30:00|2023-03-31|05:00:00|2023-04-01|01:30:00|2023-04-01|  05:00:00|       NULL|       NULL|\n|  1101|2023|    4|       73|Azerbaijan Grand ...|2023-04-30|11:00:00|https://en.wikipe...|2023-04-28|09:30:00|2023-04-29|09:30:00|      NULL|    NULL|2023-04-28|  13:00:00| 2023-04-29|   13:30:00|\n|  1102|2023|    5|       79|    Miami Grand Prix|2023-05-07|19:30:00|https://en.wikipe...|2023-05-05|18:00:00|2023-05-05|21:30:00|2023-05-06|16:30:00|2023-05-06|  20:00:00|       NULL|       NULL|\n|  1104|2023|    6|        6|   Monaco Grand Prix|2023-05-28|13:00:00|https://en.wikipe...|2023-05-26|11:30:00|2023-05-26|15:00:00|2023-05-27|10:30:00|2023-05-27|  14:00:00|       NULL|       NULL|\n|  1105|2023|    7|        4|  Spanish Grand Prix|2023-06-04|13:00:00|https://en.wikipe...|2023-06-02|11:30:00|2023-06-02|15:00:00|2023-06-03|10:30:00|2023-06-03|  14:00:00|       NULL|       NULL|\n|  1106|2023|    8|        7| Canadian Grand Prix|2023-06-18|18:00:00|https://en.wikipe...|2023-06-16|17:30:00|2023-06-16|21:00:00|2023-06-17|16:30:00|2023-06-17|  20:00:00|       NULL|       NULL|\n|  1107|2023|    9|       70| Austrian Grand Prix|2023-07-02|13:00:00|https://en.wikipe...|2023-06-30|11:30:00|2023-07-01|10:30:00|      NULL|    NULL|2023-06-30|  15:00:00| 2023-07-01|   14:30:00|\n|  1108|2023|   10|        9|  British Grand Prix|2023-07-09|14:00:00|https://en.wikipe...|2023-07-07|11:30:00|2023-07-07|15:00:00|2023-07-08|10:30:00|2023-07-08|  14:00:00|       NULL|       NULL|\n|  1109|2023|   11|       11|Hungarian Grand Prix|2023-07-23|13:00:00|https://en.wikipe...|2023-07-21|11:30:00|2023-07-21|15:00:00|2023-07-22|10:30:00|2023-07-22|  14:00:00|       NULL|       NULL|\n|  1110|2023|   12|       13|  Belgian Grand Prix|2023-07-30|13:00:00|https://en.wikipe...|2023-07-28|11:30:00|2023-07-29|10:30:00|      NULL|    NULL|2023-07-28|  15:00:00| 2023-07-29|   14:30:00|\n|  1111|2023|   13|       39|    Dutch Grand Prix|2023-08-27|13:00:00|https://en.wikipe...|2023-08-25|10:30:00|2023-08-25|14:00:00|2023-08-26|09:30:00|2023-08-26|  13:00:00|       NULL|       NULL|\n|  1112|2023|   14|       14|  Italian Grand Prix|2023-09-03|13:00:00|https://en.wikipe...|2023-09-01|11:30:00|2023-09-01|15:00:00|2023-09-02|10:30:00|2023-09-02|  14:00:00|       NULL|       NULL|\n|  1113|2023|   15|       15|Singapore Grand Prix|2023-09-17|12:00:00|https://en.wikipe...|2023-09-15|09:30:00|2023-09-15|13:00:00|2023-09-16|09:30:00|2023-09-16|  13:00:00|       NULL|       NULL|\n|  1114|2023|   16|       22| Japanese Grand Prix|2023-09-24|05:00:00|https://en.wikipe...|2023-09-22|02:30:00|2023-09-22|06:00:00|2023-09-23|02:30:00|2023-09-23|  06:00:00|       NULL|       NULL|\n|  1115|2023|   17|       78|    Qatar Grand Prix|2023-10-08|17:00:00|https://en.wikipe...|2023-10-06|13:30:00|2023-10-07|13:00:00|      NULL|    NULL|2023-10-06|  17:00:00| 2023-10-07|   17:30:00|\n|  1116|2023|   18|       69|United States Gra...|2023-10-22|19:00:00|https://en.wikipe...|2023-10-20|17:30:00|2023-10-21|18:00:00|      NULL|    NULL|2023-10-20|  21:00:00| 2023-10-21|   22:00:00|\n|  1117|2023|   19|       32|Mexico City Grand...|2023-10-29|20:00:00|https://en.wikipe...|2023-10-27|18:30:00|2023-10-27|22:00:00|2023-10-28|17:30:00|2023-10-28|  21:00:00|       NULL|       NULL|\n|  1118|2023|   20|       18|São Paulo Grand Prix|2023-11-05|17:00:00|https://en.wikipe...|2023-11-03|14:30:00|2023-11-04|14:30:00|      NULL|    NULL|2023-11-03|  18:00:00| 2023-11-04|   18:30:00|\n|  1119|2023|   21|       80|Las Vegas Grand Prix|2023-11-19|06:00:00|https://en.wikipe...|2023-11-16|04:30:00|2023-11-16|08:00:00|2023-11-17|04:30:00|2023-11-17|  08:00:00|       NULL|       NULL|\n|  1120|2023|   22|       24|Abu Dhabi Grand Prix|2023-11-26|13:00:00|https://en.wikipe...|2023-11-24|09:30:00|2023-11-24|13:00:00|2023-11-25|10:30:00|2023-11-25|  14:00:00|       NULL|       NULL|\n|  1121|2024|    1|        3|  Bahrain Grand Prix|2024-03-02|15:00:00|https://en.wikipe...|2024-02-29|11:30:00|2024-02-29|15:00:00|2024-03-01|12:30:00|2024-03-01|  16:00:00|       NULL|       NULL|\n|  1122|2024|    2|       77|Saudi Arabian Gra...|2024-03-09|17:00:00|https://en.wikipe...|2024-03-07|13:30:00|2024-03-07|17:00:00|2024-03-08|13:30:00|2024-03-08|  17:00:00|       NULL|       NULL|\n|  1123|2024|    3|        1|Australian Grand ...|2024-03-24|04:00:00|https://en.wikipe...|2024-03-22|01:30:00|2024-03-22|05:00:00|2024-03-23|01:30:00|2024-03-23|  05:00:00|       NULL|       NULL|\n|  1124|2024|    4|       22| Japanese Grand Prix|2024-04-07|05:00:00|https://en.wikipe...|2024-04-05|02:30:00|2024-04-05|06:00:00|2024-04-06|02:30:00|2024-04-06|  06:00:00|       NULL|       NULL|\n|  1125|2024|    5|       17|  Chinese Grand Prix|2024-04-21|07:00:00|https://en.wikipe...|2024-04-19|03:30:00|2024-04-19|07:30:00|      NULL|    NULL|2024-04-20|  07:00:00| 2024-04-20|   03:00:00|\n|  1126|2024|    6|       79|    Miami Grand Prix|2024-05-05|20:00:00|https://en.wikipe...|2024-05-03|16:30:00|2024-05-03|20:30:00|      NULL|    NULL|2024-05-04|  20:00:00| 2024-05-04|   16:00:00|\n|  1127|2024|    7|       21|Emilia Romagna Gr...|2024-05-19|13:00:00|https://en.wikipe...|2024-05-17|11:30:00|2024-05-17|15:00:00|2024-05-18|10:30:00|2024-05-18|  14:00:00|       NULL|       NULL|\n|  1128|2024|    8|        6|   Monaco Grand Prix|2024-05-26|13:00:00|https://en.wikipe...|2024-05-24|11:30:00|2024-05-24|15:00:00|2024-05-25|10:30:00|2024-05-25|  14:00:00|       NULL|       NULL|\n|  1129|2024|    9|        7| Canadian Grand Prix|2024-06-09|18:00:00|https://en.wikipe...|2024-06-07|17:30:00|2024-06-07|21:00:00|2024-06-08|16:30:00|2024-06-08|  20:00:00|       NULL|       NULL|\n|  1130|2024|   10|        4|  Spanish Grand Prix|2024-06-23|13:00:00|https://en.wikipe...|2024-06-21|11:30:00|2024-06-21|15:00:00|2024-06-22|10:30:00|2024-06-22|  14:00:00|       NULL|       NULL|\n|  1131|2024|   11|       70| Austrian Grand Prix|2024-06-30|13:00:00|https://en.wikipe...|2024-06-28|10:30:00|2024-06-28|14:30:00|      NULL|    NULL|2024-06-29|  14:00:00| 2024-06-29|   10:00:00|\n|  1132|2024|   12|        9|  British Grand Prix|2024-07-07|14:00:00|https://en.wikipe...|2024-07-05|11:30:00|2024-07-05|15:00:00|2024-07-06|10:30:00|2024-07-06|  14:00:00|       NULL|       NULL|\n|  1133|2024|   13|       11|Hungarian Grand Prix|2024-07-21|13:00:00|https://en.wikipe...|2024-07-19|11:30:00|2024-07-19|15:00:00|2024-07-20|10:30:00|2024-07-20|  14:00:00|       NULL|       NULL|\n|  1134|2024|   14|       13|  Belgian Grand Prix|2024-07-28|13:00:00|https://en.wikipe...|2024-07-26|11:30:00|2024-07-26|15:00:00|2024-07-27|10:30:00|2024-07-27|  14:00:00|       NULL|       NULL|\n|  1135|2024|   15|       39|    Dutch Grand Prix|2024-08-25|13:00:00|https://en.wikipe...|2024-08-23|10:30:00|2024-08-23|14:00:00|2024-08-24|09:30:00|2024-08-24|  13:00:00|       NULL|       NULL|\n|  1136|2024|   16|       14|  Italian Grand Prix|2024-09-01|13:00:00|https://en.wikipe...|2024-08-30|11:30:00|2024-08-30|15:00:00|2024-08-31|10:30:00|2024-08-31|  14:00:00|       NULL|       NULL|\n|  1137|2024|   17|       73|Azerbaijan Grand ...|2024-09-15|11:00:00|https://en.wikipe...|2024-09-13|09:30:00|2024-09-13|13:00:00|2024-09-14|08:30:00|2024-09-14|  12:00:00|       NULL|       NULL|\n|  1138|2024|   18|       15|Singapore Grand Prix|2024-09-22|12:00:00|https://en.wikipe...|2024-09-20|09:30:00|2024-09-20|13:00:00|2024-09-21|09:30:00|2024-09-21|  13:00:00|       NULL|       NULL|\n|  1139|2024|   19|       69|United States Gra...|2024-10-20|19:00:00|https://en.wikipe...|2024-10-18|17:30:00|2024-10-18|21:30:00|      NULL|    NULL|2024-10-19|  22:00:00| 2024-10-19|   18:00:00|\n|  1140|2024|   20|       32|Mexico City Grand...|2024-10-27|20:00:00|https://en.wikipe...|2024-10-25|18:30:00|2024-10-25|22:00:00|2024-10-26|17:30:00|2024-10-26|  21:00:00|       NULL|       NULL|\n|  1141|2024|   21|       18|São Paulo Grand Prix|2024-11-03|17:00:00|https://en.wikipe...|2024-11-01|14:30:00|2024-11-01|18:30:00|      NULL|    NULL|2024-11-02|  18:00:00| 2024-11-02|   14:00:00|\n|  1142|2024|   22|       80|Las Vegas Grand Prix|2024-11-23|06:00:00|https://en.wikipe...|2024-11-21|02:30:00|2024-11-21|06:00:00|2024-11-22|02:30:00|2024-11-22|  06:00:00|       NULL|       NULL|\n|  1143|2024|   23|       78|    Qatar Grand Prix|2024-12-01|17:00:00|https://en.wikipe...|2024-11-29|13:30:00|2024-11-29|17:30:00|      NULL|    NULL|2024-11-30|  17:00:00| 2024-11-30|   13:00:00|\n|  1144|2024|   24|       24|Abu Dhabi Grand Prix|2024-12-08|13:00:00|https://en.wikipe...|2024-12-06|09:30:00|2024-12-06|13:00:00|2024-12-07|10:30:00|2024-12-07|  14:00:00|       NULL|       NULL|\n+------+----+-----+---------+--------------------+----------+--------+--------------------+----------+--------+----------+--------+----------+--------+----------+----------+-----------+-----------+\n\n"
     ]
    }
   ],
   "source": [
    "races_df.show(3000)"
   ]
  },
  {
   "cell_type": "code",
   "execution_count": 0,
   "metadata": {
    "application/vnd.databricks.v1+cell": {
     "cellMetadata": {
      "byteLimit": 2048000,
      "rowLimit": 10000
     },
     "inputWidgets": {},
     "nuid": "85326883-b35f-4d6c-aabe-6090dce52652",
     "showTitle": false,
     "title": ""
    }
   },
   "outputs": [],
   "source": [
    "races_df = races_df.fillna({\"time\":\"Unknown\", \"fp1_date\": \"Unknown\", \"fp1_time\": \"Unknown\", \"fp2_date\": \"Unknown\", \"fp2_time\": \"Unknown\", \"fp3_date\": \"Unknown\", \"fp3_time\": \"Unknown\", \"quali_date\": \"Unknown\", \"quali_time\": \"Unknown\", \"sprint_date\": \"Unknown\", \"sprint_time\": \"Unknown\"})\n"
   ]
  },
  {
   "cell_type": "code",
   "execution_count": 0,
   "metadata": {
    "application/vnd.databricks.v1+cell": {
     "cellMetadata": {
      "byteLimit": 2048000,
      "rowLimit": 10000
     },
     "inputWidgets": {},
     "nuid": "6b7bf28a-812e-4e34-bb85-2a84186110a4",
     "showTitle": false,
     "title": ""
    }
   },
   "outputs": [
    {
     "output_type": "stream",
     "name": "stdout",
     "output_type": "stream",
     "text": [
      "+------+----+-----+---------+--------------------+----------+--------+--------------------+----------+--------+----------+--------+----------+--------+----------+----------+-----------+-----------+\n|raceId|year|round|circuitId|                name|      date|    time|                 url|  fp1_date|fp1_time|  fp2_date|fp2_time|  fp3_date|fp3_time|quali_date|quali_time|sprint_date|sprint_time|\n+------+----+-----+---------+--------------------+----------+--------+--------------------+----------+--------+----------+--------+----------+--------+----------+----------+-----------+-----------+\n|     1|2009|    1|        1|Australian Grand ...|2009-03-29|06:00:00|http://en.wikiped...|   Unknown| Unknown|   Unknown| Unknown|   Unknown| Unknown|   Unknown|   Unknown|    Unknown|    Unknown|\n|     2|2009|    2|        2|Malaysian Grand Prix|2009-04-05|09:00:00|http://en.wikiped...|   Unknown| Unknown|   Unknown| Unknown|   Unknown| Unknown|   Unknown|   Unknown|    Unknown|    Unknown|\n|     3|2009|    3|       17|  Chinese Grand Prix|2009-04-19|07:00:00|http://en.wikiped...|   Unknown| Unknown|   Unknown| Unknown|   Unknown| Unknown|   Unknown|   Unknown|    Unknown|    Unknown|\n|     4|2009|    4|        3|  Bahrain Grand Prix|2009-04-26|12:00:00|http://en.wikiped...|   Unknown| Unknown|   Unknown| Unknown|   Unknown| Unknown|   Unknown|   Unknown|    Unknown|    Unknown|\n|     5|2009|    5|        4|  Spanish Grand Prix|2009-05-10|12:00:00|http://en.wikiped...|   Unknown| Unknown|   Unknown| Unknown|   Unknown| Unknown|   Unknown|   Unknown|    Unknown|    Unknown|\n|     6|2009|    6|        6|   Monaco Grand Prix|2009-05-24|12:00:00|http://en.wikiped...|   Unknown| Unknown|   Unknown| Unknown|   Unknown| Unknown|   Unknown|   Unknown|    Unknown|    Unknown|\n|     7|2009|    7|        5|  Turkish Grand Prix|2009-06-07|12:00:00|http://en.wikiped...|   Unknown| Unknown|   Unknown| Unknown|   Unknown| Unknown|   Unknown|   Unknown|    Unknown|    Unknown|\n|     8|2009|    8|        9|  British Grand Prix|2009-06-21|12:00:00|http://en.wikiped...|   Unknown| Unknown|   Unknown| Unknown|   Unknown| Unknown|   Unknown|   Unknown|    Unknown|    Unknown|\n|     9|2009|    9|       20|   German Grand Prix|2009-07-12|12:00:00|http://en.wikiped...|   Unknown| Unknown|   Unknown| Unknown|   Unknown| Unknown|   Unknown|   Unknown|    Unknown|    Unknown|\n|    10|2009|   10|       11|Hungarian Grand Prix|2009-07-26|12:00:00|http://en.wikiped...|   Unknown| Unknown|   Unknown| Unknown|   Unknown| Unknown|   Unknown|   Unknown|    Unknown|    Unknown|\n|    11|2009|   11|       12| European Grand Prix|2009-08-23|12:00:00|http://en.wikiped...|   Unknown| Unknown|   Unknown| Unknown|   Unknown| Unknown|   Unknown|   Unknown|    Unknown|    Unknown|\n|    12|2009|   12|       13|  Belgian Grand Prix|2009-08-30|12:00:00|http://en.wikiped...|   Unknown| Unknown|   Unknown| Unknown|   Unknown| Unknown|   Unknown|   Unknown|    Unknown|    Unknown|\n|    13|2009|   13|       14|  Italian Grand Prix|2009-09-13|12:00:00|http://en.wikiped...|   Unknown| Unknown|   Unknown| Unknown|   Unknown| Unknown|   Unknown|   Unknown|    Unknown|    Unknown|\n|    14|2009|   14|       15|Singapore Grand Prix|2009-09-27|12:00:00|http://en.wikiped...|   Unknown| Unknown|   Unknown| Unknown|   Unknown| Unknown|   Unknown|   Unknown|    Unknown|    Unknown|\n|    15|2009|   15|       22| Japanese Grand Prix|2009-10-04|05:00:00|http://en.wikiped...|   Unknown| Unknown|   Unknown| Unknown|   Unknown| Unknown|   Unknown|   Unknown|    Unknown|    Unknown|\n|    16|2009|   16|       18|Brazilian Grand Prix|2009-10-18|16:00:00|http://en.wikiped...|   Unknown| Unknown|   Unknown| Unknown|   Unknown| Unknown|   Unknown|   Unknown|    Unknown|    Unknown|\n|    17|2009|   17|       24|Abu Dhabi Grand Prix|2009-11-01|11:00:00|http://en.wikiped...|   Unknown| Unknown|   Unknown| Unknown|   Unknown| Unknown|   Unknown|   Unknown|    Unknown|    Unknown|\n|    18|2008|    1|        1|Australian Grand ...|2008-03-16|04:30:00|http://en.wikiped...|   Unknown| Unknown|   Unknown| Unknown|   Unknown| Unknown|   Unknown|   Unknown|    Unknown|    Unknown|\n|    19|2008|    2|        2|Malaysian Grand Prix|2008-03-23|07:00:00|http://en.wikiped...|   Unknown| Unknown|   Unknown| Unknown|   Unknown| Unknown|   Unknown|   Unknown|    Unknown|    Unknown|\n|    20|2008|    3|        3|  Bahrain Grand Prix|2008-04-06|11:30:00|http://en.wikiped...|   Unknown| Unknown|   Unknown| Unknown|   Unknown| Unknown|   Unknown|   Unknown|    Unknown|    Unknown|\n|    21|2008|    4|        4|  Spanish Grand Prix|2008-04-27|12:00:00|http://en.wikiped...|   Unknown| Unknown|   Unknown| Unknown|   Unknown| Unknown|   Unknown|   Unknown|    Unknown|    Unknown|\n|    22|2008|    5|        5|  Turkish Grand Prix|2008-05-11|12:00:00|http://en.wikiped...|   Unknown| Unknown|   Unknown| Unknown|   Unknown| Unknown|   Unknown|   Unknown|    Unknown|    Unknown|\n|    23|2008|    6|        6|   Monaco Grand Prix|2008-05-25|12:00:00|http://en.wikiped...|   Unknown| Unknown|   Unknown| Unknown|   Unknown| Unknown|   Unknown|   Unknown|    Unknown|    Unknown|\n|    24|2008|    7|        7| Canadian Grand Prix|2008-06-08|17:00:00|http://en.wikiped...|   Unknown| Unknown|   Unknown| Unknown|   Unknown| Unknown|   Unknown|   Unknown|    Unknown|    Unknown|\n|    25|2008|    8|        8|   French Grand Prix|2008-06-22|12:00:00|http://en.wikiped...|   Unknown| Unknown|   Unknown| Unknown|   Unknown| Unknown|   Unknown|   Unknown|    Unknown|    Unknown|\n|    26|2008|    9|        9|  British Grand Prix|2008-07-06|12:00:00|http://en.wikiped...|   Unknown| Unknown|   Unknown| Unknown|   Unknown| Unknown|   Unknown|   Unknown|    Unknown|    Unknown|\n|    27|2008|   10|       10|   German Grand Prix|2008-07-20|12:00:00|http://en.wikiped...|   Unknown| Unknown|   Unknown| Unknown|   Unknown| Unknown|   Unknown|   Unknown|    Unknown|    Unknown|\n|    28|2008|   11|       11|Hungarian Grand Prix|2008-08-03|12:00:00|http://en.wikiped...|   Unknown| Unknown|   Unknown| Unknown|   Unknown| Unknown|   Unknown|   Unknown|    Unknown|    Unknown|\n|    29|2008|   12|       12| European Grand Prix|2008-08-24|12:00:00|http://en.wikiped...|   Unknown| Unknown|   Unknown| Unknown|   Unknown| Unknown|   Unknown|   Unknown|    Unknown|    Unknown|\n|    30|2008|   13|       13|  Belgian Grand Prix|2008-09-07|12:00:00|http://en.wikiped...|   Unknown| Unknown|   Unknown| Unknown|   Unknown| Unknown|   Unknown|   Unknown|    Unknown|    Unknown|\n|    31|2008|   14|       14|  Italian Grand Prix|2008-09-14|12:00:00|http://en.wikiped...|   Unknown| Unknown|   Unknown| Unknown|   Unknown| Unknown|   Unknown|   Unknown|    Unknown|    Unknown|\n|    32|2008|   15|       15|Singapore Grand Prix|2008-09-28|12:00:00|http://en.wikiped...|   Unknown| Unknown|   Unknown| Unknown|   Unknown| Unknown|   Unknown|   Unknown|    Unknown|    Unknown|\n|    33|2008|   16|       16| Japanese Grand Prix|2008-10-12|04:30:00|http://en.wikiped...|   Unknown| Unknown|   Unknown| Unknown|   Unknown| Unknown|   Unknown|   Unknown|    Unknown|    Unknown|\n|    34|2008|   17|       17|  Chinese Grand Prix|2008-10-19|07:00:00|http://en.wikiped...|   Unknown| Unknown|   Unknown| Unknown|   Unknown| Unknown|   Unknown|   Unknown|    Unknown|    Unknown|\n|    35|2008|   18|       18|Brazilian Grand Prix|2008-11-02|17:00:00|http://en.wikiped...|   Unknown| Unknown|   Unknown| Unknown|   Unknown| Unknown|   Unknown|   Unknown|    Unknown|    Unknown|\n|    36|2007|    1|        1|Australian Grand ...|2007-03-18|03:00:00|http://en.wikiped...|   Unknown| Unknown|   Unknown| Unknown|   Unknown| Unknown|   Unknown|   Unknown|    Unknown|    Unknown|\n|    37|2007|    2|        2|Malaysian Grand Prix|2007-04-08|07:00:00|http://en.wikiped...|   Unknown| Unknown|   Unknown| Unknown|   Unknown| Unknown|   Unknown|   Unknown|    Unknown|    Unknown|\n|    38|2007|    3|        3|  Bahrain Grand Prix|2007-04-15|11:30:00|http://en.wikiped...|   Unknown| Unknown|   Unknown| Unknown|   Unknown| Unknown|   Unknown|   Unknown|    Unknown|    Unknown|\n|    39|2007|    4|        4|  Spanish Grand Prix|2007-05-13|12:00:00|http://en.wikiped...|   Unknown| Unknown|   Unknown| Unknown|   Unknown| Unknown|   Unknown|   Unknown|    Unknown|    Unknown|\n|    40|2007|    5|        6|   Monaco Grand Prix|2007-05-27|12:00:00|http://en.wikiped...|   Unknown| Unknown|   Unknown| Unknown|   Unknown| Unknown|   Unknown|   Unknown|    Unknown|    Unknown|\n|    41|2007|    6|        7| Canadian Grand Prix|2007-06-10|17:00:00|http://en.wikiped...|   Unknown| Unknown|   Unknown| Unknown|   Unknown| Unknown|   Unknown|   Unknown|    Unknown|    Unknown|\n|    42|2007|    7|       19|United States Gra...|2007-06-17|17:00:00|http://en.wikiped...|   Unknown| Unknown|   Unknown| Unknown|   Unknown| Unknown|   Unknown|   Unknown|    Unknown|    Unknown|\n|    43|2007|    8|        8|   French Grand Prix|2007-07-01|12:00:00|http://en.wikiped...|   Unknown| Unknown|   Unknown| Unknown|   Unknown| Unknown|   Unknown|   Unknown|    Unknown|    Unknown|\n|    44|2007|    9|        9|  British Grand Prix|2007-07-08|12:00:00|http://en.wikiped...|   Unknown| Unknown|   Unknown| Unknown|   Unknown| Unknown|   Unknown|   Unknown|    Unknown|    Unknown|\n|    45|2007|   10|       20| European Grand Prix|2007-07-22|12:00:00|http://en.wikiped...|   Unknown| Unknown|   Unknown| Unknown|   Unknown| Unknown|   Unknown|   Unknown|    Unknown|    Unknown|\n|    46|2007|   11|       11|Hungarian Grand Prix|2007-08-05|12:00:00|http://en.wikiped...|   Unknown| Unknown|   Unknown| Unknown|   Unknown| Unknown|   Unknown|   Unknown|    Unknown|    Unknown|\n|    47|2007|   12|        5|  Turkish Grand Prix|2007-08-26|12:00:00|http://en.wikiped...|   Unknown| Unknown|   Unknown| Unknown|   Unknown| Unknown|   Unknown|   Unknown|    Unknown|    Unknown|\n|    48|2007|   13|       14|  Italian Grand Prix|2007-09-09|12:00:00|http://en.wikiped...|   Unknown| Unknown|   Unknown| Unknown|   Unknown| Unknown|   Unknown|   Unknown|    Unknown|    Unknown|\n|    49|2007|   14|       13|  Belgian Grand Prix|2007-09-16|12:00:00|http://en.wikiped...|   Unknown| Unknown|   Unknown| Unknown|   Unknown| Unknown|   Unknown|   Unknown|    Unknown|    Unknown|\n|    50|2007|   15|       16| Japanese Grand Prix|2007-09-30|04:30:00|http://en.wikiped...|   Unknown| Unknown|   Unknown| Unknown|   Unknown| Unknown|   Unknown|   Unknown|    Unknown|    Unknown|\n|    51|2007|   16|       17|  Chinese Grand Prix|2007-10-07|06:00:00|http://en.wikiped...|   Unknown| Unknown|   Unknown| Unknown|   Unknown| Unknown|   Unknown|   Unknown|    Unknown|    Unknown|\n|    52|2007|   17|       18|Brazilian Grand Prix|2007-10-21|16:00:00|http://en.wikiped...|   Unknown| Unknown|   Unknown| Unknown|   Unknown| Unknown|   Unknown|   Unknown|    Unknown|    Unknown|\n|    53|2006|    1|        3|  Bahrain Grand Prix|2006-03-12|14:30:00|http://en.wikiped...|   Unknown| Unknown|   Unknown| Unknown|   Unknown| Unknown|   Unknown|   Unknown|    Unknown|    Unknown|\n|    54|2006|    2|        2|Malaysian Grand Prix|2006-03-19|15:00:00|http://en.wikiped...|   Unknown| Unknown|   Unknown| Unknown|   Unknown| Unknown|   Unknown|   Unknown|    Unknown|    Unknown|\n|    55|2006|    3|        1|Australian Grand ...|2006-04-02|14:00:00|http://en.wikiped...|   Unknown| Unknown|   Unknown| Unknown|   Unknown| Unknown|   Unknown|   Unknown|    Unknown|    Unknown|\n|    56|2006|    4|       21|San Marino Grand ...|2006-04-23|14:00:00|http://en.wikiped...|   Unknown| Unknown|   Unknown| Unknown|   Unknown| Unknown|   Unknown|   Unknown|    Unknown|    Unknown|\n|    57|2006|    5|       20| European Grand Prix|2006-05-07|14:00:00|http://en.wikiped...|   Unknown| Unknown|   Unknown| Unknown|   Unknown| Unknown|   Unknown|   Unknown|    Unknown|    Unknown|\n|    58|2006|    6|        4|  Spanish Grand Prix|2006-05-14|14:00:00|http://en.wikiped...|   Unknown| Unknown|   Unknown| Unknown|   Unknown| Unknown|   Unknown|   Unknown|    Unknown|    Unknown|\n|    59|2006|    7|        6|   Monaco Grand Prix|2006-05-28|14:00:00|http://en.wikiped...|   Unknown| Unknown|   Unknown| Unknown|   Unknown| Unknown|   Unknown|   Unknown|    Unknown|    Unknown|\n|    60|2006|    8|        9|  British Grand Prix|2006-06-11|12:00:00|http://en.wikiped...|   Unknown| Unknown|   Unknown| Unknown|   Unknown| Unknown|   Unknown|   Unknown|    Unknown|    Unknown|\n|    61|2006|    9|        7| Canadian Grand Prix|2006-06-25|13:00:00|http://en.wikiped...|   Unknown| Unknown|   Unknown| Unknown|   Unknown| Unknown|   Unknown|   Unknown|    Unknown|    Unknown|\n|    62|2006|   10|       19|United States Gra...|2006-07-02|14:00:00|http://en.wikiped...|   Unknown| Unknown|   Unknown| Unknown|   Unknown| Unknown|   Unknown|   Unknown|    Unknown|    Unknown|\n|    63|2006|   11|        8|   French Grand Prix|2006-07-16|14:00:00|http://en.wikiped...|   Unknown| Unknown|   Unknown| Unknown|   Unknown| Unknown|   Unknown|   Unknown|    Unknown|    Unknown|\n|    64|2006|   12|       10|   German Grand Prix|2006-07-30|14:00:00|http://en.wikiped...|   Unknown| Unknown|   Unknown| Unknown|   Unknown| Unknown|   Unknown|   Unknown|    Unknown|    Unknown|\n|    65|2006|   13|       11|Hungarian Grand Prix|2006-08-06|14:00:00|http://en.wikiped...|   Unknown| Unknown|   Unknown| Unknown|   Unknown| Unknown|   Unknown|   Unknown|    Unknown|    Unknown|\n|    66|2006|   14|        5|  Turkish Grand Prix|2006-08-27|15:00:00|http://en.wikiped...|   Unknown| Unknown|   Unknown| Unknown|   Unknown| Unknown|   Unknown|   Unknown|    Unknown|    Unknown|\n|    67|2006|   15|       14|  Italian Grand Prix|2006-09-10|14:00:00|http://en.wikiped...|   Unknown| Unknown|   Unknown| Unknown|   Unknown| Unknown|   Unknown|   Unknown|    Unknown|    Unknown|\n|    68|2006|   16|       17|  Chinese Grand Prix|2006-10-01|14:00:00|http://en.wikiped...|   Unknown| Unknown|   Unknown| Unknown|   Unknown| Unknown|   Unknown|   Unknown|    Unknown|    Unknown|\n|    69|2006|   17|       22| Japanese Grand Prix|2006-10-08|14:00:00|http://en.wikiped...|   Unknown| Unknown|   Unknown| Unknown|   Unknown| Unknown|   Unknown|   Unknown|    Unknown|    Unknown|\n|    70|2006|   18|       18|Brazilian Grand Prix|2006-10-22|14:00:00|http://en.wikiped...|   Unknown| Unknown|   Unknown| Unknown|   Unknown| Unknown|   Unknown|   Unknown|    Unknown|    Unknown|\n|    71|2005|    1|        1|Australian Grand ...|2005-03-06|14:00:00|http://en.wikiped...|   Unknown| Unknown|   Unknown| Unknown|   Unknown| Unknown|   Unknown|   Unknown|    Unknown|    Unknown|\n|    72|2005|    2|        2|Malaysian Grand Prix|2005-03-20|15:00:00|http://en.wikiped...|   Unknown| Unknown|   Unknown| Unknown|   Unknown| Unknown|   Unknown|   Unknown|    Unknown|    Unknown|\n|    73|2005|    3|        3|  Bahrain Grand Prix|2005-04-03|14:30:00|http://en.wikiped...|   Unknown| Unknown|   Unknown| Unknown|   Unknown| Unknown|   Unknown|   Unknown|    Unknown|    Unknown|\n|    74|2005|    4|       21|San Marino Grand ...|2005-04-24|14:00:00|http://en.wikiped...|   Unknown| Unknown|   Unknown| Unknown|   Unknown| Unknown|   Unknown|   Unknown|    Unknown|    Unknown|\n|    75|2005|    5|        4|  Spanish Grand Prix|2005-05-08|14:00:00|http://en.wikiped...|   Unknown| Unknown|   Unknown| Unknown|   Unknown| Unknown|   Unknown|   Unknown|    Unknown|    Unknown|\n|    76|2005|    6|        6|   Monaco Grand Prix|2005-05-22|14:00:00|http://en.wikiped...|   Unknown| Unknown|   Unknown| Unknown|   Unknown| Unknown|   Unknown|   Unknown|    Unknown|    Unknown|\n|    77|2005|    7|       20| European Grand Prix|2005-05-29|14:00:00|http://en.wikiped...|   Unknown| Unknown|   Unknown| Unknown|   Unknown| Unknown|   Unknown|   Unknown|    Unknown|    Unknown|\n|    78|2005|    8|        7| Canadian Grand Prix|2005-06-12|13:00:00|http://en.wikiped...|   Unknown| Unknown|   Unknown| Unknown|   Unknown| Unknown|   Unknown|   Unknown|    Unknown|    Unknown|\n|    79|2005|    9|       19|United States Gra...|2005-06-19|14:00:00|http://en.wikiped...|   Unknown| Unknown|   Unknown| Unknown|   Unknown| Unknown|   Unknown|   Unknown|    Unknown|    Unknown|\n|    80|2005|   10|        8|   French Grand Prix|2005-07-03|14:00:00|http://en.wikiped...|   Unknown| Unknown|   Unknown| Unknown|   Unknown| Unknown|   Unknown|   Unknown|    Unknown|    Unknown|\n|    81|2005|   11|        9|  British Grand Prix|2005-07-10|14:00:00|http://en.wikiped...|   Unknown| Unknown|   Unknown| Unknown|   Unknown| Unknown|   Unknown|   Unknown|    Unknown|    Unknown|\n|    82|2005|   12|       10|   German Grand Prix|2005-07-24|14:00:00|http://en.wikiped...|   Unknown| Unknown|   Unknown| Unknown|   Unknown| Unknown|   Unknown|   Unknown|    Unknown|    Unknown|\n|    83|2005|   13|       11|Hungarian Grand Prix|2005-07-31|14:00:00|http://en.wikiped...|   Unknown| Unknown|   Unknown| Unknown|   Unknown| Unknown|   Unknown|   Unknown|    Unknown|    Unknown|\n|    84|2005|   14|        5|  Turkish Grand Prix|2005-08-21|15:00:00|http://en.wikiped...|   Unknown| Unknown|   Unknown| Unknown|   Unknown| Unknown|   Unknown|   Unknown|    Unknown|    Unknown|\n|    85|2005|   15|       14|  Italian Grand Prix|2005-09-04|14:00:00|http://en.wikiped...|   Unknown| Unknown|   Unknown| Unknown|   Unknown| Unknown|   Unknown|   Unknown|    Unknown|    Unknown|\n|    86|2005|   16|       13|  Belgian Grand Prix|2005-09-11|14:00:00|http://en.wikiped...|   Unknown| Unknown|   Unknown| Unknown|   Unknown| Unknown|   Unknown|   Unknown|    Unknown|    Unknown|\n|    87|2005|   17|       18|Brazilian Grand Prix|2005-09-25|14:00:00|http://en.wikiped...|   Unknown| Unknown|   Unknown| Unknown|   Unknown| Unknown|   Unknown|   Unknown|    Unknown|    Unknown|\n|    88|2005|   18|       22| Japanese Grand Prix|2005-10-09|14:00:00|http://en.wikiped...|   Unknown| Unknown|   Unknown| Unknown|   Unknown| Unknown|   Unknown|   Unknown|    Unknown|    Unknown|\n|    89|2005|   19|       17|  Chinese Grand Prix|2005-10-16|14:00:00|http://en.wikiped...|   Unknown| Unknown|   Unknown| Unknown|   Unknown| Unknown|   Unknown|   Unknown|    Unknown|    Unknown|\n|    90|2004|    1|        1|Australian Grand ...|2004-03-07| Unknown|http://en.wikiped...|   Unknown| Unknown|   Unknown| Unknown|   Unknown| Unknown|   Unknown|   Unknown|    Unknown|    Unknown|\n|    91|2004|    2|        2|Malaysian Grand Prix|2004-03-21| Unknown|http://en.wikiped...|   Unknown| Unknown|   Unknown| Unknown|   Unknown| Unknown|   Unknown|   Unknown|    Unknown|    Unknown|\n|    92|2004|    3|        3|  Bahrain Grand Prix|2004-04-04| Unknown|http://en.wikiped...|   Unknown| Unknown|   Unknown| Unknown|   Unknown| Unknown|   Unknown|   Unknown|    Unknown|    Unknown|\n|    93|2004|    4|       21|San Marino Grand ...|2004-04-25| Unknown|http://en.wikiped...|   Unknown| Unknown|   Unknown| Unknown|   Unknown| Unknown|   Unknown|   Unknown|    Unknown|    Unknown|\n|    94|2004|    5|        4|  Spanish Grand Prix|2004-05-09| Unknown|http://en.wikiped...|   Unknown| Unknown|   Unknown| Unknown|   Unknown| Unknown|   Unknown|   Unknown|    Unknown|    Unknown|\n|    95|2004|    6|        6|   Monaco Grand Prix|2004-05-23| Unknown|http://en.wikiped...|   Unknown| Unknown|   Unknown| Unknown|   Unknown| Unknown|   Unknown|   Unknown|    Unknown|    Unknown|\n|    96|2004|    7|       20| European Grand Prix|2004-05-30| Unknown|http://en.wikiped...|   Unknown| Unknown|   Unknown| Unknown|   Unknown| Unknown|   Unknown|   Unknown|    Unknown|    Unknown|\n|    97|2004|    8|        7| Canadian Grand Prix|2004-06-13| Unknown|http://en.wikiped...|   Unknown| Unknown|   Unknown| Unknown|   Unknown| Unknown|   Unknown|   Unknown|    Unknown|    Unknown|\n|    98|2004|    9|       19|United States Gra...|2004-06-20| Unknown|http://en.wikiped...|   Unknown| Unknown|   Unknown| Unknown|   Unknown| Unknown|   Unknown|   Unknown|    Unknown|    Unknown|\n|    99|2004|   10|        8|   French Grand Prix|2004-07-04| Unknown|http://en.wikiped...|   Unknown| Unknown|   Unknown| Unknown|   Unknown| Unknown|   Unknown|   Unknown|    Unknown|    Unknown|\n|   100|2004|   11|        9|  British Grand Prix|2004-07-11| Unknown|http://en.wikiped...|   Unknown| Unknown|   Unknown| Unknown|   Unknown| Unknown|   Unknown|   Unknown|    Unknown|    Unknown|\n|   101|2004|   12|       10|   German Grand Prix|2004-07-25| Unknown|http://en.wikiped...|   Unknown| Unknown|   Unknown| Unknown|   Unknown| Unknown|   Unknown|   Unknown|    Unknown|    Unknown|\n|   102|2004|   13|       11|Hungarian Grand Prix|2004-08-15| Unknown|http://en.wikiped...|   Unknown| Unknown|   Unknown| Unknown|   Unknown| Unknown|   Unknown|   Unknown|    Unknown|    Unknown|\n|   103|2004|   14|       13|  Belgian Grand Prix|2004-08-29| Unknown|http://en.wikiped...|   Unknown| Unknown|   Unknown| Unknown|   Unknown| Unknown|   Unknown|   Unknown|    Unknown|    Unknown|\n|   104|2004|   15|       14|  Italian Grand Prix|2004-09-12| Unknown|http://en.wikiped...|   Unknown| Unknown|   Unknown| Unknown|   Unknown| Unknown|   Unknown|   Unknown|    Unknown|    Unknown|\n|   105|2004|   16|       17|  Chinese Grand Prix|2004-09-26| Unknown|http://en.wikiped...|   Unknown| Unknown|   Unknown| Unknown|   Unknown| Unknown|   Unknown|   Unknown|    Unknown|    Unknown|\n|   106|2004|   17|       22| Japanese Grand Prix|2004-10-10| Unknown|http://en.wikiped...|   Unknown| Unknown|   Unknown| Unknown|   Unknown| Unknown|   Unknown|   Unknown|    Unknown|    Unknown|\n|   107|2004|   18|       18|Brazilian Grand Prix|2004-10-24| Unknown|http://en.wikiped...|   Unknown| Unknown|   Unknown| Unknown|   Unknown| Unknown|   Unknown|   Unknown|    Unknown|    Unknown|\n|   108|2003|    1|        1|Australian Grand ...|2003-03-09| Unknown|http://en.wikiped...|   Unknown| Unknown|   Unknown| Unknown|   Unknown| Unknown|   Unknown|   Unknown|    Unknown|    Unknown|\n|   109|2003|    2|        2|Malaysian Grand Prix|2003-03-23| Unknown|http://en.wikiped...|   Unknown| Unknown|   Unknown| Unknown|   Unknown| Unknown|   Unknown|   Unknown|    Unknown|    Unknown|\n|   110|2003|    3|       18|Brazilian Grand Prix|2003-04-06| Unknown|http://en.wikiped...|   Unknown| Unknown|   Unknown| Unknown|   Unknown| Unknown|   Unknown|   Unknown|    Unknown|    Unknown|\n|   111|2003|    4|       21|San Marino Grand ...|2003-04-20| Unknown|http://en.wikiped...|   Unknown| Unknown|   Unknown| Unknown|   Unknown| Unknown|   Unknown|   Unknown|    Unknown|    Unknown|\n|   112|2003|    5|        4|  Spanish Grand Prix|2003-05-04| Unknown|http://en.wikiped...|   Unknown| Unknown|   Unknown| Unknown|   Unknown| Unknown|   Unknown|   Unknown|    Unknown|    Unknown|\n|   113|2003|    6|       70| Austrian Grand Prix|2003-05-18| Unknown|http://en.wikiped...|   Unknown| Unknown|   Unknown| Unknown|   Unknown| Unknown|   Unknown|   Unknown|    Unknown|    Unknown|\n|   114|2003|    7|        6|   Monaco Grand Prix|2003-06-01| Unknown|http://en.wikiped...|   Unknown| Unknown|   Unknown| Unknown|   Unknown| Unknown|   Unknown|   Unknown|    Unknown|    Unknown|\n|   115|2003|    8|        7| Canadian Grand Prix|2003-06-15| Unknown|http://en.wikiped...|   Unknown| Unknown|   Unknown| Unknown|   Unknown| Unknown|   Unknown|   Unknown|    Unknown|    Unknown|\n|   116|2003|    9|       20| European Grand Prix|2003-06-29| Unknown|http://en.wikiped...|   Unknown| Unknown|   Unknown| Unknown|   Unknown| Unknown|   Unknown|   Unknown|    Unknown|    Unknown|\n|   117|2003|   10|        8|   French Grand Prix|2003-07-06| Unknown|http://en.wikiped...|   Unknown| Unknown|   Unknown| Unknown|   Unknown| Unknown|   Unknown|   Unknown|    Unknown|    Unknown|\n|   118|2003|   11|        9|  British Grand Prix|2003-07-20| Unknown|http://en.wikiped...|   Unknown| Unknown|   Unknown| Unknown|   Unknown| Unknown|   Unknown|   Unknown|    Unknown|    Unknown|\n|   119|2003|   12|       10|   German Grand Prix|2003-08-03| Unknown|http://en.wikiped...|   Unknown| Unknown|   Unknown| Unknown|   Unknown| Unknown|   Unknown|   Unknown|    Unknown|    Unknown|\n|   120|2003|   13|       11|Hungarian Grand Prix|2003-08-24| Unknown|http://en.wikiped...|   Unknown| Unknown|   Unknown| Unknown|   Unknown| Unknown|   Unknown|   Unknown|    Unknown|    Unknown|\n|   121|2003|   14|       14|  Italian Grand Prix|2003-09-14| Unknown|http://en.wikiped...|   Unknown| Unknown|   Unknown| Unknown|   Unknown| Unknown|   Unknown|   Unknown|    Unknown|    Unknown|\n|   122|2003|   15|       19|United States Gra...|2003-09-28| Unknown|http://en.wikiped...|   Unknown| Unknown|   Unknown| Unknown|   Unknown| Unknown|   Unknown|   Unknown|    Unknown|    Unknown|\n|   123|2003|   16|       22| Japanese Grand Prix|2003-10-12| Unknown|http://en.wikiped...|   Unknown| Unknown|   Unknown| Unknown|   Unknown| Unknown|   Unknown|   Unknown|    Unknown|    Unknown|\n|   124|2002|    1|        1|Australian Grand ...|20\n\n*** WARNING: max output size exceeded, skipping output. ***\n\nown|   Unknown|   Unknown|    Unknown|    Unknown|\n|  1013|2019|    4|       73|Azerbaijan Grand ...|2019-04-28|12:10:00|http://en.wikiped...|   Unknown| Unknown|   Unknown| Unknown|   Unknown| Unknown|   Unknown|   Unknown|    Unknown|    Unknown|\n|  1014|2019|    5|        4|  Spanish Grand Prix|2019-05-12|13:10:00|http://en.wikiped...|   Unknown| Unknown|   Unknown| Unknown|   Unknown| Unknown|   Unknown|   Unknown|    Unknown|    Unknown|\n|  1015|2019|    6|        6|   Monaco Grand Prix|2019-05-26|13:10:00|http://en.wikiped...|   Unknown| Unknown|   Unknown| Unknown|   Unknown| Unknown|   Unknown|   Unknown|    Unknown|    Unknown|\n|  1016|2019|    7|        7| Canadian Grand Prix|2019-06-09|18:10:00|http://en.wikiped...|   Unknown| Unknown|   Unknown| Unknown|   Unknown| Unknown|   Unknown|   Unknown|    Unknown|    Unknown|\n|  1017|2019|    8|       34|   French Grand Prix|2019-06-23|13:10:00|http://en.wikiped...|   Unknown| Unknown|   Unknown| Unknown|   Unknown| Unknown|   Unknown|   Unknown|    Unknown|    Unknown|\n|  1018|2019|    9|       70| Austrian Grand Prix|2019-06-30|13:10:00|http://en.wikiped...|   Unknown| Unknown|   Unknown| Unknown|   Unknown| Unknown|   Unknown|   Unknown|    Unknown|    Unknown|\n|  1019|2019|   10|        9|  British Grand Prix|2019-07-14|13:10:00|http://en.wikiped...|   Unknown| Unknown|   Unknown| Unknown|   Unknown| Unknown|   Unknown|   Unknown|    Unknown|    Unknown|\n|  1020|2019|   11|       10|   German Grand Prix|2019-07-28|13:10:00|http://en.wikiped...|   Unknown| Unknown|   Unknown| Unknown|   Unknown| Unknown|   Unknown|   Unknown|    Unknown|    Unknown|\n|  1021|2019|   12|       11|Hungarian Grand Prix|2019-08-04|13:10:00|http://en.wikiped...|   Unknown| Unknown|   Unknown| Unknown|   Unknown| Unknown|   Unknown|   Unknown|    Unknown|    Unknown|\n|  1022|2019|   13|       13|  Belgian Grand Prix|2019-09-01|13:10:00|http://en.wikiped...|   Unknown| Unknown|   Unknown| Unknown|   Unknown| Unknown|   Unknown|   Unknown|    Unknown|    Unknown|\n|  1023|2019|   14|       14|  Italian Grand Prix|2019-09-08|13:10:00|http://en.wikiped...|   Unknown| Unknown|   Unknown| Unknown|   Unknown| Unknown|   Unknown|   Unknown|    Unknown|    Unknown|\n|  1024|2019|   15|       15|Singapore Grand Prix|2019-09-22|12:10:00|http://en.wikiped...|   Unknown| Unknown|   Unknown| Unknown|   Unknown| Unknown|   Unknown|   Unknown|    Unknown|    Unknown|\n|  1025|2019|   16|       71|  Russian Grand Prix|2019-09-29|11:10:00|http://en.wikiped...|   Unknown| Unknown|   Unknown| Unknown|   Unknown| Unknown|   Unknown|   Unknown|    Unknown|    Unknown|\n|  1026|2019|   17|       22| Japanese Grand Prix|2019-10-13|05:10:00|http://en.wikiped...|   Unknown| Unknown|   Unknown| Unknown|   Unknown| Unknown|   Unknown|   Unknown|    Unknown|    Unknown|\n|  1027|2019|   18|       32|  Mexican Grand Prix|2019-10-27|19:10:00|http://en.wikiped...|   Unknown| Unknown|   Unknown| Unknown|   Unknown| Unknown|   Unknown|   Unknown|    Unknown|    Unknown|\n|  1028|2019|   19|       69|United States Gra...|2019-11-03|19:10:00|http://en.wikiped...|   Unknown| Unknown|   Unknown| Unknown|   Unknown| Unknown|   Unknown|   Unknown|    Unknown|    Unknown|\n|  1029|2019|   20|       18|Brazilian Grand Prix|2019-11-17|17:10:00|http://en.wikiped...|   Unknown| Unknown|   Unknown| Unknown|   Unknown| Unknown|   Unknown|   Unknown|    Unknown|    Unknown|\n|  1030|2019|   21|       24|Abu Dhabi Grand Prix|2019-12-01|13:10:00|http://en.wikiped...|   Unknown| Unknown|   Unknown| Unknown|   Unknown| Unknown|   Unknown|   Unknown|    Unknown|    Unknown|\n|  1031|2020|    1|       70| Austrian Grand Prix|2020-07-05|13:10:00|http://en.wikiped...|   Unknown| Unknown|   Unknown| Unknown|   Unknown| Unknown|   Unknown|   Unknown|    Unknown|    Unknown|\n|  1032|2020|    2|       70|  Styrian Grand Prix|2020-07-12|13:10:00|http://en.wikiped...|   Unknown| Unknown|   Unknown| Unknown|   Unknown| Unknown|   Unknown|   Unknown|    Unknown|    Unknown|\n|  1033|2020|    3|       11|Hungarian Grand Prix|2020-07-19|13:10:00|http://en.wikiped...|   Unknown| Unknown|   Unknown| Unknown|   Unknown| Unknown|   Unknown|   Unknown|    Unknown|    Unknown|\n|  1034|2020|    4|        9|  British Grand Prix|2020-08-02|13:10:00|http://en.wikiped...|   Unknown| Unknown|   Unknown| Unknown|   Unknown| Unknown|   Unknown|   Unknown|    Unknown|    Unknown|\n|  1035|2020|    5|        9|70th Anniversary ...|2020-08-09|13:10:00|http://en.wikiped...|   Unknown| Unknown|   Unknown| Unknown|   Unknown| Unknown|   Unknown|   Unknown|    Unknown|    Unknown|\n|  1036|2020|    6|        4|  Spanish Grand Prix|2020-08-16|13:10:00|http://en.wikiped...|   Unknown| Unknown|   Unknown| Unknown|   Unknown| Unknown|   Unknown|   Unknown|    Unknown|    Unknown|\n|  1037|2020|    7|       13|  Belgian Grand Prix|2020-08-30|13:10:00|http://en.wikiped...|   Unknown| Unknown|   Unknown| Unknown|   Unknown| Unknown|   Unknown|   Unknown|    Unknown|    Unknown|\n|  1038|2020|    8|       14|  Italian Grand Prix|2020-09-06|13:10:00|http://en.wikiped...|   Unknown| Unknown|   Unknown| Unknown|   Unknown| Unknown|   Unknown|   Unknown|    Unknown|    Unknown|\n|  1039|2020|    9|       76|   Tuscan Grand Prix|2020-09-13|13:10:00|http://en.wikiped...|   Unknown| Unknown|   Unknown| Unknown|   Unknown| Unknown|   Unknown|   Unknown|    Unknown|    Unknown|\n|  1040|2020|   10|       71|  Russian Grand Prix|2020-09-27|11:10:00|http://en.wikiped...|   Unknown| Unknown|   Unknown| Unknown|   Unknown| Unknown|   Unknown|   Unknown|    Unknown|    Unknown|\n|  1041|2020|   11|       20|    Eifel Grand Prix|2020-10-11|13:10:00|http://en.wikiped...|   Unknown| Unknown|   Unknown| Unknown|   Unknown| Unknown|   Unknown|   Unknown|    Unknown|    Unknown|\n|  1042|2020|   12|       75|Portuguese Grand ...|2020-10-25|12:10:00|http://en.wikiped...|   Unknown| Unknown|   Unknown| Unknown|   Unknown| Unknown|   Unknown|   Unknown|    Unknown|    Unknown|\n|  1043|2020|   13|       21|Emilia Romagna Gr...|2020-11-01|12:10:00|http://en.wikiped...|   Unknown| Unknown|   Unknown| Unknown|   Unknown| Unknown|   Unknown|   Unknown|    Unknown|    Unknown|\n|  1044|2020|   14|        5|  Turkish Grand Prix|2020-11-15|10:10:00|http://en.wikiped...|   Unknown| Unknown|   Unknown| Unknown|   Unknown| Unknown|   Unknown|   Unknown|    Unknown|    Unknown|\n|  1045|2020|   15|        3|  Bahrain Grand Prix|2020-11-29|14:10:00|http://en.wikiped...|   Unknown| Unknown|   Unknown| Unknown|   Unknown| Unknown|   Unknown|   Unknown|    Unknown|    Unknown|\n|  1046|2020|   16|        3|   Sakhir Grand Prix|2020-12-06|17:10:00|http://en.wikiped...|   Unknown| Unknown|   Unknown| Unknown|   Unknown| Unknown|   Unknown|   Unknown|    Unknown|    Unknown|\n|  1047|2020|   17|       24|Abu Dhabi Grand Prix|2020-12-13|13:10:00|http://en.wikiped...|   Unknown| Unknown|   Unknown| Unknown|   Unknown| Unknown|   Unknown|   Unknown|    Unknown|    Unknown|\n|  1051|2021|   20|       78|    Qatar Grand Prix|2021-11-21|14:00:00|http://en.wikiped...|2021-11-19| Unknown|2021-11-19| Unknown|2021-11-20| Unknown|2021-11-20|   Unknown|    Unknown|    Unknown|\n|  1052|2021|    1|        3|  Bahrain Grand Prix|2021-03-28|15:00:00|http://en.wikiped...|2021-03-26| Unknown|2021-03-26| Unknown|2021-03-27| Unknown|2021-03-27|   Unknown|    Unknown|    Unknown|\n|  1053|2021|    2|       21|Emilia Romagna Gr...|2021-04-18|13:00:00|http://en.wikiped...|2021-04-16| Unknown|2021-04-16| Unknown|2021-04-17| Unknown|2021-04-17|   Unknown|    Unknown|    Unknown|\n|  1054|2021|    3|       75|Portuguese Grand ...|2021-05-02|14:00:00|http://en.wikiped...|2021-04-30| Unknown|2021-04-30| Unknown|2021-05-01| Unknown|2021-05-01|   Unknown|    Unknown|    Unknown|\n|  1055|2021|    4|        4|  Spanish Grand Prix|2021-05-09|13:00:00|http://en.wikiped...|2021-05-07| Unknown|2021-05-07| Unknown|2021-05-08| Unknown|2021-05-08|   Unknown|    Unknown|    Unknown|\n|  1056|2021|    5|        6|   Monaco Grand Prix|2021-05-23|13:00:00|http://en.wikiped...|2021-05-21| Unknown|2021-05-21| Unknown|2021-05-22| Unknown|2021-05-22|   Unknown|    Unknown|    Unknown|\n|  1057|2021|    6|       73|Azerbaijan Grand ...|2021-06-06|12:00:00|http://en.wikiped...|2021-06-04| Unknown|2021-06-04| Unknown|2021-06-05| Unknown|2021-06-05|   Unknown|    Unknown|    Unknown|\n|  1058|2021|    8|       70|  Styrian Grand Prix|2021-06-27|13:00:00|http://en.wikiped...|2021-06-25| Unknown|2021-06-25| Unknown|2021-06-26| Unknown|2021-06-26|   Unknown|    Unknown|    Unknown|\n|  1059|2021|    7|       34|   French Grand Prix|2021-06-20|13:00:00|http://en.wikiped...|2021-06-18| Unknown|2021-06-18| Unknown|2021-06-19| Unknown|2021-06-19|   Unknown|    Unknown|    Unknown|\n|  1060|2021|    9|       70| Austrian Grand Prix|2021-07-04|13:00:00|http://en.wikiped...|2021-07-02| Unknown|2021-07-02| Unknown|2021-07-03| Unknown|2021-07-03|   Unknown|    Unknown|    Unknown|\n|  1061|2021|   10|        9|  British Grand Prix|2021-07-18|14:00:00|http://en.wikiped...|2021-07-16| Unknown|2021-07-17| Unknown|   Unknown| Unknown|2021-07-16|   Unknown| 2021-07-17|    Unknown|\n|  1062|2021|   11|       11|Hungarian Grand Prix|2021-08-01|13:00:00|http://en.wikiped...|2021-07-30| Unknown|2021-07-30| Unknown|2021-07-31| Unknown|2021-07-31|   Unknown|    Unknown|    Unknown|\n|  1063|2021|   12|       13|  Belgian Grand Prix|2021-08-29|13:00:00|http://en.wikiped...|2021-08-27| Unknown|2021-08-27| Unknown|2021-08-28| Unknown|2021-08-28|   Unknown|    Unknown|    Unknown|\n|  1064|2021|   13|       39|    Dutch Grand Prix|2021-09-05|13:00:00|http://en.wikiped...|2021-09-03| Unknown|2021-09-03| Unknown|2021-09-04| Unknown|2021-09-04|   Unknown|    Unknown|    Unknown|\n|  1065|2021|   14|       14|  Italian Grand Prix|2021-09-12|13:00:00|http://en.wikiped...|2021-09-10| Unknown|2021-09-11| Unknown|   Unknown| Unknown|2021-09-10|   Unknown| 2021-09-11|    Unknown|\n|  1066|2021|   15|       71|  Russian Grand Prix|2021-09-26|12:00:00|http://en.wikiped...|2021-09-24| Unknown|2021-09-24| Unknown|2021-09-25| Unknown|2021-09-25|   Unknown|    Unknown|    Unknown|\n|  1067|2021|   16|        5|  Turkish Grand Prix|2021-10-10|12:00:00|http://en.wikiped...|2021-10-08| Unknown|2021-10-08| Unknown|2021-10-09| Unknown|2021-10-09|   Unknown|    Unknown|    Unknown|\n|  1069|2021|   17|       69|United States Gra...|2021-10-24|19:00:00|http://en.wikiped...|2021-10-22| Unknown|2021-10-22| Unknown|2021-10-23| Unknown|2021-10-23|   Unknown|    Unknown|    Unknown|\n|  1070|2021|   18|       32|Mexico City Grand...|2021-11-07|19:00:00|http://en.wikiped...|2021-11-05| Unknown|2021-11-05| Unknown|2021-11-06| Unknown|2021-11-06|   Unknown|    Unknown|    Unknown|\n|  1071|2021|   19|       18|São Paulo Grand Prix|2021-11-14|17:00:00|http://en.wikiped...|2021-11-12| Unknown|2021-11-13| Unknown|   Unknown| Unknown|2021-11-12|   Unknown| 2021-11-13|    Unknown|\n|  1072|2021|   21|       77|Saudi Arabian Gra...|2021-12-05|17:30:00|http://en.wikiped...|2021-12-03| Unknown|2021-12-03| Unknown|2021-12-04| Unknown|2021-12-04|   Unknown|    Unknown|    Unknown|\n|  1073|2021|   22|       24|Abu Dhabi Grand Prix|2021-12-12|13:00:00|http://en.wikiped...|2021-12-10| Unknown|2021-12-10| Unknown|2021-12-11| Unknown|2021-12-11|   Unknown|    Unknown|    Unknown|\n|  1074|2022|    1|        3|  Bahrain Grand Prix|2022-03-20|15:00:00|http://en.wikiped...|2022-03-18|12:00:00|2022-03-18|15:00:00|2022-03-19|12:00:00|2022-03-19|  15:00:00|    Unknown|    Unknown|\n|  1075|2022|    2|       77|Saudi Arabian Gra...|2022-03-27|17:00:00|http://en.wikiped...|2022-03-25|14:00:00|2022-03-25|17:00:00|2022-03-26|14:00:00|2022-03-26|  17:00:00|    Unknown|    Unknown|\n|  1076|2022|    3|        1|Australian Grand ...|2022-04-10|05:00:00|http://en.wikiped...|2022-04-08|03:00:00|2022-04-08|06:00:00|2022-04-09|03:00:00|2022-04-09|  06:00:00|    Unknown|    Unknown|\n|  1077|2022|    4|       21|Emilia Romagna Gr...|2022-04-24|13:00:00|http://en.wikiped...|2022-04-22|11:30:00|2022-04-23|10:30:00|   Unknown| Unknown|2022-04-22|  15:00:00| 2022-04-23|   14:30:00|\n|  1078|2022|    5|       79|    Miami Grand Prix|2022-05-08|19:30:00|http://en.wikiped...|2022-05-06|18:30:00|2022-05-06|21:30:00|2022-05-07|17:00:00|2022-05-07|  20:00:00|    Unknown|    Unknown|\n|  1079|2022|    6|        4|  Spanish Grand Prix|2022-05-22|13:00:00|http://en.wikiped...|2022-05-20|12:00:00|2022-05-20|15:00:00|2022-05-21|11:00:00|2022-05-21|  14:00:00|    Unknown|    Unknown|\n|  1080|2022|    7|        6|   Monaco Grand Prix|2022-05-29|13:00:00|http://en.wikiped...|2022-05-27|12:00:00|2022-05-27|15:00:00|2022-05-28|11:00:00|2022-05-28|  14:00:00|    Unknown|    Unknown|\n|  1081|2022|    8|       73|Azerbaijan Grand ...|2022-06-12|11:00:00|http://en.wikiped...|2022-06-10|11:00:00|2022-06-10|14:00:00|2022-06-11|11:00:00|2022-06-11|  14:00:00|    Unknown|    Unknown|\n|  1082|2022|    9|        7| Canadian Grand Prix|2022-06-19|18:00:00|http://en.wikiped...|2022-06-17|18:00:00|2022-06-17|21:00:00|2022-06-18|17:00:00|2022-06-18|  20:00:00|    Unknown|    Unknown|\n|  1083|2022|   10|        9|  British Grand Prix|2022-07-03|14:00:00|http://en.wikiped...|2022-07-01|12:00:00|2022-07-01|15:00:00|2022-07-02|11:00:00|2022-07-02|  14:00:00|    Unknown|    Unknown|\n|  1084|2022|   11|       70| Austrian Grand Prix|2022-07-10|13:00:00|http://en.wikiped...|2022-07-08|11:30:00|2022-07-09|10:30:00|   Unknown| Unknown|2022-07-08|  15:00:00| 2022-07-09|   14:30:00|\n|  1085|2022|   12|       34|   French Grand Prix|2022-07-24|13:00:00|http://en.wikiped...|2022-07-22|12:00:00|2022-07-22|15:00:00|2022-07-23|11:00:00|2022-07-23|  14:00:00|    Unknown|    Unknown|\n|  1086|2022|   13|       11|Hungarian Grand Prix|2022-07-31|13:00:00|http://en.wikiped...|2022-07-29|12:00:00|2022-07-29|15:00:00|2022-07-30|11:00:00|2022-07-30|  14:00:00|    Unknown|    Unknown|\n|  1087|2022|   14|       13|  Belgian Grand Prix|2022-08-28|13:00:00|http://en.wikiped...|2022-08-26|12:00:00|2022-08-26|15:00:00|2022-08-27|11:00:00|2022-08-27|  14:00:00|    Unknown|    Unknown|\n|  1088|2022|   15|       39|    Dutch Grand Prix|2022-09-04|13:00:00|http://en.wikiped...|2022-09-02|10:30:00|2022-09-02|14:00:00|2022-09-03|10:00:00|2022-09-03|  13:00:00|    Unknown|    Unknown|\n|  1089|2022|   16|       14|  Italian Grand Prix|2022-09-11|13:00:00|http://en.wikiped...|2022-09-09|12:00:00|2022-09-09|15:00:00|2022-09-10|11:00:00|2022-09-10|  14:00:00|    Unknown|    Unknown|\n|  1091|2022|   17|       15|Singapore Grand Prix|2022-10-02|12:00:00|http://en.wikiped...|2022-09-30|10:00:00|2022-09-30|13:00:00|2022-10-01|10:00:00|2022-10-01|  13:00:00|    Unknown|    Unknown|\n|  1092|2022|   18|       22| Japanese Grand Prix|2022-10-09|05:00:00|http://en.wikiped...|2022-10-07|03:00:00|2022-10-07|06:00:00|2022-10-08|03:00:00|2022-10-08|  06:00:00|    Unknown|    Unknown|\n|  1093|2022|   19|       69|United States Gra...|2022-10-23|19:00:00|http://en.wikiped...|2022-10-21|19:00:00|2022-10-21|22:00:00|2022-10-22|19:00:00|2022-10-22|  22:00:00|    Unknown|    Unknown|\n|  1094|2022|   20|       32|Mexico City Grand...|2022-10-30|20:00:00|http://en.wikiped...|2022-10-28|18:00:00|2022-10-28|21:00:00|2022-10-29|17:00:00|2022-10-29|  20:00:00|    Unknown|    Unknown|\n|  1095|2022|   21|       18|São Paulo Grand Prix|2022-11-13|18:00:00|http://en.wikiped...|2022-11-11|15:30:00|2022-11-12|15:30:00|   Unknown| Unknown|2022-11-11|  19:00:00| 2022-11-12|   19:30:00|\n|  1096|2022|   22|       24|Abu Dhabi Grand Prix|2022-11-20|13:00:00|http://en.wikiped...|2022-11-18|10:00:00|2022-11-18|13:00:00|2022-11-19|11:00:00|2022-11-19|  14:00:00|    Unknown|    Unknown|\n|  1098|2023|    1|        3|  Bahrain Grand Prix|2023-03-05|15:00:00|https://en.wikipe...|2023-03-03|11:30:00|2023-03-03|15:00:00|2023-03-04|11:30:00|2023-03-04|  15:00:00|    Unknown|    Unknown|\n|  1099|2023|    2|       77|Saudi Arabian Gra...|2023-03-19|17:00:00|https://en.wikipe...|2023-03-17|13:30:00|2023-03-17|17:00:00|2023-03-18|13:30:00|2023-03-18|  17:00:00|    Unknown|    Unknown|\n|  1100|2023|    3|        1|Australian Grand ...|2023-04-02|05:00:00|https://en.wikipe...|2023-03-31|01:30:00|2023-03-31|05:00:00|2023-04-01|01:30:00|2023-04-01|  05:00:00|    Unknown|    Unknown|\n|  1101|2023|    4|       73|Azerbaijan Grand ...|2023-04-30|11:00:00|https://en.wikipe...|2023-04-28|09:30:00|2023-04-29|09:30:00|   Unknown| Unknown|2023-04-28|  13:00:00| 2023-04-29|   13:30:00|\n|  1102|2023|    5|       79|    Miami Grand Prix|2023-05-07|19:30:00|https://en.wikipe...|2023-05-05|18:00:00|2023-05-05|21:30:00|2023-05-06|16:30:00|2023-05-06|  20:00:00|    Unknown|    Unknown|\n|  1104|2023|    6|        6|   Monaco Grand Prix|2023-05-28|13:00:00|https://en.wikipe...|2023-05-26|11:30:00|2023-05-26|15:00:00|2023-05-27|10:30:00|2023-05-27|  14:00:00|    Unknown|    Unknown|\n|  1105|2023|    7|        4|  Spanish Grand Prix|2023-06-04|13:00:00|https://en.wikipe...|2023-06-02|11:30:00|2023-06-02|15:00:00|2023-06-03|10:30:00|2023-06-03|  14:00:00|    Unknown|    Unknown|\n|  1106|2023|    8|        7| Canadian Grand Prix|2023-06-18|18:00:00|https://en.wikipe...|2023-06-16|17:30:00|2023-06-16|21:00:00|2023-06-17|16:30:00|2023-06-17|  20:00:00|    Unknown|    Unknown|\n|  1107|2023|    9|       70| Austrian Grand Prix|2023-07-02|13:00:00|https://en.wikipe...|2023-06-30|11:30:00|2023-07-01|10:30:00|   Unknown| Unknown|2023-06-30|  15:00:00| 2023-07-01|   14:30:00|\n|  1108|2023|   10|        9|  British Grand Prix|2023-07-09|14:00:00|https://en.wikipe...|2023-07-07|11:30:00|2023-07-07|15:00:00|2023-07-08|10:30:00|2023-07-08|  14:00:00|    Unknown|    Unknown|\n|  1109|2023|   11|       11|Hungarian Grand Prix|2023-07-23|13:00:00|https://en.wikipe...|2023-07-21|11:30:00|2023-07-21|15:00:00|2023-07-22|10:30:00|2023-07-22|  14:00:00|    Unknown|    Unknown|\n|  1110|2023|   12|       13|  Belgian Grand Prix|2023-07-30|13:00:00|https://en.wikipe...|2023-07-28|11:30:00|2023-07-29|10:30:00|   Unknown| Unknown|2023-07-28|  15:00:00| 2023-07-29|   14:30:00|\n|  1111|2023|   13|       39|    Dutch Grand Prix|2023-08-27|13:00:00|https://en.wikipe...|2023-08-25|10:30:00|2023-08-25|14:00:00|2023-08-26|09:30:00|2023-08-26|  13:00:00|    Unknown|    Unknown|\n|  1112|2023|   14|       14|  Italian Grand Prix|2023-09-03|13:00:00|https://en.wikipe...|2023-09-01|11:30:00|2023-09-01|15:00:00|2023-09-02|10:30:00|2023-09-02|  14:00:00|    Unknown|    Unknown|\n|  1113|2023|   15|       15|Singapore Grand Prix|2023-09-17|12:00:00|https://en.wikipe...|2023-09-15|09:30:00|2023-09-15|13:00:00|2023-09-16|09:30:00|2023-09-16|  13:00:00|    Unknown|    Unknown|\n|  1114|2023|   16|       22| Japanese Grand Prix|2023-09-24|05:00:00|https://en.wikipe...|2023-09-22|02:30:00|2023-09-22|06:00:00|2023-09-23|02:30:00|2023-09-23|  06:00:00|    Unknown|    Unknown|\n|  1115|2023|   17|       78|    Qatar Grand Prix|2023-10-08|17:00:00|https://en.wikipe...|2023-10-06|13:30:00|2023-10-07|13:00:00|   Unknown| Unknown|2023-10-06|  17:00:00| 2023-10-07|   17:30:00|\n|  1116|2023|   18|       69|United States Gra...|2023-10-22|19:00:00|https://en.wikipe...|2023-10-20|17:30:00|2023-10-21|18:00:00|   Unknown| Unknown|2023-10-20|  21:00:00| 2023-10-21|   22:00:00|\n|  1117|2023|   19|       32|Mexico City Grand...|2023-10-29|20:00:00|https://en.wikipe...|2023-10-27|18:30:00|2023-10-27|22:00:00|2023-10-28|17:30:00|2023-10-28|  21:00:00|    Unknown|    Unknown|\n|  1118|2023|   20|       18|São Paulo Grand Prix|2023-11-05|17:00:00|https://en.wikipe...|2023-11-03|14:30:00|2023-11-04|14:30:00|   Unknown| Unknown|2023-11-03|  18:00:00| 2023-11-04|   18:30:00|\n|  1119|2023|   21|       80|Las Vegas Grand Prix|2023-11-19|06:00:00|https://en.wikipe...|2023-11-16|04:30:00|2023-11-16|08:00:00|2023-11-17|04:30:00|2023-11-17|  08:00:00|    Unknown|    Unknown|\n|  1120|2023|   22|       24|Abu Dhabi Grand Prix|2023-11-26|13:00:00|https://en.wikipe...|2023-11-24|09:30:00|2023-11-24|13:00:00|2023-11-25|10:30:00|2023-11-25|  14:00:00|    Unknown|    Unknown|\n|  1121|2024|    1|        3|  Bahrain Grand Prix|2024-03-02|15:00:00|https://en.wikipe...|2024-02-29|11:30:00|2024-02-29|15:00:00|2024-03-01|12:30:00|2024-03-01|  16:00:00|    Unknown|    Unknown|\n|  1122|2024|    2|       77|Saudi Arabian Gra...|2024-03-09|17:00:00|https://en.wikipe...|2024-03-07|13:30:00|2024-03-07|17:00:00|2024-03-08|13:30:00|2024-03-08|  17:00:00|    Unknown|    Unknown|\n|  1123|2024|    3|        1|Australian Grand ...|2024-03-24|04:00:00|https://en.wikipe...|2024-03-22|01:30:00|2024-03-22|05:00:00|2024-03-23|01:30:00|2024-03-23|  05:00:00|    Unknown|    Unknown|\n|  1124|2024|    4|       22| Japanese Grand Prix|2024-04-07|05:00:00|https://en.wikipe...|2024-04-05|02:30:00|2024-04-05|06:00:00|2024-04-06|02:30:00|2024-04-06|  06:00:00|    Unknown|    Unknown|\n|  1125|2024|    5|       17|  Chinese Grand Prix|2024-04-21|07:00:00|https://en.wikipe...|2024-04-19|03:30:00|2024-04-19|07:30:00|   Unknown| Unknown|2024-04-20|  07:00:00| 2024-04-20|   03:00:00|\n|  1126|2024|    6|       79|    Miami Grand Prix|2024-05-05|20:00:00|https://en.wikipe...|2024-05-03|16:30:00|2024-05-03|20:30:00|   Unknown| Unknown|2024-05-04|  20:00:00| 2024-05-04|   16:00:00|\n|  1127|2024|    7|       21|Emilia Romagna Gr...|2024-05-19|13:00:00|https://en.wikipe...|2024-05-17|11:30:00|2024-05-17|15:00:00|2024-05-18|10:30:00|2024-05-18|  14:00:00|    Unknown|    Unknown|\n|  1128|2024|    8|        6|   Monaco Grand Prix|2024-05-26|13:00:00|https://en.wikipe...|2024-05-24|11:30:00|2024-05-24|15:00:00|2024-05-25|10:30:00|2024-05-25|  14:00:00|    Unknown|    Unknown|\n|  1129|2024|    9|        7| Canadian Grand Prix|2024-06-09|18:00:00|https://en.wikipe...|2024-06-07|17:30:00|2024-06-07|21:00:00|2024-06-08|16:30:00|2024-06-08|  20:00:00|    Unknown|    Unknown|\n|  1130|2024|   10|        4|  Spanish Grand Prix|2024-06-23|13:00:00|https://en.wikipe...|2024-06-21|11:30:00|2024-06-21|15:00:00|2024-06-22|10:30:00|2024-06-22|  14:00:00|    Unknown|    Unknown|\n|  1131|2024|   11|       70| Austrian Grand Prix|2024-06-30|13:00:00|https://en.wikipe...|2024-06-28|10:30:00|2024-06-28|14:30:00|   Unknown| Unknown|2024-06-29|  14:00:00| 2024-06-29|   10:00:00|\n|  1132|2024|   12|        9|  British Grand Prix|2024-07-07|14:00:00|https://en.wikipe...|2024-07-05|11:30:00|2024-07-05|15:00:00|2024-07-06|10:30:00|2024-07-06|  14:00:00|    Unknown|    Unknown|\n|  1133|2024|   13|       11|Hungarian Grand Prix|2024-07-21|13:00:00|https://en.wikipe...|2024-07-19|11:30:00|2024-07-19|15:00:00|2024-07-20|10:30:00|2024-07-20|  14:00:00|    Unknown|    Unknown|\n|  1134|2024|   14|       13|  Belgian Grand Prix|2024-07-28|13:00:00|https://en.wikipe...|2024-07-26|11:30:00|2024-07-26|15:00:00|2024-07-27|10:30:00|2024-07-27|  14:00:00|    Unknown|    Unknown|\n|  1135|2024|   15|       39|    Dutch Grand Prix|2024-08-25|13:00:00|https://en.wikipe...|2024-08-23|10:30:00|2024-08-23|14:00:00|2024-08-24|09:30:00|2024-08-24|  13:00:00|    Unknown|    Unknown|\n|  1136|2024|   16|       14|  Italian Grand Prix|2024-09-01|13:00:00|https://en.wikipe...|2024-08-30|11:30:00|2024-08-30|15:00:00|2024-08-31|10:30:00|2024-08-31|  14:00:00|    Unknown|    Unknown|\n|  1137|2024|   17|       73|Azerbaijan Grand ...|2024-09-15|11:00:00|https://en.wikipe...|2024-09-13|09:30:00|2024-09-13|13:00:00|2024-09-14|08:30:00|2024-09-14|  12:00:00|    Unknown|    Unknown|\n|  1138|2024|   18|       15|Singapore Grand Prix|2024-09-22|12:00:00|https://en.wikipe...|2024-09-20|09:30:00|2024-09-20|13:00:00|2024-09-21|09:30:00|2024-09-21|  13:00:00|    Unknown|    Unknown|\n|  1139|2024|   19|       69|United States Gra...|2024-10-20|19:00:00|https://en.wikipe...|2024-10-18|17:30:00|2024-10-18|21:30:00|   Unknown| Unknown|2024-10-19|  22:00:00| 2024-10-19|   18:00:00|\n|  1140|2024|   20|       32|Mexico City Grand...|2024-10-27|20:00:00|https://en.wikipe...|2024-10-25|18:30:00|2024-10-25|22:00:00|2024-10-26|17:30:00|2024-10-26|  21:00:00|    Unknown|    Unknown|\n|  1141|2024|   21|       18|São Paulo Grand Prix|2024-11-03|17:00:00|https://en.wikipe...|2024-11-01|14:30:00|2024-11-01|18:30:00|   Unknown| Unknown|2024-11-02|  18:00:00| 2024-11-02|   14:00:00|\n|  1142|2024|   22|       80|Las Vegas Grand Prix|2024-11-23|06:00:00|https://en.wikipe...|2024-11-21|02:30:00|2024-11-21|06:00:00|2024-11-22|02:30:00|2024-11-22|  06:00:00|    Unknown|    Unknown|\n|  1143|2024|   23|       78|    Qatar Grand Prix|2024-12-01|17:00:00|https://en.wikipe...|2024-11-29|13:30:00|2024-11-29|17:30:00|   Unknown| Unknown|2024-11-30|  17:00:00| 2024-11-30|   13:00:00|\n|  1144|2024|   24|       24|Abu Dhabi Grand Prix|2024-12-08|13:00:00|https://en.wikipe...|2024-12-06|09:30:00|2024-12-06|13:00:00|2024-12-07|10:30:00|2024-12-07|  14:00:00|    Unknown|    Unknown|\n+------+----+-----+---------+--------------------+----------+--------+--------------------+----------+--------+----------+--------+----------+--------+----------+----------+-----------+-----------+\n\n"
     ]
    }
   ],
   "source": [
    "races_df.show(3000)"
   ]
  },
  {
   "cell_type": "markdown",
   "metadata": {
    "application/vnd.databricks.v1+cell": {
     "cellMetadata": {},
     "inputWidgets": {},
     "nuid": "08275e6f-b972-47f0-9942-f826498e17d9",
     "showTitle": false,
     "title": ""
    }
   },
   "source": [
    "### creating race sequences with in each season"
   ]
  },
  {
   "cell_type": "code",
   "execution_count": 0,
   "metadata": {
    "application/vnd.databricks.v1+cell": {
     "cellMetadata": {
      "byteLimit": 2048000,
      "rowLimit": 10000
     },
     "inputWidgets": {},
     "nuid": "05260fcc-35ca-46f8-ac2a-ecfc12d19df4",
     "showTitle": false,
     "title": ""
    }
   },
   "outputs": [],
   "source": [
    "from pyspark.sql.window import Window\n",
    "from pyspark.sql.functions import col, when, lit, to_timestamp, concat, rank\n",
    "\n",
    "windowSpec = Window.partitionBy(\"year\").orderBy(\"date\")\n",
    "races_df = races_df.withColumn(\"race_sequence\", rank().over(windowSpec))"
   ]
  },
  {
   "cell_type": "code",
   "execution_count": 0,
   "metadata": {
    "application/vnd.databricks.v1+cell": {
     "cellMetadata": {
      "byteLimit": 2048000,
      "rowLimit": 10000
     },
     "inputWidgets": {},
     "nuid": "cd34150e-65e4-42c5-92ef-fcb99fadf91e",
     "showTitle": false,
     "title": ""
    }
   },
   "outputs": [
    {
     "output_type": "stream",
     "name": "stdout",
     "output_type": "stream",
     "text": [
      "+------+----+-----+---------+------------------+----------+-------+--------------------+--------+--------+--------+--------+--------+--------+----------+----------+-----------+-----------+-------------+\n|raceId|year|round|circuitId|              name|      date|   time|                 url|fp1_date|fp1_time|fp2_date|fp2_time|fp3_date|fp3_time|quali_date|quali_time|sprint_date|sprint_time|race_sequence|\n+------+----+-----+---------+------------------+----------+-------+--------------------+--------+--------+--------+--------+--------+--------+----------+----------+-----------+-----------+-------------+\n|   833|1950|    1|        9|British Grand Prix|1950-05-13|Unknown|http://en.wikiped...| Unknown| Unknown| Unknown| Unknown| Unknown| Unknown|   Unknown|   Unknown|    Unknown|    Unknown|            1|\n|   834|1950|    2|        6| Monaco Grand Prix|1950-05-21|Unknown|http://en.wikiped...| Unknown| Unknown| Unknown| Unknown| Unknown| Unknown|   Unknown|   Unknown|    Unknown|    Unknown|            2|\n|   835|1950|    3|       19|  Indianapolis 500|1950-05-30|Unknown|http://en.wikiped...| Unknown| Unknown| Unknown| Unknown| Unknown| Unknown|   Unknown|   Unknown|    Unknown|    Unknown|            3|\n|   836|1950|    4|       66|  Swiss Grand Prix|1950-06-04|Unknown|http://en.wikiped...| Unknown| Unknown| Unknown| Unknown| Unknown| Unknown|   Unknown|   Unknown|    Unknown|    Unknown|            4|\n|   837|1950|    5|       13|Belgian Grand Prix|1950-06-18|Unknown|http://en.wikiped...| Unknown| Unknown| Unknown| Unknown| Unknown| Unknown|   Unknown|   Unknown|    Unknown|    Unknown|            5|\n|   838|1950|    6|       55| French Grand Prix|1950-07-02|Unknown|http://en.wikiped...| Unknown| Unknown| Unknown| Unknown| Unknown| Unknown|   Unknown|   Unknown|    Unknown|    Unknown|            6|\n|   839|1950|    7|       14|Italian Grand Prix|1950-09-03|Unknown|http://en.wikiped...| Unknown| Unknown| Unknown| Unknown| Unknown| Unknown|   Unknown|   Unknown|    Unknown|    Unknown|            7|\n|   825|1951|    1|       66|  Swiss Grand Prix|1951-05-27|Unknown|http://en.wikiped...| Unknown| Unknown| Unknown| Unknown| Unknown| Unknown|   Unknown|   Unknown|    Unknown|    Unknown|            1|\n|   826|1951|    2|       19|  Indianapolis 500|1951-05-30|Unknown|http://en.wikiped...| Unknown| Unknown| Unknown| Unknown| Unknown| Unknown|   Unknown|   Unknown|    Unknown|    Unknown|            2|\n|   827|1951|    3|       13|Belgian Grand Prix|1951-06-17|Unknown|http://en.wikiped...| Unknown| Unknown| Unknown| Unknown| Unknown| Unknown|   Unknown|   Unknown|    Unknown|    Unknown|            3|\n+------+----+-----+---------+------------------+----------+-------+--------------------+--------+--------+--------+--------+--------+--------+----------+----------+-----------+-----------+-------------+\nonly showing top 10 rows\n\n"
     ]
    }
   ],
   "source": [
    "races_df.show(10)"
   ]
  },
  {
   "cell_type": "markdown",
   "metadata": {
    "application/vnd.databricks.v1+cell": {
     "cellMetadata": {},
     "inputWidgets": {},
     "nuid": "8b0e2e59-3ca0-457c-b406-33610e2cf85b",
     "showTitle": false,
     "title": ""
    }
   },
   "source": [
    "## TRansformations for results"
   ]
  },
  {
   "cell_type": "code",
   "execution_count": 0,
   "metadata": {
    "application/vnd.databricks.v1+cell": {
     "cellMetadata": {
      "byteLimit": 2048000,
      "rowLimit": 10000
     },
     "inputWidgets": {},
     "nuid": "c5a1ee2f-81c6-4660-9c93-4c0753f2ed9f",
     "showTitle": false,
     "title": ""
    }
   },
   "outputs": [],
   "source": [
    "results_df = dataframes_dict['results'] "
   ]
  },
  {
   "cell_type": "code",
   "execution_count": 0,
   "metadata": {
    "application/vnd.databricks.v1+cell": {
     "cellMetadata": {
      "byteLimit": 2048000,
      "rowLimit": 10000
     },
     "inputWidgets": {},
     "nuid": "cdb82b8b-f7cd-4cbd-aef9-cfc7aef1fe79",
     "showTitle": false,
     "title": ""
    }
   },
   "outputs": [
    {
     "output_type": "stream",
     "name": "stdout",
     "output_type": "stream",
     "text": [
      "+--------+------+--------+-------------+------+----+--------+------------+-------------+------+----+-----------+------------+----------+----+--------------+------------------+--------+---------+\n|resultId|raceId|driverId|constructorId|number|grid|position|positionText|positionOrder|points|laps|       time|milliseconds|fastestLap|rank|fastestLapTime|   fastestLapSpeed|statusId|are_equal|\n+--------+------+--------+-------------+------+----+--------+------------+-------------+------+----+-----------+------------+----------+----+--------------+------------------+--------+---------+\n|       1|    18|       1|            1|    22|   1|       1|           1|            1|    10|  58|1:34:50.616|     5690616|        39|   2|      1:27.452| 218.3000030517578|       1|     true|\n|       2|    18|       2|            2|     3|   5|       2|           2|            2|     8|  58|     +5.478|     5696094|        41|   3|      1:27.739|217.58599853515625|       1|     true|\n|       3|    18|       3|            3|     7|   7|       3|           3|            3|     6|  58|     +8.163|     5698779|        41|   5|      1:28.090|  216.718994140625|       1|     true|\n|       4|    18|       4|            4|     5|  11|       4|           4|            4|     5|  58|    +17.181|     5707797|        58|   7|      1:28.603|215.46400451660156|       1|     true|\n|       5|    18|       5|            1|    23|   3|       5|           5|            5|     4|  58|    +18.014|     5708630|        43|   1|      1:27.418|218.38499450683594|       1|     true|\n|       6|    18|       6|            3|     8|  13|       6|           6|            6|     3|  57|         \\N|        NULL|        50|  14|      1:29.639| 212.9739990234375|      11|     true|\n|       7|    18|       7|            5|    14|  17|       7|           7|            7|     2|  55|         \\N|        NULL|        54|   8|      1:29.534| 213.2239990234375|       5|     true|\n|       8|    18|       8|            6|     1|  15|       8|           8|            8|     1|  53|         \\N|        NULL|        20|   4|      1:27.903|217.17999267578125|       5|     true|\n|      23|    19|       8|            6|     1|   2|       1|           1|            1|    10|  56|1:31:18.555|     5478555|        37|   2|      1:35.405| 209.1580047607422|       1|     true|\n|      24|    19|       9|            2|     4|   4|       2|           2|            2|     8|  56|    +19.570|     5498125|        39|   6|      1:35.921| 208.0330047607422|       1|     true|\n|      25|    19|       5|            1|    23|   8|       3|           3|            3|     6|  56|    +38.450|     5517005|        19|   7|      1:35.922|  208.031005859375|       1|     true|\n|      26|    19|      15|            7|    11|   3|       4|           4|            4|     5|  56|    +45.832|     5524387|        53|   8|      1:36.068|207.71499633789062|       1|     true|\n|      27|    19|       1|            1|    22|   9|       5|           5|            5|     4|  56|    +46.548|     5525103|        53|   3|      1:35.462| 209.0330047607422|       1|     true|\n|      28|    19|       2|            2|     3|   5|       6|           6|            6|     3|  56|    +49.833|     5528388|        55|   1|      1:35.366|209.24400329589844|       1|     true|\n|      29|    19|      17|            9|    10|   6|       7|           7|            7|     2|  56|  +1:08.130|     5546685|        53|  12|      1:36.696|206.36599731445312|       1|     true|\n|      30|    19|       4|            4|     5|   7|       8|           8|            8|     1|  56|  +1:10.041|     5548596|        40|  10|      1:36.288|207.24000549316406|       1|     true|\n|      31|    19|      14|            9|     9|  12|       9|           9|            9|     0|  56|  +1:16.220|     5554775|        55|   9|      1:36.206|207.41700744628906|       1|     true|\n|      32|    19|      18|           11|    16|  11|      10|          10|           10|     0|  56|  +1:26.214|     5564769|        56|   4|      1:35.715| 208.4810028076172|       1|     true|\n|      33|    19|      12|            4|     6|  13|      11|          11|           11|     0|  56|  +1:32.202|     5570757|        52|  15|      1:36.956|205.81199645996094|       1|     true|\n|      34|    19|      21|           10|    21|  17|      12|          12|           12|     0|  55|         \\N|        NULL|        52|  16|      1:36.962| 205.8000030517578|      11|     true|\n+--------+------+--------+-------------+------+----+--------+------------+-------------+------+----+-----------+------------+----------+----+--------------+------------------+--------+---------+\nonly showing top 20 rows\n\n+--------+------+--------+-------------+------+----+--------+------------+-------------+------+----+----+------------+----------+----+--------------+---------------+--------+---------+\n|resultId|raceId|driverId|constructorId|number|grid|position|positionText|positionOrder|points|laps|time|milliseconds|fastestLap|rank|fastestLapTime|fastestLapSpeed|statusId|are_equal|\n+--------+------+--------+-------------+------+----+--------+------------+-------------+------+----+----+------------+----------+----+--------------+---------------+--------+---------+\n+--------+------+--------+-------------+------+----+--------+------------+-------------+------+----+----+------------+----------+----+--------------+---------------+--------+---------+\n\n"
     ]
    }
   ],
   "source": [
    "from pyspark.sql.functions import col\n",
    "\n",
    "\n",
    "\n",
    "# Assume 'df' is your DataFrame and 'column1' and 'column2' are the names of the columns you want to compare\n",
    "df_with_comparison = results_df.withColumn(\"are_equal\", col(\"position\") == col(\"positionText\"))\n",
    "\n",
    "# Show results where columns are equal\n",
    "df_with_comparison.filter(col(\"are_equal\") == True).show()\n",
    "df_with_comparison.filter(col(\"are_equal\") == False).show()\n",
    "\n"
   ]
  },
  {
   "cell_type": "code",
   "execution_count": 0,
   "metadata": {
    "application/vnd.databricks.v1+cell": {
     "cellMetadata": {
      "byteLimit": 2048000,
      "rowLimit": 10000
     },
     "inputWidgets": {},
     "nuid": "1ac46fab-8698-4b24-a45a-79a98c610665",
     "showTitle": false,
     "title": ""
    }
   },
   "outputs": [
    {
     "output_type": "stream",
     "name": "stdout",
     "output_type": "stream",
     "text": [
      "+--------+------+--------+-------------+------+----+--------+------------+-------------+------+----+-----------+------------+----------+----+--------------+------------------+--------+\n|resultId|raceId|driverId|constructorId|number|grid|position|positionText|positionOrder|points|laps|       time|milliseconds|fastestLap|rank|fastestLapTime|   fastestLapSpeed|statusId|\n+--------+------+--------+-------------+------+----+--------+------------+-------------+------+----+-----------+------------+----------+----+--------------+------------------+--------+\n|       1|    18|       1|            1|    22|   1|       1|           1|            1|    10|  58|1:34:50.616|     5690616|        39|   2|      1:27.452| 218.3000030517578|       1|\n|       2|    18|       2|            2|     3|   5|       2|           2|            2|     8|  58|     +5.478|     5696094|        41|   3|      1:27.739|217.58599853515625|       1|\n|       3|    18|       3|            3|     7|   7|       3|           3|            3|     6|  58|     +8.163|     5698779|        41|   5|      1:28.090|  216.718994140625|       1|\n|       4|    18|       4|            4|     5|  11|       4|           4|            4|     5|  58|    +17.181|     5707797|        58|   7|      1:28.603|215.46400451660156|       1|\n|       5|    18|       5|            1|    23|   3|       5|           5|            5|     4|  58|    +18.014|     5708630|        43|   1|      1:27.418|218.38499450683594|       1|\n|       6|    18|       6|            3|     8|  13|       6|           6|            6|     3|  57|         \\N|        NULL|        50|  14|      1:29.639| 212.9739990234375|      11|\n|       7|    18|       7|            5|    14|  17|       7|           7|            7|     2|  55|         \\N|        NULL|        54|   8|      1:29.534| 213.2239990234375|       5|\n|       8|    18|       8|            6|     1|  15|       8|           8|            8|     1|  53|         \\N|        NULL|        20|   4|      1:27.903|217.17999267578125|       5|\n|       9|    18|       9|            2|     4|   2|       9|           9|            9|     0|  47|         \\N|        NULL|        15|   9|      1:28.753|215.10000610351562|       4|\n|      10|    18|      10|            7|    12|  18|      10|          10|           10|     0|  43|         \\N|        NULL|        23|  13|      1:29.558|213.16600036621094|       3|\n|      11|    18|      11|            8|    18|  19|      11|          11|           11|     0|  32|         \\N|        NULL|        24|  15|      1:30.892|210.03799438476562|       7|\n|      12|    18|      12|            4|     6|  20|      12|          12|           12|     0|  30|         \\N|        NULL|        20|  16|      1:31.384|208.90699768066406|       8|\n|      13|    18|      13|            6|     2|   4|      13|          13|           13|     0|  29|         \\N|        NULL|        23|   6|      1:28.175|216.50999450683594|       5|\n|      14|    18|      14|            9|     9|   8|      14|          14|           14|     0|  25|         \\N|        NULL|        21|  11|      1:29.502| 213.3000030517578|       4|\n|      15|    18|      15|            7|    11|   6|      15|          15|           15|     0|  19|         \\N|        NULL|        18|  10|      1:29.310|213.75799560546875|      10|\n|      16|    18|      16|           10|    20|  22|      16|          16|           16|     0|   8|         \\N|        NULL|         8|  17|      1:32.021|207.46099853515625|       9|\n|      17|    18|      17|            9|    10|  14|      17|          17|           17|     0|   0|         \\N|        NULL|      NULL|NULL|            \\N|              NULL|       4|\n|      18|    18|      18|           11|    16|  12|      18|          18|           18|     0|   0|         \\N|        NULL|      NULL|NULL|            \\N|              NULL|       4|\n|      19|    18|      19|            8|    19|  21|      19|          19|           19|     0|   0|         \\N|        NULL|      NULL|NULL|            \\N|              NULL|       4|\n|      20|    18|      20|            5|    15|   9|      20|          20|           20|     0|   0|         \\N|        NULL|      NULL|NULL|            \\N|              NULL|       4|\n|      21|    18|      21|           10|    21|  16|      21|          21|           21|     0|   0|         \\N|        NULL|      NULL|NULL|            \\N|              NULL|       4|\n|      22|    18|      22|           11|    17|  10|      22|          22|           22|     0|  58|         \\N|        NULL|        44|   8|      1:28.736|215.14100646972656|       2|\n|      23|    19|       8|            6|     1|   2|       1|           1|            1|    10|  56|1:31:18.555|     5478555|        37|   2|      1:35.405| 209.1580047607422|       1|\n|      24|    19|       9|            2|     4|   4|       2|           2|            2|     8|  56|    +19.570|     5498125|        39|   6|      1:35.921| 208.0330047607422|       1|\n|      25|    19|       5|            1|    23|   8|       3|           3|            3|     6|  56|    +38.450|     5517005|        19|   7|      1:35.922|  208.031005859375|       1|\n|      26|    19|      15|            7|    11|   3|       4|           4|            4|     5|  56|    +45.832|     5524387|        53|   8|      1:36.068|207.71499633789062|       1|\n|      27|    19|       1|            1|    22|   9|       5|           5|            5|     4|  56|    +46.548|     5525103|        53|   3|      1:35.462| 209.0330047607422|       1|\n|      28|    19|       2|            2|     3|   5|       6|           6|            6|     3|  56|    +49.833|     5528388|        55|   1|      1:35.366|209.24400329589844|       1|\n|      29|    19|      17|            9|    10|   6|       7|           7|            7|     2|  56|  +1:08.130|     5546685|        53|  12|      1:36.696|206.36599731445312|       1|\n|      30|    19|       4|            4|     5|   7|       8|           8|            8|     1|  56|  +1:10.041|     5548596|        40|  10|      1:36.288|207.24000549316406|       1|\n|      31|    19|      14|            9|     9|  12|       9|           9|            9|     0|  56|  +1:16.220|     5554775|        55|   9|      1:36.206|207.41700744628906|       1|\n|      32|    19|      18|           11|    16|  11|      10|          10|           10|     0|  56|  +1:26.214|     5564769|        56|   4|      1:35.715| 208.4810028076172|       1|\n|      33|    19|      12|            4|     6|  13|      11|          11|           11|     0|  56|  +1:32.202|     5570757|        52|  15|      1:36.956|205.81199645996094|       1|\n|      34|    19|      21|           10|    21|  17|      12|          12|           12|     0|  55|         \\N|        NULL|        52|  16|      1:36.962| 205.8000030517578|      11|\n|      35|    19|      22|           11|    17|  14|      13|          13|           13|     0|  55|         \\N|        NULL|        55|  11|      1:36.693| 206.3719940185547|      11|\n|      36|    19|       3|            3|     7|  16|      14|          14|           14|     0|  55|         \\N|        NULL|        55|  13|      1:36.782| 206.1820068359375|      11|\n|      37|    19|      19|            8|    19|  21|      15|          15|           15|     0|  55|         \\N|        NULL|        55|  18|      1:38.171|203.26499938964844|      11|\n|      38|    19|      11|            8|    18|  19|      16|          16|           16|     0|  54|         \\N|        NULL|        53|  19|      1:38.504| 202.5780029296875|      12|\n|      39|    19|       6|            3|     8|  22|      17|          17|           17|     0|  54|         \\N|        NULL|        19|  17|      1:37.711| 204.2220001220703|      12|\n|      40|    19|      20|            5|    15|  15|      18|          18|           18|     0|  39|         \\N|        NULL|        37|  14|      1:36.870| 205.9949951171875|       5|\n|      41|    19|      13|            6|     2|   1|      19|          19|           19|     0|  30|         \\N|        NULL|        15|   5|      1:35.914|208.04800415039062|      20|\n|      42|    19|      16|           10|    20|  20|      20|          20|           20|     0|   5|         \\N|        NULL|         3|  20|      1:40.330|198.89100646972656|       9|\n|      43|    19|      10|            7|    12|  10|      21|          21|           21|     0|   1|         \\N|        NULL|      NULL|NULL|            \\N|              NULL|       4|\n|      44|    19|       7|            5|    14|  18|      22|          22|           22|     0|   0|         \\N|        NULL|      NULL|NULL|            \\N|              NULL|      20|\n|      45|    20|      13|            6|     2|   2|       1|           1|            1|    10|  57|1:31:06.970|     5466970|        38|   3|      1:33.600| 208.1529998779297|       1|\n|      46|    20|       8|            6|     1|   4|       2|           2|            2|     8|  57|     +3.339|     5470309|        35|   4|      1:33.709|207.91099548339844|       1|\n|      47|    20|       9|            2|     4|   1|       3|           3|            3|     6|  57|     +4.998|     5471968|        55|   5|      1:33.775|207.76499938964844|       1|\n|      48|    20|       2|            2|     3|   6|       4|           4|            4|     5|  57|     +8.409|     5475379|        48|   2|      1:33.565| 208.2310028076172|       1|\n|      49|    20|       5|            1|    23|   5|       5|           5|            5|     4|  57|    +26.789|     5493759|        49|   1|      1:33.193|209.06199645996094|       1|\n|      50|    20|      15|            7|    11|   7|       6|           6|            6|     3|  57|    +41.314|     5508284|        45|   7|      1:34.204|206.81900024414062|       1|\n|      51|    20|      17|            9|    10|  11|       7|           7|            7|     2|  57|    +45.473|     5512443|        51|   8|      1:34.305| 206.5970001220703|       1|\n|      52|    20|       3|            3|     7|   8|       8|           8|            8|     1|  57|    +55.889|     5522859|        57|   6|      1:34.072|207.10899353027344|       1|\n|      53|    20|      10|            7|    12|  13|       9|           9|            9|     0|  57|  +1:09.500|     5536470|        56|   9|      1:34.807| 205.5030059814453|       1|\n|      54|    20|       4|            4|     5|  10|      10|          10|           10|     0|  57|  +1:17.181|     5544151|        35|  13|      1:35.194|204.66799926757812|       1|\n|      55|    20|      22|           11|    17|  12|      11|          11|           11|     0|  57|  +1:17.862|     5544832|        40|  10|      1:34.855| 205.3990020751953|       1|\n|      56|    20|      21|           10|    21|  18|      12|          12|           12|     0|  56|         \\N|        NULL|        56|  11|      1:35.057|204.96299743652344|      11|\n|      57|    20|       1|            1|    22|   3|      13|          13|           13|     0|  56|         \\N|        NULL|        25|  19|      1:35.520|  203.968994140625|      11|\n|      58|    20|       6|            3|     8|  16|      14|          14|           14|     0|  56|         \\N|        NULL|        30|  17|      1:35.433|204.15499877929688|      11|\n|      59|    20|       7|            5|    14|  15|      15|          15|           15|     0|  56|         \\N|        NULL|        33|  15|      1:35.333|204.36900329589844|      11|\n|      60|    20|      19|            8|    19|  21|      16|          16|           16|     0|  56|         \\N|        NULL|        45|  14|      1:35.324|204.38900756835938|      11|\n|      61|    20|      11|            8|    18|  22|      17|          17|           17|     0|  56|         \\N|        NULL|        56|  20|      1:35.891|203.17999267578125|      11|\n|      62|    20|      14|            9|     9|  17|      18|          18|           18|     0|  56|         \\N|        NULL|        43|  16|      1:35.351|204.33099365234375|      11|\n|      63|    20|      16|           10|    20|  20|      19|          19|           19|     0|  56|         \\N|        NULL|        55|  18|      1:35.442|204.13600158691406|      12|\n|      64|    20|      12|            4|     6|  14|      20|          20|           20|     0|  40|         \\N|        NULL|        31|  12|      1:35.129|204.80799865722656|       6|\n|      65|    20|      18|           11|    16|   9|      21|          21|           21|     0|  19|         \\N|        NULL|        11|  21|      1:36.125|202.68600463867188|       4|\n|      66|    20|      20|            5|    15|  19|      22|          22|           22|     0|   0|         \\N|        NULL|      NULL|NULL|            \\N|              NULL|       5|\n|      67|    21|       8|            6|     1|   1|       1|           1|            1|    10|  66|1:38:19.051|     5899051|        46|   1|      1:21.670| 205.1909942626953|       1|\n|      68|    21|      13|            6|     2|   3|       2|           2|            2|     8|  66|     +3.228|     5902279|        45|   2|      1:21.801|204.86300659179688|       1|\n|      69|    21|       1|            1|    22|   5|       3|           3|            3|     6|  66|     +4.187|     5903238|        20|   3|      1:22.017|  204.322998046875|       1|\n|      70|    21|       9|            2|     4|   4|       4|           4|            4|     5|  66|     +5.694|     5904745|        20|   4|      1:22.106| 204.1020050048828|       1|\n|      71|    21|      17|            9|    10|   7|       5|           5|            5|     4|  66|    +35.938|     5934989|        19|   8|      1:22.564|  202.968994140625|       1|\n|      72|    21|      18|           11|    16|  13|       6|           6|            6|     3|  66|    +53.010|     5952061|        66|   5|      1:22.353|203.48899841308594|       1|\n|      73|    21|       6|            3|     8|  12|       7|           7|            7|     2|  66|    +58.244|     5957295|        48|  15|      1:23.549| 200.5760040283203|       1|\n|      74|    21|      15|            7|    11|   8|       8|           8|            8|     1|  66|    +59.435|     5958486|        45|  10|      1:22.758|202.49400329589844|       1|\n|      75|    21|       2|            2|     3|   9|       9|           9|            9|     0|  66|  +1:03.073|     5962124|        21|   7|      1:22.519| 203.0800018310547|       1|\n|      76|    21|      21|           10|    21|  19|      10|          10|           10|     0|  65|         \\N|        NULL|        40|  14|      1:23.439|200.84100341796875|      11|\n|      77|    21|      10|            7|    12|  14|      11|          11|           11|     0|  65|         \\N|        NULL|        57|  12|      1:23.007|201.88600158691406|      11|\n|      78|    21|      14|            9|     9|  17|      12|          12|           12|     0|  65|         \\N|        NULL|        57|  11|      1:22.842|202.28799438476562|      11|\n|      79|    21|      11|            8|    18|  22|      13|          13|           13|     0|  65|         \\N|        NULL|        34|  17|      1:24.617| 198.0449981689453|      11|\n|      80|    21|       3|            3|     7|  15|      14|          14|           14|     0|  41|         \\N|        NULL|        20|  13|      1:23.319| 201.1300048828125|       5|\n|      81|    21|       4|            4|     5|   2|      15|          15|           15|     0|  34|         \\N|        NULL|        15|   9|      1:22.683|  202.677001953125|       5|\n|      82|    21|      22|           11|    17|  11|      16|          16|           16|     0|  34|         \\N|        NULL|        21|  16|      1:23.858|199.83700561523438|       4|\n|      83|    21|       5|            1|    23|   6|      17|          17|           17|     0|  21|         \\N|        NULL|        19|   6|      1:22.453| 203.2429962158203|       3|\n|      84|    21|      19|            8|    19|  21|      18|          18|           18|     0|   8|         \\N|        NULL|         6|  20|      1:26.864| 192.9219970703125|      21|\n|      85|    21|       7|            5|    14|  16|      19|          19|           19|     0|   7|         \\N|        NULL|         6|  19|      1:25.999|194.86199951171875|       4|\n|      86|    21|      12|            4|     6|  10|      20|          20|           20|     0|   6|         \\N|        NULL|         6|  18|      1:25.444| 196.1280059814453|       4|\n|      87|    21|      16|           10|    20|  20|      21|          21|           21|     0|   0|         \\N|        NULL|      NULL|NULL|            \\N|              NULL|       4|\n|      88|    21|      20|            5|    15|  18|      22|          22|           22|     0|   0|         \\N|        NULL|      NULL|NULL|            \\N|              NULL|       4|\n|      89|    22|      13|            6|     2|   1|       1|           1|            1|    10|  58|1:26:49.451|     5209451|        16|   3|      1:26.666|221.73399353027344|       1|\n|      90|    22|       1|            1|    22|   3|       2|           2|            2|     8|  58|     +3.779|     5213230|        31|   2|      1:26.529| 222.0850067138672|       1|\n|      91|    22|       8|            6|     1|   4|       3|           3|            3|     6|  58|     +4.271|     5213722|        20|   1|      1:26.506| 222.1439971923828|       1|\n|      92|    22|       9|            2|     4|   5|       4|           4|            4|     5|  58|    +21.945|     5231396|        17|   4|      1:26.780|221.44200134277344|       1|\n|      93|    22|       2|            2|     3|   9|       5|           5|            5|     4|  58|    +38.741|     5248192|        20|   5|      1:27.219| 220.3280029296875|       1|\n|      94|    22|       4|            4|     5|   7|       6|           6|            6|     3|  58|    +53.724|     5263175|        57|   6|      1:27.280| 220.1739959716797|       1|\n|      95|    22|      17|            9|    10|   6|       7|           7|            7|     2|  58|  +1:04.229|     5273680|        14|   7|      1:27.630|219.29400634765625|       1|\n|      96|    22|       3|            3|     7|  11|       8|           8|            8|     1|  58|  +1:11.406|     5280857|        55|   9|      1:27.795| 218.8820037841797|       1|\n|      97|    22|      14|            9|     9|  10|       9|           9|            9|     0|  58|  +1:15.270|     5284721|        41|  12|      1:27.966|218.45700073242188|       1|\n|      98|    22|      15|            7|    11|   8|      10|          10|           10|     0|  58|  +1:16.344|     5285795|        52|  11|      1:27.926|218.55599975585938|       1|\n|      99|    22|      18|           11|    16|  13|      11|          11|           11|     0|  57|         \\N|        NULL|        57|  13|      1:27.998| 218.3769989013672|      11|\n|     100|    22|       5|            1|    23|   2|      12|          12|           12|     0|  57|         \\N|        NULL|        55|   8|      1:27.640| 219.2689971923828|      11|\n|     101|    22|      10|            7|    12|  15|      13|          13|           13|     0|  57|         \\N|        NULL|        28|  16|      1:28.303| 217.6230010986328|      11|\n|     102|    22|      22|           11|    17|  12|      14|          14|           14|     0|  57|         \\N|        NULL|        56|  14|      1:28.017| 218.3300018310547|      11|\n|     103|    22|      12|            4|     6|  17|      15|          15|           15|     0|  57|         \\N|        NULL|        40|  10|      1:27.867| 218.7030029296875|      11|\n|     104|    22|      16|           10|    20|  19|      16|          16|           16|     0|  57|         \\N|        NULL|        35|  18|      1:28.780|216.45399475097656|      11|\n|     105|    22|      20|            5|    15|  14|      17|          17|           17|     0|  57|         \\N|        NULL|        38|  15|      1:28.180|217.92599487304688|      11|\n|     106|    22|       7|            5|    14|  18|      18|          18|           18|     0|  24|         \\N|        NULL|        19|  17|      1:28.745|216.53900146484375|      22|\n|     107|    22|       6|            3|     8|  16|      19|          19|           19|     0|   1|         \\N|        NULL|      NULL|NULL|            \\N|              NULL|       4|\n|     108|    22|      21|           10|    21|  20|      20|          20|           20|     0|   0|         \\N|        NULL|      NULL|NULL|            \\N|              NULL|       4|\n|     109|    23|       1|            1|    22|   3|       1|           1|            1|    10|  76|2:00:42.742|     7242742|        71|   6|      1:18.510|153.15199279785156|       1|\n|     110|    23|       9|            2|     4|   5|       2|           2|            2|     8|  76|     +3.064|     7245806|        75|   5|      1:17.933|154.28599548339844|       1|\n|     111|    23|      13|            6|     2|   1|       3|           3|            3|     6|  76|     +4.811|     7247553|        76|   4|      1:17.886|154.37899780273438|       1|\n|     112|    23|      17|            9|    10|   9|       4|           4|            4|     5|  76|    +19.295|     7262037|        74|   8|      1:19.036|152.13299560546875|       1|\n|     113|    23|      20|            5|    15|  19|       5|           5|            5|     4|  76|    +24.657|     7267399|        74|   7|      1:18.787|152.61399841308594|       1|\n|     114|    23|      22|           11|    17|  14|       6|           6|            6|     3|  76|    +28.408|     7271150|        75|   9|      1:19.574|   151.10400390625|       1|\n|     115|    23|       6|            3|     8|  13|       7|           7|            7|     2|  76|    +30.180|     7272922|        75|  13|      1:19.910|  150.468994140625|       1|\n|     116|    23|       5|            1|    23|   4|       8|           8|            8|     1|  76|    +33.191|     7275933|        74|   2|      1:17.282|155.58599853515625|       1|\n|     117|    23|       8|            6|     1|   2|       9|           9|            9|     0|  76|    +33.792|     7276534|        74|   1|      1:16.689|156.78900146484375|       1|\n|     118|    23|       4|            4|     5|   7|      10|          10|           10|     0|  75|         \\N|        NULL|        73|   3|      1:17.869|154.41299438476562|      11|\n|     119|    23|      18|           11|    16|  11|      11|          11|           11|     0|  75|         \\N|        NULL|        74|  10|      1:19.582|151.08900451660156|      11|\n|     120|    23|      10|            7|    12|  10|      12|          12|           12|     0|  75|         \\N|        NULL|        75|  11|      1:19.618|   151.02099609375|      11|\n|     121|    23|      15|            7|    11|   8|      13|          13|           13|     0|  75|         \\N|        NULL|        75|  12|      1:19.830| 150.6199951171875|      11|\n|     122|    23|       2|            2|     3|  12|      14|          14|           14|     0|  72|         \\N|        NULL|        72|  14|      1:20.251|149.82899475097656|      14|\n|     123|    23|      16|           10|    20|  18|      15|          15|           15|     0|  67|         \\N|        NULL|        60|  16|      1:22.039|146.56399536132812|       4|\n|     124|    23|       3|            3|     7|   6|      16|          16|           16|     0|  59|         \\N|        NULL|        58|  15|      1:21.270| 147.9510040283203|       3|\n|     125|    23|      12|            4|     6|  17|      17|          17|           17|     0|  47|         \\N|        NULL|        40|  17|      1:31.187|131.86000061035156|       3|\n|     126|    23|      21|           10|    21|  20|      18|          18|           18|     0|  36|         \\N|        NULL|        33|  18|      1:32.849|             129.5|       6|\n|     127|    23|      14|            9|     9|  15|      19|          19|           19|     0|   7|         \\N|        NULL|         7|  20|      1:42.112|117.75299835205078|       3|\n|     128|    23|       7|            5|    14|  16|      20|          20|           20|     0|   7|         \\N|        NULL|         7|  19|      1:41.150|118.87200164794922|       4|\n|     129|    24|       9|            2|     4|   2|       1|           1|            1|    10|  70|1:36:24.227|     5784227|        47|   4|      1:17.539|202.47300720214844|       1|\n|     130|    24|       2|            2|     3|   8|       2|           2|            2|     8|  70|    +16.495|     5800722|        25|   2|      1:17.430|202.75799560546875|       1|\n|     131|    24|      14|            9|     9|  13|       3|           3|            3|     6|  70|    +23.352|     5807579|        36|   7|      1:18.085| 201.0570068359375|       1|\n|     132|    24|      10|            7|    12|  11|       4|           4|            4|     5|  70|    +42.627|     5826854|        31|  17|      1:19.087|198.50999450683594|       1|\n|     133|    24|      13\n\n*** WARNING: max output size exceeded, skipping output. ***\n\n   867|    58|      24|            5|    20|  15|      15|          15|           15|     0|  63|         \\N|        NULL|        52|  14|      1:18.488| 212.2259979248047|       9|\n|     868|    58|      33|           13|    18|  17|      16|          16|           16|     0|  63|         \\N|        NULL|        28|  18|      1:19.265|210.14500427246094|      13|\n|     869|    58|      11|            8|    22|  19|      17|          17|           17|     0|  62|         \\N|        NULL|        42|  21|      1:20.411|207.14999389648438|      14|\n|     870|    58|      27|           13|    19|  18|      18|          18|           18|     0|  48|         \\N|        NULL|        28|  20|      1:19.532|209.44000244140625|      41|\n|     871|    58|      26|            5|    21|  16|      19|          19|           19|     0|  47|         \\N|        NULL|        41|  16|      1:18.541|212.08200073242188|       5|\n|     872|    58|      23|            7|     7|   6|      20|          20|           20|     0|  31|         \\N|        NULL|        24|  17|      1:18.621|211.86700439453125|      40|\n|     873|    58|      31|            1|     4|  12|      21|          21|           21|     0|  17|         \\N|        NULL|        17|  19|      1:19.482| 209.5709991455078|      20|\n|     874|    58|      36|            8|    23|  20|      22|          22|           22|     0|  10|         \\N|        NULL|         9|  22|      1:22.389|  202.177001953125|      30|\n|     875|    59|       4|            4|     1|   1|       1|           1|            1|    10|  78|1:43:43.116|     6223116|        11|   3|      1:15.671| 158.8979949951172|       1|\n|     876|    59|      31|            1|     4|   4|       2|           2|            2|     8|  78|    +14.567|     6237683|        20|   6|      1:16.008| 158.1929931640625|       1|\n|     877|    59|      14|            9|    14|   7|       3|           3|            3|     6|  78|    +52.298|     6275414|        45|  19|      1:17.849|154.45199584960938|       1|\n|     878|    59|      22|           11|    11|   5|       4|           4|            4|     5|  78|    +53.337|     6276453|        67|  12|      1:17.320|155.50900268554688|       1|\n|     879|    59|      30|            6|     5|  22|       5|           5|            5|     4|  78|    +53.830|     6276946|        74|   1|      1:15.143|160.01400756835938|       1|\n|     880|    59|      21|            4|     2|   9|       6|           6|            6|     3|  78|  +1:02.072|     6285188|        58|   5|      1:15.919|158.37899780273438|       1|\n|     881|    59|       2|            2|    16|  15|       7|           7|            7|     2|  77|         \\N|        NULL|        72|  11|      1:17.319|155.51100158691406|      11|\n|     882|    59|      23|            7|     7|  10|       8|           8|            8|     1|  77|         \\N|        NULL|        72|  15|      1:17.540| 155.0679931640625|      11|\n|     883|    59|      13|            6|     6|  21|       9|           9|            9|     0|  77|         \\N|        NULL|        40|   7|      1:16.612| 156.9459991455078|      11|\n|     884|    59|      24|            5|    20|  12|      10|          10|           10|     0|  77|         \\N|        NULL|        75|  17|      1:17.660| 154.8280029296875|      11|\n|     885|    59|      18|           11|    12|  13|      11|          11|           11|     0|  77|         \\N|        NULL|        59|  10|      1:17.300| 155.5489959716797|      11|\n|     886|    59|      27|           13|    19|  16|      12|          12|           12|     0|  77|         \\N|        NULL|        77|  16|      1:17.603|154.94200134277344|      11|\n|     887|    59|      26|            5|    21|  18|      13|          13|           13|     0|  77|         \\N|        NULL|        77|  14|      1:17.481|155.18600463867188|      11|\n|     888|    59|      35|            2|    17|  14|      14|          14|           14|     0|  77|         \\N|        NULL|        74|  18|      1:17.767|154.61500549316406|      11|\n|     889|    59|      33|           13|    18|  17|      15|          15|           15|     0|  76|         \\N|        NULL|        71|  13|      1:17.329|155.49099731445312|      12|\n|     890|    59|      36|            8|    23|  20|      16|          16|           16|     0|  75|         \\N|        NULL|        72|  22|      1:19.104| 152.0019989013672|      13|\n|     891|    59|      15|            7|     8|   6|      17|          17|           17|     0|  72|         \\N|        NULL|        30|   8|      1:17.180|155.79100036621094|       9|\n|     892|    59|      32|            9|    15|  11|      18|          18|           18|     0|  56|         \\N|        NULL|        19|  20|      1:17.930|154.29200744628906|       7|\n|     893|    59|       3|            3|    10|   8|      19|          19|           19|     0|  51|         \\N|        NULL|        43|   9|      1:17.227| 155.6959991455078|       3|\n|     894|    59|       8|            1|     3|   3|      20|          20|           20|     0|  50|         \\N|        NULL|        19|   2|      1:15.325| 159.6280059814453|      42|\n|     895|    59|      17|            3|     9|   2|      21|          21|           21|     0|  48|         \\N|        NULL|        23|   4|      1:15.680|158.87899780273438|      43|\n|     896|    59|      11|            8|    22|  19|      22|          22|           22|     0|  46|         \\N|        NULL|        39|  21|      1:18.793| 152.6020050048828|      10|\n|     897|    60|       4|            4|     1|   1|       1|           1|            1|    10|  60|1:25:51.927|     5151927|        21|   1|      1:21.599|226.81100463867188|       1|\n|     898|    60|      30|            6|     5|   3|       2|           2|            2|     8|  60|    +13.951|     5165878|        53|   2|      1:21.934|225.88400268554688|       1|\n|     899|    60|       8|            1|     3|   2|       3|           3|            3|     6|  60|    +18.672|     5170599|        15|   5|      1:22.461|224.44000244140625|       1|\n|     900|    60|      21|            4|     2|   5|       4|           4|            4|     5|  60|    +19.976|     5171903|        42|   3|      1:22.238| 225.0489959716797|       1|\n|     901|    60|      13|            6|     6|   4|       5|           5|            5|     4|  60|    +31.559|     5183486|        43|   4|      1:22.371|224.68499755859375|       1|\n|     902|    60|      31|            1|     4|   8|       6|           6|            6|     3|  60|  +1:04.769|     5216696|        38|   8|      1:22.780| 223.5749969482422|       1|\n|     903|    60|       2|            2|    16|   9|       7|           7|            7|     2|  60|  +1:14.594|     5226521|        43|   6|      1:22.706|223.77499389648438|       1|\n|     904|    60|      35|            2|    17|  10|       8|           8|            8|     1|  60|  +1:18.299|     5230226|        46|  10|      1:22.921|223.19500732421875|       1|\n|     905|    60|       3|            3|    10|  12|       9|           9|            9|     0|  60|  +1:19.008|     5230935|        47|   9|      1:22.916|223.20899963378906|       1|\n|     906|    60|      22|           11|    11|   6|      10|          10|           10|     0|  59|         \\N|        NULL|        38|  11|      1:23.224| 222.3820037841797|      11|\n|     907|    60|      15|            7|     8|  22|      11|          11|           11|     0|  59|         \\N|        NULL|        19|   7|      1:22.744|223.67300415039062|      11|\n|     908|    60|      14|            9|    14|  11|      12|          12|           12|     0|  59|         \\N|        NULL|        42|  14|      1:23.995|220.34100341796875|      11|\n|     909|    60|      24|            5|    20|  13|      13|          13|           13|     0|  59|         \\N|        NULL|        25|  15|      1:24.221|            219.75|      11|\n|     910|    60|      32|            9|    15|  14|      14|          14|           14|     0|  59|         \\N|        NULL|        30|  12|      1:23.712|221.08599853515625|      11|\n|     911|    60|      27|           13|    19|  18|      15|          15|           15|     0|  59|         \\N|        NULL|        27|  13|      1:23.977|220.38800048828125|      11|\n|     912|    60|      33|           13|    18|  16|      16|          16|           16|     0|  58|         \\N|        NULL|        25|  16|      1:24.636| 218.6719970703125|      12|\n|     913|    60|      11|            8|    22|  20|      17|          17|           17|     0|  57|         \\N|        NULL|        23|  18|      1:26.520|213.91099548339844|      13|\n|     914|    60|      36|            8|    23|  21|      18|          18|           18|     0|  57|         \\N|        NULL|        26|  19|      1:27.167|  212.322998046875|      13|\n|     915|    60|      18|           11|    12|  19|      19|          19|           19|     0|   8|         \\N|        NULL|         8|  17|      1:25.207|217.20700073242188|      44|\n|     916|    60|      26|            5|    21|  15|      20|          20|           20|     0|   1|         \\N|        NULL|      NULL|NULL|            \\N|              NULL|       3|\n|     917|    60|      23|            7|     7|   7|      21|          21|           21|     0|   0|         \\N|        NULL|      NULL|NULL|            \\N|              NULL|       3|\n|     918|    60|      17|            3|     9|  17|      22|          22|           22|     0|   0|         \\N|        NULL|      NULL|NULL|            \\N|              NULL|       3|\n|     919|    61|       4|            4|     1|   1|       1|           1|            1|    10|  70|1:34:37.308|     5677308|        22|   2|      1:15.911|206.81500244140625|       1|\n|     920|    61|      30|            6|     5|   5|       2|           2|            2|     8|  70|       +2.1|     5679408|        68|   3|      1:15.993| 206.5919952392578|       1|\n|     921|    61|       8|            1|     3|   3|       3|           3|            3|     6|  70|       +8.8|     5686108|        22|   1|      1:15.841|207.00599670410156|       1|\n|     922|    61|      21|            4|     2|   2|       4|           4|            4|     5|  70|      +15.6|     5692908|        49|   4|      1:16.669|   204.77099609375|       1|\n|     923|    61|      13|            6|     6|  10|       5|           5|            5|     4|  70|      +25.1|     5702408|        31|   5|      1:17.308| 203.0780029296875|       1|\n|     924|    61|      15|            7|     8|   4|       6|           6|            6|     3|  69|         \\N|        NULL|        15|   8|      1:17.503|202.56700134277344|      11|\n|     925|    61|       2|            2|    16|  13|       7|           7|            7|     2|  69|         \\N|        NULL|        52|   7|      1:17.454|202.69500732421875|      11|\n|     926|    61|      14|            9|    14|  22|       8|           8|            8|     1|  69|         \\N|        NULL|        39|  10|      1:17.619|202.26400756835938|      11|\n|     927|    61|      18|           11|    12|   8|       9|           9|            9|     0|  69|         \\N|        NULL|        21|  13|      1:18.001| 201.2740020751953|      11|\n|     928|    61|      26|            5|    21|  17|      10|          10|           10|     0|  69|         \\N|        NULL|        52|  12|      1:17.720| 202.0019989013672|      11|\n|     929|    61|      32|            9|    15|  12|      11|          11|           11|     0|  69|         \\N|        NULL|        55|   9|      1:17.576| 202.3769989013672|      11|\n|     930|    61|      17|            3|     9|  16|      12|          12|           12|     0|  69|         \\N|        NULL|        17|  11|      1:17.705|202.04100036621094|      11|\n|     931|    61|      24|            5|    20|  15|      13|          13|           13|     0|  68|         \\N|        NULL|        50|  14|      1:18.078| 201.0749969482422|      12|\n|     932|    61|      33|           13|    18|  18|      14|          14|           14|     0|  66|         \\N|        NULL|         5|  18|      1:19.291|197.99899291992188|      14|\n|     933|    61|      11|            8|    22|  20|      15|          15|           15|     0|  64|         \\N|        NULL|        40|  19|      1:20.490| 195.0500030517578|       3|\n|     934|    61|      35|            2|    17|  11|      16|          16|           16|     0|  58|         \\N|        NULL|        29|   6|      1:17.394| 202.8520050048828|       3|\n|     935|    61|      23|            7|     7|  14|      17|          17|           17|     0|  58|         \\N|        NULL|        19|  16|      1:18.793|199.25100708007812|      31|\n|     936|    61|      31|            1|     4|   7|      18|          18|           18|     0|  13|         \\N|        NULL|         5|  15|      1:18.493|200.01199340820312|       3|\n|     937|    61|      22|           11|    11|   9|      19|          19|           19|     0|  11|         \\N|        NULL|        10|  17|      1:19.286|198.01199340820312|      26|\n|     938|    61|      36|            8|    23|  21|      20|          20|           20|     0|   2|         \\N|        NULL|         2|  20|      2:07.709|122.93199920654297|       5|\n|     939|    61|       3|            3|    10|   6|      21|          21|           21|     0|   1|         \\N|        NULL|      NULL|NULL|            \\N|              NULL|       3|\n|     940|    61|      27|           13|    19|  19|      22|          22|           22|     0|   0|         \\N|        NULL|      NULL|NULL|            \\N|              NULL|       3|\n|     941|    62|      30|            6|     5|   1|       1|           1|            1|    10|  73|1:34:35.199|     5675199|        56|   1|      1:12.719|207.52699279785156|       1|\n|     942|    62|      13|            6|     6|   2|       2|           2|            2|     8|  73|     +7.984|     5683183|        29|   2|      1:12.954|206.85899353027344|       1|\n|     943|    62|      21|            4|     2|   3|       3|           3|            3|     6|  73|    +16.595|     5691794|        28|   3|      1:13.131|206.35800170898438|       1|\n|     944|    62|      15|            7|     8|  22|       4|           4|            4|     5|  73|    +23.604|     5698803|        37|   5|      1:13.269|  205.968994140625|       1|\n|     945|    62|       4|            4|     1|   5|       5|           5|            5|     4|  73|    +28.410|     5703609|        72|   6|      1:13.316|205.83700561523438|       1|\n|     946|    62|      22|           11|    11|   4|       6|           6|            6|     3|  73|    +36.513|     5711712|        47|   7|      1:13.611|205.01199340820312|       1|\n|     947|    62|      14|            9|    14|  17|       7|           7|            7|     2|  72|         \\N|        NULL|        33|  11|      1:14.730|201.94200134277344|      11|\n|     948|    62|      24|            5|    20|  20|       8|           8|            8|     1|  72|         \\N|        NULL|        41|   9|      1:14.286| 203.1490020751953|      11|\n|     949|    62|       3|            3|    10|  21|       9|           9|            9|     0|  72|         \\N|        NULL|        42|  10|      1:14.707| 202.0050048828125|      11|\n|     950|    62|      23|            7|     7|   8|      10|          10|           10|     0|  62|         \\N|        NULL|        29|   4|      1:13.225|206.09300231933594|      45|\n|     951|    62|      27|           13|    19|  14|      11|          11|           11|     0|  37|         \\N|        NULL|        34|  12|      1:14.731|201.94000244140625|       7|\n|     952|    62|      35|            2|    17|   6|      12|          12|           12|     0|  23|         \\N|        NULL|        19|   8|      1:13.934|204.11700439453125|       5|\n|     953|    62|      33|           13|    18|  15|      13|          13|           13|     0|   9|         \\N|        NULL|         9|  13|      1:22.036|183.95799255371094|       3|\n|     954|    62|      11|            8|    22|  18|      14|          14|           14|     0|   6|         \\N|        NULL|         6|  14|      1:43.802|145.38400268554688|       3|\n|     955|    62|      18|           11|    12|   7|      15|          15|           15|     0|   3|         \\N|        NULL|         2|  15|      2:04.692| 121.0270004272461|       3|\n|     956|    62|       8|            1|     3|   9|      16|          16|           16|     0|   0|         \\N|        NULL|      NULL|NULL|            \\N|              NULL|       3|\n|     957|    62|       2|            2|    16|  10|      17|          17|           17|     0|   0|         \\N|        NULL|      NULL|NULL|            \\N|              NULL|       3|\n|     958|    62|      31|            1|     4|  11|      18|          18|           18|     0|   0|         \\N|        NULL|      NULL|NULL|            \\N|              NULL|       3|\n|     959|    62|      17|            3|     9|  12|      19|          19|           19|     0|   0|         \\N|        NULL|      NULL|NULL|            \\N|              NULL|       3|\n|     960|    62|      26|            5|    21|  13|      20|          20|           20|     0|   0|         \\N|        NULL|      NULL|NULL|            \\N|              NULL|       3|\n|     961|    62|      32|            9|    15|  16|      21|          21|           21|     0|   0|         \\N|        NULL|      NULL|NULL|            \\N|              NULL|       3|\n|     962|    62|      36|            8|    23|  19|      22|          22|           22|     0|   0|         \\N|        NULL|      NULL|NULL|            \\N|              NULL|       3|\n|     963|    63|      30|            6|     5|   1|       1|           1|            1|    10|  70|1:32:07.803|     5527803|        46|   1|      1:17.111|205.93099975585938|       1|\n|     964|    63|       4|            4|     1|   3|       2|           2|            2|     8|  70|      +10.1|     5537903|        23|   5|      1:17.770|204.18600463867188|       1|\n|     965|    63|      13|            6|     6|   2|       3|           3|            3|     6|  70|      +22.5|     5550303|        18|   2|      1:17.141| 205.8509979248047|       1|\n|     966|    63|      23|            7|     7|   5|       4|           4|            4|     5|  70|      +27.2|     5555003|        19|   6|      1:17.809|204.08399963378906|       1|\n|     967|    63|       8|            1|     3|   6|       5|           5|            5|     4|  70|      +33.0|     5560803|        30|   4|      1:17.717| 204.3249969482422|       1|\n|     968|    63|      21|            4|     2|   7|       6|           6|            6|     3|  70|      +45.2|     5573003|        20|   9|      1:18.057|203.43499755859375|       1|\n|     969|    63|      37|            1|     4|   8|       7|           7|            7|     2|  70|      +49.4|     5577203|        34|   3|      1:17.625| 204.5679931640625|       1|\n|     970|    63|       2|            2|    16|  11|       8|           8|            8|     1|  69|         \\N|        NULL|        48|  14|      1:18.809|201.49400329589844|      11|\n|     971|    63|      14|            9|    14|   9|       9|           9|            9|     0|  69|         \\N|        NULL|        56|  17|      1:18.978|201.06300354003906|      11|\n|     972|    63|      26|            5|    21|  14|      10|          10|           10|     0|  69|         \\N|        NULL|        66|  12|      1:18.674|201.83999633789062|      11|\n|     973|    63|      35|            2|    17|  16|      11|          11|           11|     0|  69|         \\N|        NULL|        56|   7|      1:17.906| 203.8300018310547|      11|\n|     974|    63|      32|            9|    15|  12|      12|          12|           12|     0|  69|         \\N|        NULL|        56|  16|      1:18.968|201.08900451660156|      11|\n|     975|    63|      24|            5|    20|  22|      13|          13|           13|     0|  69|         \\N|        NULL|        54|  10|      1:18.241|202.95700073242188|      11|\n|     976|    63|       3|            3|    10|  18|      14|          14|           14|     0|  68|         \\N|        NULL|        62|  13|      1:18.796|201.52699279785156|      12|\n|     977|    63|      27|           13|    19|  15|      15|          15|           15|     0|  68|         \\N|        NULL|        67|  18|      1:19.356|200.10499572753906|      12|\n|     978|    63|      36|            8|    23|  20|      16|          16|           16|     0|  67|         \\N|        NULL|        53|  20|      1:20.113|198.21499633789062|      13|\n|     979|    63|      18|           11|    12|  17|      17|          17|           17|     0|  61|         \\N|        NULL|        47|  11|      1:18.510|202.26199340820312|      39|\n|     980|    63|      17|            3|     9|  10|      18|          18|           18|     0|  55|         \\N|        NULL|        34|  15|      1:18.859|201.36599731445312|      46|\n|     981|    63|      15|            7|     8|   4|      19|          19|           19|     0|  39|         \\N|        NULL|        16|   8|      1:18.036|203.49000549316406|      23|\n|     982|    63|      22|           11|    11|  13|      20|          20|           20|     0|  28|         \\N|        NULL|        16|  19|      1:20.094|198.26199340820312|       5|\n|     983|    63|      33|           13|    18|  19|      21|          21|           21|     0|  11|         \\N|        NULL|         8|  21|      1:21.663|194.45199584960938|      26|\n|     984|    63|      11|            8|    22|  21|      22|          22|           22|     0|   0|         \\N|        NULL|      NULL|NULL|            \\N|              NULL|       7|\n|     985|    64|      30|            6|     5|   2|       1|           1|            1|    10|  67|1:27:51.693|     5271693|        17|   1|      1:16.357|215.64999389648438|       1|\n|     986|    64|      13|            6|     6|   3|       2|           2|            2|     8|  67|       +0.7|     5272393|        18|   2|      1:16.392|215.55099487304688|       1|\n|     987|    64|       8|            1|     3|   1|       3|           3|            3|     6|  67|      +13.2|     5284893|         4|   3|      1:16.475|215.31700134277344|       1|\n|     988|    64|      18|           11|    12|   4|       4|           4|            4|     5|  67|      +18.8|     5290493|        14|   7|      1:16.818| 214.3560028076172|       1|\n|     989|    64|       4|            4|     1|   7|       5|           5|            5|     4|  67|      +23.7|     5295393|        66|   9|      1:17.256|213.13999938964844|       1|\n|     990|    64|      21|            4|     2|   5|       6|           6|            6|     3|  67|      +24.8|     5296493|        18|   8|      1:16.981|213.90199279785156|       1|\n|     991|    64|      15|            7|     8|  20|       7|           7|            7|     2|  67|      +26.5|     5298193|        48|   5|      1:16.807|214.38600158691406|       1|\n|     992|    64|      32|            9|    15|  12|       8|           8|            8|     1|  67|      +48.1|     5319793|        49|  12|      1:17.719| 211.8699951171875|       1|\n|     993|    64|      23|            7|     7|   8|       9|           9|            9|     0|  67|      +60.3|     5331993|        64|   4|      1:16.763|214.50900268554688|       1|\n|     994|    64|      24|            5|    20|  16|      10|          10|           10|     0|  66|         \\N|        NULL|        51|  10|      1:17.407| 212.7239990234375|      11|\n|     995|    64|      14|            9|    14|  10|      11|          11|           11|     0|  66|         \\N|        NULL|        24|  13|      1:17.811| 211.6199951171875|      11|\n|     996|    64|      26|            5|    21|  19|      12|          12|           12|     0|  66|         \\N|        NULL|        50|  11|      1:17.450| 212.6060028076172|      11|\n|     997|    64|      17|            3|     9|  11|      13|          13|           13|     0|  59|         \\N|        NULL|        43|   6|      1:16.812| 214.3719940185547|      47|\n|     998|    64|      11|            8|    22|  17|      14|          14|           14|     0|  38|         \\N|        NULL|        26|  19|      1:19.413| 207.3509979248047|       6|\n|     999|    64|      35|            2|    17|  13|      15|          15|           15|     0|  30|         \\N|        NULL|        29|  17|      1:18.904|208.68899536132812|       3|\n|    1000|    64|      22|           11|    11|   6|      16|          16|           16|     0|  18|         \\N|        NULL|        16|  14|      1:18.029| 211.0290069580078|       5|\n+--------+------+--------+-------------+------+----+--------+------------+-------------+------+----+-----------+------------+----------+----+--------------+------------------+--------+\nonly showing top 1000 rows\n\n"
     ]
    }
   ],
   "source": [
    "from pyspark.sql.functions import col, when\n",
    "\n",
    "# Assuming 'df' is your DataFrame\n",
    "results_df = results_df.withColumn(\"position\", when(col(\"position\").isNull(), col(\"positionOrder\")).otherwise(col(\"position\")))\n",
    "results_df = results_df.withColumn(\"positionText\", when(col(\"positionText\").isNull(), col(\"positionOrder\")).otherwise(col(\"positionText\")))\n",
    "\n",
    "# Show some results to verify\n",
    "results_df.show(1000)\n"
   ]
  },
  {
   "cell_type": "code",
   "execution_count": 0,
   "metadata": {
    "application/vnd.databricks.v1+cell": {
     "cellMetadata": {
      "byteLimit": 2048000,
      "rowLimit": 10000
     },
     "inputWidgets": {},
     "nuid": "7d7b97a3-d182-47df-95d5-4c01f99ccf7b",
     "showTitle": false,
     "title": ""
    }
   },
   "outputs": [
    {
     "output_type": "stream",
     "name": "stdout",
     "output_type": "stream",
     "text": [
      "+--------+------+--------+-------------+------+----+--------+------------+-------------+------+----+-----------+------------+----------+----+--------------+------------------+--------+\n|resultId|raceId|driverId|constructorId|number|grid|position|positionText|positionOrder|points|laps|       time|milliseconds|fastestLap|rank|fastestLapTime|   fastestLapSpeed|statusId|\n+--------+------+--------+-------------+------+----+--------+------------+-------------+------+----+-----------+------------+----------+----+--------------+------------------+--------+\n|       1|    18|       1|            1|    22|   1|       1|           1|            1|    10|  58|1:34:50.616|     5690616|        39|   2|      1:27.452| 218.3000030517578|       1|\n|       2|    18|       2|            2|     3|   5|       2|           2|            2|     8|  58|     +5.478|     5696094|        41|   3|      1:27.739|217.58599853515625|       1|\n|       3|    18|       3|            3|     7|   7|       3|           3|            3|     6|  58|     +8.163|     5698779|        41|   5|      1:28.090|  216.718994140625|       1|\n|       4|    18|       4|            4|     5|  11|       4|           4|            4|     5|  58|    +17.181|     5707797|        58|   7|      1:28.603|215.46400451660156|       1|\n|       5|    18|       5|            1|    23|   3|       5|           5|            5|     4|  58|    +18.014|     5708630|        43|   1|      1:27.418|218.38499450683594|       1|\n|       6|    18|       6|            3|     8|  13|       6|           6|            6|     3|  57|         \\N|        NULL|        50|  14|      1:29.639| 212.9739990234375|      11|\n|       7|    18|       7|            5|    14|  17|       7|           7|            7|     2|  55|         \\N|        NULL|        54|   8|      1:29.534| 213.2239990234375|       5|\n|       8|    18|       8|            6|     1|  15|       8|           8|            8|     1|  53|         \\N|        NULL|        20|   4|      1:27.903|217.17999267578125|       5|\n|       9|    18|       9|            2|     4|   2|       9|           9|            9|     0|  47|         \\N|        NULL|        15|   9|      1:28.753|215.10000610351562|       4|\n|      10|    18|      10|            7|    12|  18|      10|          10|           10|     0|  43|         \\N|        NULL|        23|  13|      1:29.558|213.16600036621094|       3|\n|      11|    18|      11|            8|    18|  19|      11|          11|           11|     0|  32|         \\N|        NULL|        24|  15|      1:30.892|210.03799438476562|       7|\n|      12|    18|      12|            4|     6|  20|      12|          12|           12|     0|  30|         \\N|        NULL|        20|  16|      1:31.384|208.90699768066406|       8|\n|      13|    18|      13|            6|     2|   4|      13|          13|           13|     0|  29|         \\N|        NULL|        23|   6|      1:28.175|216.50999450683594|       5|\n|      14|    18|      14|            9|     9|   8|      14|          14|           14|     0|  25|         \\N|        NULL|        21|  11|      1:29.502| 213.3000030517578|       4|\n|      15|    18|      15|            7|    11|   6|      15|          15|           15|     0|  19|         \\N|        NULL|        18|  10|      1:29.310|213.75799560546875|      10|\n|      16|    18|      16|           10|    20|  22|      16|          16|           16|     0|   8|         \\N|        NULL|         8|  17|      1:32.021|207.46099853515625|       9|\n|      17|    18|      17|            9|    10|  14|      17|          17|           17|     0|   0|         \\N|        NULL|      NULL|NULL|            \\N|              NULL|       4|\n|      18|    18|      18|           11|    16|  12|      18|          18|           18|     0|   0|         \\N|        NULL|      NULL|NULL|            \\N|              NULL|       4|\n|      19|    18|      19|            8|    19|  21|      19|          19|           19|     0|   0|         \\N|        NULL|      NULL|NULL|            \\N|              NULL|       4|\n|      20|    18|      20|            5|    15|   9|      20|          20|           20|     0|   0|         \\N|        NULL|      NULL|NULL|            \\N|              NULL|       4|\n|      21|    18|      21|           10|    21|  16|      21|          21|           21|     0|   0|         \\N|        NULL|      NULL|NULL|            \\N|              NULL|       4|\n|      22|    18|      22|           11|    17|  10|      22|          22|           22|     0|  58|         \\N|        NULL|        44|   8|      1:28.736|215.14100646972656|       2|\n|      23|    19|       8|            6|     1|   2|       1|           1|            1|    10|  56|1:31:18.555|     5478555|        37|   2|      1:35.405| 209.1580047607422|       1|\n|      24|    19|       9|            2|     4|   4|       2|           2|            2|     8|  56|    +19.570|     5498125|        39|   6|      1:35.921| 208.0330047607422|       1|\n|      25|    19|       5|            1|    23|   8|       3|           3|            3|     6|  56|    +38.450|     5517005|        19|   7|      1:35.922|  208.031005859375|       1|\n|      26|    19|      15|            7|    11|   3|       4|           4|            4|     5|  56|    +45.832|     5524387|        53|   8|      1:36.068|207.71499633789062|       1|\n|      27|    19|       1|            1|    22|   9|       5|           5|            5|     4|  56|    +46.548|     5525103|        53|   3|      1:35.462| 209.0330047607422|       1|\n|      28|    19|       2|            2|     3|   5|       6|           6|            6|     3|  56|    +49.833|     5528388|        55|   1|      1:35.366|209.24400329589844|       1|\n|      29|    19|      17|            9|    10|   6|       7|           7|            7|     2|  56|  +1:08.130|     5546685|        53|  12|      1:36.696|206.36599731445312|       1|\n|      30|    19|       4|            4|     5|   7|       8|           8|            8|     1|  56|  +1:10.041|     5548596|        40|  10|      1:36.288|207.24000549316406|       1|\n|      31|    19|      14|            9|     9|  12|       9|           9|            9|     0|  56|  +1:16.220|     5554775|        55|   9|      1:36.206|207.41700744628906|       1|\n|      32|    19|      18|           11|    16|  11|      10|          10|           10|     0|  56|  +1:26.214|     5564769|        56|   4|      1:35.715| 208.4810028076172|       1|\n|      33|    19|      12|            4|     6|  13|      11|          11|           11|     0|  56|  +1:32.202|     5570757|        52|  15|      1:36.956|205.81199645996094|       1|\n|      34|    19|      21|           10|    21|  17|      12|          12|           12|     0|  55|         \\N|        NULL|        52|  16|      1:36.962| 205.8000030517578|      11|\n|      35|    19|      22|           11|    17|  14|      13|          13|           13|     0|  55|         \\N|        NULL|        55|  11|      1:36.693| 206.3719940185547|      11|\n|      36|    19|       3|            3|     7|  16|      14|          14|           14|     0|  55|         \\N|        NULL|        55|  13|      1:36.782| 206.1820068359375|      11|\n|      37|    19|      19|            8|    19|  21|      15|          15|           15|     0|  55|         \\N|        NULL|        55|  18|      1:38.171|203.26499938964844|      11|\n|      38|    19|      11|            8|    18|  19|      16|          16|           16|     0|  54|         \\N|        NULL|        53|  19|      1:38.504| 202.5780029296875|      12|\n|      39|    19|       6|            3|     8|  22|      17|          17|           17|     0|  54|         \\N|        NULL|        19|  17|      1:37.711| 204.2220001220703|      12|\n|      40|    19|      20|            5|    15|  15|      18|          18|           18|     0|  39|         \\N|        NULL|        37|  14|      1:36.870| 205.9949951171875|       5|\n|      41|    19|      13|            6|     2|   1|      19|          19|           19|     0|  30|         \\N|        NULL|        15|   5|      1:35.914|208.04800415039062|      20|\n|      42|    19|      16|           10|    20|  20|      20|          20|           20|     0|   5|         \\N|        NULL|         3|  20|      1:40.330|198.89100646972656|       9|\n|      43|    19|      10|            7|    12|  10|      21|          21|           21|     0|   1|         \\N|        NULL|      NULL|NULL|            \\N|              NULL|       4|\n|      44|    19|       7|            5|    14|  18|      22|          22|           22|     0|   0|         \\N|        NULL|      NULL|NULL|            \\N|              NULL|      20|\n|      45|    20|      13|            6|     2|   2|       1|           1|            1|    10|  57|1:31:06.970|     5466970|        38|   3|      1:33.600| 208.1529998779297|       1|\n|      46|    20|       8|            6|     1|   4|       2|           2|            2|     8|  57|     +3.339|     5470309|        35|   4|      1:33.709|207.91099548339844|       1|\n|      47|    20|       9|            2|     4|   1|       3|           3|            3|     6|  57|     +4.998|     5471968|        55|   5|      1:33.775|207.76499938964844|       1|\n|      48|    20|       2|            2|     3|   6|       4|           4|            4|     5|  57|     +8.409|     5475379|        48|   2|      1:33.565| 208.2310028076172|       1|\n|      49|    20|       5|            1|    23|   5|       5|           5|            5|     4|  57|    +26.789|     5493759|        49|   1|      1:33.193|209.06199645996094|       1|\n|      50|    20|      15|            7|    11|   7|       6|           6|            6|     3|  57|    +41.314|     5508284|        45|   7|      1:34.204|206.81900024414062|       1|\n|      51|    20|      17|            9|    10|  11|       7|           7|            7|     2|  57|    +45.473|     5512443|        51|   8|      1:34.305| 206.5970001220703|       1|\n|      52|    20|       3|            3|     7|   8|       8|           8|            8|     1|  57|    +55.889|     5522859|        57|   6|      1:34.072|207.10899353027344|       1|\n|      53|    20|      10|            7|    12|  13|       9|           9|            9|     0|  57|  +1:09.500|     5536470|        56|   9|      1:34.807| 205.5030059814453|       1|\n|      54|    20|       4|            4|     5|  10|      10|          10|           10|     0|  57|  +1:17.181|     5544151|        35|  13|      1:35.194|204.66799926757812|       1|\n|      55|    20|      22|           11|    17|  12|      11|          11|           11|     0|  57|  +1:17.862|     5544832|        40|  10|      1:34.855| 205.3990020751953|       1|\n|      56|    20|      21|           10|    21|  18|      12|          12|           12|     0|  56|         \\N|        NULL|        56|  11|      1:35.057|204.96299743652344|      11|\n|      57|    20|       1|            1|    22|   3|      13|          13|           13|     0|  56|         \\N|        NULL|        25|  19|      1:35.520|  203.968994140625|      11|\n|      58|    20|       6|            3|     8|  16|      14|          14|           14|     0|  56|         \\N|        NULL|        30|  17|      1:35.433|204.15499877929688|      11|\n|      59|    20|       7|            5|    14|  15|      15|          15|           15|     0|  56|         \\N|        NULL|        33|  15|      1:35.333|204.36900329589844|      11|\n|      60|    20|      19|            8|    19|  21|      16|          16|           16|     0|  56|         \\N|        NULL|        45|  14|      1:35.324|204.38900756835938|      11|\n|      61|    20|      11|            8|    18|  22|      17|          17|           17|     0|  56|         \\N|        NULL|        56|  20|      1:35.891|203.17999267578125|      11|\n|      62|    20|      14|            9|     9|  17|      18|          18|           18|     0|  56|         \\N|        NULL|        43|  16|      1:35.351|204.33099365234375|      11|\n|      63|    20|      16|           10|    20|  20|      19|          19|           19|     0|  56|         \\N|        NULL|        55|  18|      1:35.442|204.13600158691406|      12|\n|      64|    20|      12|            4|     6|  14|      20|          20|           20|     0|  40|         \\N|        NULL|        31|  12|      1:35.129|204.80799865722656|       6|\n|      65|    20|      18|           11|    16|   9|      21|          21|           21|     0|  19|         \\N|        NULL|        11|  21|      1:36.125|202.68600463867188|       4|\n|      66|    20|      20|            5|    15|  19|      22|          22|           22|     0|   0|         \\N|        NULL|      NULL|NULL|            \\N|              NULL|       5|\n|      67|    21|       8|            6|     1|   1|       1|           1|            1|    10|  66|1:38:19.051|     5899051|        46|   1|      1:21.670| 205.1909942626953|       1|\n|      68|    21|      13|            6|     2|   3|       2|           2|            2|     8|  66|     +3.228|     5902279|        45|   2|      1:21.801|204.86300659179688|       1|\n|      69|    21|       1|            1|    22|   5|       3|           3|            3|     6|  66|     +4.187|     5903238|        20|   3|      1:22.017|  204.322998046875|       1|\n|      70|    21|       9|            2|     4|   4|       4|           4|            4|     5|  66|     +5.694|     5904745|        20|   4|      1:22.106| 204.1020050048828|       1|\n|      71|    21|      17|            9|    10|   7|       5|           5|            5|     4|  66|    +35.938|     5934989|        19|   8|      1:22.564|  202.968994140625|       1|\n|      72|    21|      18|           11|    16|  13|       6|           6|            6|     3|  66|    +53.010|     5952061|        66|   5|      1:22.353|203.48899841308594|       1|\n|      73|    21|       6|            3|     8|  12|       7|           7|            7|     2|  66|    +58.244|     5957295|        48|  15|      1:23.549| 200.5760040283203|       1|\n|      74|    21|      15|            7|    11|   8|       8|           8|            8|     1|  66|    +59.435|     5958486|        45|  10|      1:22.758|202.49400329589844|       1|\n|      75|    21|       2|            2|     3|   9|       9|           9|            9|     0|  66|  +1:03.073|     5962124|        21|   7|      1:22.519| 203.0800018310547|       1|\n|      76|    21|      21|           10|    21|  19|      10|          10|           10|     0|  65|         \\N|        NULL|        40|  14|      1:23.439|200.84100341796875|      11|\n|      77|    21|      10|            7|    12|  14|      11|          11|           11|     0|  65|         \\N|        NULL|        57|  12|      1:23.007|201.88600158691406|      11|\n|      78|    21|      14|            9|     9|  17|      12|          12|           12|     0|  65|         \\N|        NULL|        57|  11|      1:22.842|202.28799438476562|      11|\n|      79|    21|      11|            8|    18|  22|      13|          13|           13|     0|  65|         \\N|        NULL|        34|  17|      1:24.617| 198.0449981689453|      11|\n|      80|    21|       3|            3|     7|  15|      14|          14|           14|     0|  41|         \\N|        NULL|        20|  13|      1:23.319| 201.1300048828125|       5|\n|      81|    21|       4|            4|     5|   2|      15|          15|           15|     0|  34|         \\N|        NULL|        15|   9|      1:22.683|  202.677001953125|       5|\n|      82|    21|      22|           11|    17|  11|      16|          16|           16|     0|  34|         \\N|        NULL|        21|  16|      1:23.858|199.83700561523438|       4|\n|      83|    21|       5|            1|    23|   6|      17|          17|           17|     0|  21|         \\N|        NULL|        19|   6|      1:22.453| 203.2429962158203|       3|\n|      84|    21|      19|            8|    19|  21|      18|          18|           18|     0|   8|         \\N|        NULL|         6|  20|      1:26.864| 192.9219970703125|      21|\n|      85|    21|       7|            5|    14|  16|      19|          19|           19|     0|   7|         \\N|        NULL|         6|  19|      1:25.999|194.86199951171875|       4|\n|      86|    21|      12|            4|     6|  10|      20|          20|           20|     0|   6|         \\N|        NULL|         6|  18|      1:25.444| 196.1280059814453|       4|\n|      87|    21|      16|           10|    20|  20|      21|          21|           21|     0|   0|         \\N|        NULL|      NULL|NULL|            \\N|              NULL|       4|\n|      88|    21|      20|            5|    15|  18|      22|          22|           22|     0|   0|         \\N|        NULL|      NULL|NULL|            \\N|              NULL|       4|\n|      89|    22|      13|            6|     2|   1|       1|           1|            1|    10|  58|1:26:49.451|     5209451|        16|   3|      1:26.666|221.73399353027344|       1|\n|      90|    22|       1|            1|    22|   3|       2|           2|            2|     8|  58|     +3.779|     5213230|        31|   2|      1:26.529| 222.0850067138672|       1|\n|      91|    22|       8|            6|     1|   4|       3|           3|            3|     6|  58|     +4.271|     5213722|        20|   1|      1:26.506| 222.1439971923828|       1|\n|      92|    22|       9|            2|     4|   5|       4|           4|            4|     5|  58|    +21.945|     5231396|        17|   4|      1:26.780|221.44200134277344|       1|\n|      93|    22|       2|            2|     3|   9|       5|           5|            5|     4|  58|    +38.741|     5248192|        20|   5|      1:27.219| 220.3280029296875|       1|\n|      94|    22|       4|            4|     5|   7|       6|           6|            6|     3|  58|    +53.724|     5263175|        57|   6|      1:27.280| 220.1739959716797|       1|\n|      95|    22|      17|            9|    10|   6|       7|           7|            7|     2|  58|  +1:04.229|     5273680|        14|   7|      1:27.630|219.29400634765625|       1|\n|      96|    22|       3|            3|     7|  11|       8|           8|            8|     1|  58|  +1:11.406|     5280857|        55|   9|      1:27.795| 218.8820037841797|       1|\n|      97|    22|      14|            9|     9|  10|       9|           9|            9|     0|  58|  +1:15.270|     5284721|        41|  12|      1:27.966|218.45700073242188|       1|\n|      98|    22|      15|            7|    11|   8|      10|          10|           10|     0|  58|  +1:16.344|     5285795|        52|  11|      1:27.926|218.55599975585938|       1|\n|      99|    22|      18|           11|    16|  13|      11|          11|           11|     0|  57|         \\N|        NULL|        57|  13|      1:27.998| 218.3769989013672|      11|\n|     100|    22|       5|            1|    23|   2|      12|          12|           12|     0|  57|         \\N|        NULL|        55|   8|      1:27.640| 219.2689971923828|      11|\n+--------+------+--------+-------------+------+----+--------+------------+-------------+------+----+-----------+------------+----------+----+--------------+------------------+--------+\nonly showing top 100 rows\n\n"
     ]
    }
   ],
   "source": [
    "results_df.show(100)"
   ]
  },
  {
   "cell_type": "code",
   "execution_count": 0,
   "metadata": {
    "application/vnd.databricks.v1+cell": {
     "cellMetadata": {
      "byteLimit": 2048000,
      "rowLimit": 10000
     },
     "inputWidgets": {},
     "nuid": "0a192868-7117-4e6e-9837-6547e6c040e8",
     "showTitle": false,
     "title": ""
    }
   },
   "outputs": [
    {
     "output_type": "stream",
     "name": "stdout",
     "output_type": "stream",
     "text": [
      "+--------+------+--------+-------------+------+----+--------+------------+-------------+------+----+-----------+------------+----------+----+--------------+------------------+--------+\n|resultId|raceId|driverId|constructorId|number|grid|position|positionText|positionOrder|points|laps|       time|milliseconds|fastestLap|rank|fastestLapTime|   fastestLapSpeed|statusId|\n+--------+------+--------+-------------+------+----+--------+------------+-------------+------+----+-----------+------------+----------+----+--------------+------------------+--------+\n|       1|    18|       1|            1|    22|   1|       1|           1|            1|    10|  58|1:34:50.616|     5690616|        39|   2|      1:27.452| 218.3000030517578|       1|\n|       2|    18|       2|            2|     3|   5|       2|           2|            2|     8|  58|     +5.478|     5696094|        41|   3|      1:27.739|217.58599853515625|       1|\n|       3|    18|       3|            3|     7|   7|       3|           3|            3|     6|  58|     +8.163|     5698779|        41|   5|      1:28.090|  216.718994140625|       1|\n|       4|    18|       4|            4|     5|  11|       4|           4|            4|     5|  58|    +17.181|     5707797|        58|   7|      1:28.603|215.46400451660156|       1|\n|       5|    18|       5|            1|    23|   3|       5|           5|            5|     4|  58|    +18.014|     5708630|        43|   1|      1:27.418|218.38499450683594|       1|\n|       6|    18|       6|            3|     8|  13|       6|           6|            6|     3|  57|          0|           0|        50|  14|      1:29.639| 212.9739990234375|      11|\n|       7|    18|       7|            5|    14|  17|       7|           7|            7|     2|  55|          0|           0|        54|   8|      1:29.534| 213.2239990234375|       5|\n|       8|    18|       8|            6|     1|  15|       8|           8|            8|     1|  53|          0|           0|        20|   4|      1:27.903|217.17999267578125|       5|\n|       9|    18|       9|            2|     4|   2|       9|           9|            9|     0|  47|          0|           0|        15|   9|      1:28.753|215.10000610351562|       4|\n|      10|    18|      10|            7|    12|  18|      10|          10|           10|     0|  43|          0|           0|        23|  13|      1:29.558|213.16600036621094|       3|\n|      11|    18|      11|            8|    18|  19|      11|          11|           11|     0|  32|          0|           0|        24|  15|      1:30.892|210.03799438476562|       7|\n|      12|    18|      12|            4|     6|  20|      12|          12|           12|     0|  30|          0|           0|        20|  16|      1:31.384|208.90699768066406|       8|\n|      13|    18|      13|            6|     2|   4|      13|          13|           13|     0|  29|          0|           0|        23|   6|      1:28.175|216.50999450683594|       5|\n|      14|    18|      14|            9|     9|   8|      14|          14|           14|     0|  25|          0|           0|        21|  11|      1:29.502| 213.3000030517578|       4|\n|      15|    18|      15|            7|    11|   6|      15|          15|           15|     0|  19|          0|           0|        18|  10|      1:29.310|213.75799560546875|      10|\n|      16|    18|      16|           10|    20|  22|      16|          16|           16|     0|   8|          0|           0|         8|  17|      1:32.021|207.46099853515625|       9|\n|      17|    18|      17|            9|    10|  14|      17|          17|           17|     0|   0|          0|           0|         0|   0|             0|               0.0|       4|\n|      18|    18|      18|           11|    16|  12|      18|          18|           18|     0|   0|          0|           0|         0|   0|             0|               0.0|       4|\n|      19|    18|      19|            8|    19|  21|      19|          19|           19|     0|   0|          0|           0|         0|   0|             0|               0.0|       4|\n|      20|    18|      20|            5|    15|   9|      20|          20|           20|     0|   0|          0|           0|         0|   0|             0|               0.0|       4|\n+--------+------+--------+-------------+------+----+--------+------------+-------------+------+----+-----------+------------+----------+----+--------------+------------------+--------+\nonly showing top 20 rows\n\n"
     ]
    }
   ],
   "source": [
    "from pyspark.sql.functions import col, when, lit\n",
    "\n",
    "# Assuming 'df' is your DataFrame\n",
    "results_df = results_df.withColumn(\"time\", when(col(\"time\") == \"\\\\N\", lit(0)).otherwise(col(\"time\")))\n",
    "results_df = results_df.withColumn(\"milliseconds\", when(col(\"milliseconds\").isNull(), lit(0)).otherwise(col(\"milliseconds\")))\n",
    "results_df = results_df.withColumn(\"fastestLap\", when(col(\"fastestLap\").isNull(), lit(0)).otherwise(col(\"fastestLap\")))\n",
    "results_df = results_df.withColumn(\"rank\", when(col(\"rank\").isNull(), lit(0)).otherwise(col(\"rank\")))\n",
    "results_df = results_df.withColumn(\"fastestLapTime\", when(col(\"fastestLapTime\")== \"\\\\N\", lit(0)).otherwise(col(\"fastestLapTime\")))\n",
    "results_df = results_df.withColumn(\"fastestLapSpeed\", when(col(\"fastestLapSpeed\").isNull(), lit(0)).otherwise(col(\"fastestLapSpeed\")))\n",
    "\n",
    "\n",
    "\n",
    "\n",
    "\n",
    "\n",
    "# Show some results to verify\n",
    "results_df.show()\n"
   ]
  },
  {
   "cell_type": "code",
   "execution_count": 0,
   "metadata": {
    "application/vnd.databricks.v1+cell": {
     "cellMetadata": {
      "byteLimit": 2048000,
      "rowLimit": 10000
     },
     "inputWidgets": {},
     "nuid": "b7205fd2-4713-4f65-8ea5-47994c6fbc2e",
     "showTitle": false,
     "title": ""
    }
   },
   "outputs": [
    {
     "output_type": "stream",
     "name": "stdout",
     "output_type": "stream",
     "text": [
      "+--------+------+--------+-------------+------+----+--------+------------+-------------+------+----+-----------+------------+----------+----+--------------+------------------+--------+\n|resultId|raceId|driverId|constructorId|number|grid|position|positionText|positionOrder|points|laps|       time|milliseconds|fastestLap|rank|fastestLapTime|   fastestLapSpeed|statusId|\n+--------+------+--------+-------------+------+----+--------+------------+-------------+------+----+-----------+------------+----------+----+--------------+------------------+--------+\n|       1|    18|       1|            1|    22|   1|       1|           1|            1|    10|  58|1:34:50.616|     5690616|        39|   2|      1:27.452| 218.3000030517578|       1|\n|       2|    18|       2|            2|     3|   5|       2|           2|            2|     8|  58|     +5.478|     5696094|        41|   3|      1:27.739|217.58599853515625|       1|\n|       3|    18|       3|            3|     7|   7|       3|           3|            3|     6|  58|     +8.163|     5698779|        41|   5|      1:28.090|  216.718994140625|       1|\n|       4|    18|       4|            4|     5|  11|       4|           4|            4|     5|  58|    +17.181|     5707797|        58|   7|      1:28.603|215.46400451660156|       1|\n|       5|    18|       5|            1|    23|   3|       5|           5|            5|     4|  58|    +18.014|     5708630|        43|   1|      1:27.418|218.38499450683594|       1|\n|       6|    18|       6|            3|     8|  13|       6|           6|            6|     3|  57|          0|           0|        50|  14|      1:29.639| 212.9739990234375|      11|\n|       7|    18|       7|            5|    14|  17|       7|           7|            7|     2|  55|          0|           0|        54|   8|      1:29.534| 213.2239990234375|       5|\n|       8|    18|       8|            6|     1|  15|       8|           8|            8|     1|  53|          0|           0|        20|   4|      1:27.903|217.17999267578125|       5|\n|       9|    18|       9|            2|     4|   2|       9|           9|            9|     0|  47|          0|           0|        15|   9|      1:28.753|215.10000610351562|       4|\n|      10|    18|      10|            7|    12|  18|      10|          10|           10|     0|  43|          0|           0|        23|  13|      1:29.558|213.16600036621094|       3|\n|      11|    18|      11|            8|    18|  19|      11|          11|           11|     0|  32|          0|           0|        24|  15|      1:30.892|210.03799438476562|       7|\n|      12|    18|      12|            4|     6|  20|      12|          12|           12|     0|  30|          0|           0|        20|  16|      1:31.384|208.90699768066406|       8|\n|      13|    18|      13|            6|     2|   4|      13|          13|           13|     0|  29|          0|           0|        23|   6|      1:28.175|216.50999450683594|       5|\n|      14|    18|      14|            9|     9|   8|      14|          14|           14|     0|  25|          0|           0|        21|  11|      1:29.502| 213.3000030517578|       4|\n|      15|    18|      15|            7|    11|   6|      15|          15|           15|     0|  19|          0|           0|        18|  10|      1:29.310|213.75799560546875|      10|\n|      16|    18|      16|           10|    20|  22|      16|          16|           16|     0|   8|          0|           0|         8|  17|      1:32.021|207.46099853515625|       9|\n|      17|    18|      17|            9|    10|  14|      17|          17|           17|     0|   0|          0|           0|         0|   0|             0|               0.0|       4|\n|      18|    18|      18|           11|    16|  12|      18|          18|           18|     0|   0|          0|           0|         0|   0|             0|               0.0|       4|\n|      19|    18|      19|            8|    19|  21|      19|          19|           19|     0|   0|          0|           0|         0|   0|             0|               0.0|       4|\n|      20|    18|      20|            5|    15|   9|      20|          20|           20|     0|   0|          0|           0|         0|   0|             0|               0.0|       4|\n|      21|    18|      21|           10|    21|  16|      21|          21|           21|     0|   0|          0|           0|         0|   0|             0|               0.0|       4|\n|      22|    18|      22|           11|    17|  10|      22|          22|           22|     0|  58|          0|           0|        44|   8|      1:28.736|215.14100646972656|       2|\n|      23|    19|       8|            6|     1|   2|       1|           1|            1|    10|  56|1:31:18.555|     5478555|        37|   2|      1:35.405| 209.1580047607422|       1|\n|      24|    19|       9|            2|     4|   4|       2|           2|            2|     8|  56|    +19.570|     5498125|        39|   6|      1:35.921| 208.0330047607422|       1|\n|      25|    19|       5|            1|    23|   8|       3|           3|            3|     6|  56|    +38.450|     5517005|        19|   7|      1:35.922|  208.031005859375|       1|\n|      26|    19|      15|            7|    11|   3|       4|           4|            4|     5|  56|    +45.832|     5524387|        53|   8|      1:36.068|207.71499633789062|       1|\n|      27|    19|       1|            1|    22|   9|       5|           5|            5|     4|  56|    +46.548|     5525103|        53|   3|      1:35.462| 209.0330047607422|       1|\n|      28|    19|       2|            2|     3|   5|       6|           6|            6|     3|  56|    +49.833|     5528388|        55|   1|      1:35.366|209.24400329589844|       1|\n|      29|    19|      17|            9|    10|   6|       7|           7|            7|     2|  56|  +1:08.130|     5546685|        53|  12|      1:36.696|206.36599731445312|       1|\n|      30|    19|       4|            4|     5|   7|       8|           8|            8|     1|  56|  +1:10.041|     5548596|        40|  10|      1:36.288|207.24000549316406|       1|\n|      31|    19|      14|            9|     9|  12|       9|           9|            9|     0|  56|  +1:16.220|     5554775|        55|   9|      1:36.206|207.41700744628906|       1|\n|      32|    19|      18|           11|    16|  11|      10|          10|           10|     0|  56|  +1:26.214|     5564769|        56|   4|      1:35.715| 208.4810028076172|       1|\n|      33|    19|      12|            4|     6|  13|      11|          11|           11|     0|  56|  +1:32.202|     5570757|        52|  15|      1:36.956|205.81199645996094|       1|\n|      34|    19|      21|           10|    21|  17|      12|          12|           12|     0|  55|          0|           0|        52|  16|      1:36.962| 205.8000030517578|      11|\n|      35|    19|      22|           11|    17|  14|      13|          13|           13|     0|  55|          0|           0|        55|  11|      1:36.693| 206.3719940185547|      11|\n|      36|    19|       3|            3|     7|  16|      14|          14|           14|     0|  55|          0|           0|        55|  13|      1:36.782| 206.1820068359375|      11|\n|      37|    19|      19|            8|    19|  21|      15|          15|           15|     0|  55|          0|           0|        55|  18|      1:38.171|203.26499938964844|      11|\n|      38|    19|      11|            8|    18|  19|      16|          16|           16|     0|  54|          0|           0|        53|  19|      1:38.504| 202.5780029296875|      12|\n|      39|    19|       6|            3|     8|  22|      17|          17|           17|     0|  54|          0|           0|        19|  17|      1:37.711| 204.2220001220703|      12|\n|      40|    19|      20|            5|    15|  15|      18|          18|           18|     0|  39|          0|           0|        37|  14|      1:36.870| 205.9949951171875|       5|\n|      41|    19|      13|            6|     2|   1|      19|          19|           19|     0|  30|          0|           0|        15|   5|      1:35.914|208.04800415039062|      20|\n|      42|    19|      16|           10|    20|  20|      20|          20|           20|     0|   5|          0|           0|         3|  20|      1:40.330|198.89100646972656|       9|\n|      43|    19|      10|            7|    12|  10|      21|          21|           21|     0|   1|          0|           0|         0|   0|             0|               0.0|       4|\n|      44|    19|       7|            5|    14|  18|      22|          22|           22|     0|   0|          0|           0|         0|   0|             0|               0.0|      20|\n|      45|    20|      13|            6|     2|   2|       1|           1|            1|    10|  57|1:31:06.970|     5466970|        38|   3|      1:33.600| 208.1529998779297|       1|\n|      46|    20|       8|            6|     1|   4|       2|           2|            2|     8|  57|     +3.339|     5470309|        35|   4|      1:33.709|207.91099548339844|       1|\n|      47|    20|       9|            2|     4|   1|       3|           3|            3|     6|  57|     +4.998|     5471968|        55|   5|      1:33.775|207.76499938964844|       1|\n|      48|    20|       2|            2|     3|   6|       4|           4|            4|     5|  57|     +8.409|     5475379|        48|   2|      1:33.565| 208.2310028076172|       1|\n|      49|    20|       5|            1|    23|   5|       5|           5|            5|     4|  57|    +26.789|     5493759|        49|   1|      1:33.193|209.06199645996094|       1|\n|      50|    20|      15|            7|    11|   7|       6|           6|            6|     3|  57|    +41.314|     5508284|        45|   7|      1:34.204|206.81900024414062|       1|\n|      51|    20|      17|            9|    10|  11|       7|           7|            7|     2|  57|    +45.473|     5512443|        51|   8|      1:34.305| 206.5970001220703|       1|\n|      52|    20|       3|            3|     7|   8|       8|           8|            8|     1|  57|    +55.889|     5522859|        57|   6|      1:34.072|207.10899353027344|       1|\n|      53|    20|      10|            7|    12|  13|       9|           9|            9|     0|  57|  +1:09.500|     5536470|        56|   9|      1:34.807| 205.5030059814453|       1|\n|      54|    20|       4|            4|     5|  10|      10|          10|           10|     0|  57|  +1:17.181|     5544151|        35|  13|      1:35.194|204.66799926757812|       1|\n|      55|    20|      22|           11|    17|  12|      11|          11|           11|     0|  57|  +1:17.862|     5544832|        40|  10|      1:34.855| 205.3990020751953|       1|\n|      56|    20|      21|           10|    21|  18|      12|          12|           12|     0|  56|          0|           0|        56|  11|      1:35.057|204.96299743652344|      11|\n|      57|    20|       1|            1|    22|   3|      13|          13|           13|     0|  56|          0|           0|        25|  19|      1:35.520|  203.968994140625|      11|\n|      58|    20|       6|            3|     8|  16|      14|          14|           14|     0|  56|          0|           0|        30|  17|      1:35.433|204.15499877929688|      11|\n|      59|    20|       7|            5|    14|  15|      15|          15|           15|     0|  56|          0|           0|        33|  15|      1:35.333|204.36900329589844|      11|\n|      60|    20|      19|            8|    19|  21|      16|          16|           16|     0|  56|          0|           0|        45|  14|      1:35.324|204.38900756835938|      11|\n|      61|    20|      11|            8|    18|  22|      17|          17|           17|     0|  56|          0|           0|        56|  20|      1:35.891|203.17999267578125|      11|\n|      62|    20|      14|            9|     9|  17|      18|          18|           18|     0|  56|          0|           0|        43|  16|      1:35.351|204.33099365234375|      11|\n|      63|    20|      16|           10|    20|  20|      19|          19|           19|     0|  56|          0|           0|        55|  18|      1:35.442|204.13600158691406|      12|\n|      64|    20|      12|            4|     6|  14|      20|          20|           20|     0|  40|          0|           0|        31|  12|      1:35.129|204.80799865722656|       6|\n|      65|    20|      18|           11|    16|   9|      21|          21|           21|     0|  19|          0|           0|        11|  21|      1:36.125|202.68600463867188|       4|\n|      66|    20|      20|            5|    15|  19|      22|          22|           22|     0|   0|          0|           0|         0|   0|             0|               0.0|       5|\n|      67|    21|       8|            6|     1|   1|       1|           1|            1|    10|  66|1:38:19.051|     5899051|        46|   1|      1:21.670| 205.1909942626953|       1|\n|      68|    21|      13|            6|     2|   3|       2|           2|            2|     8|  66|     +3.228|     5902279|        45|   2|      1:21.801|204.86300659179688|       1|\n|      69|    21|       1|            1|    22|   5|       3|           3|            3|     6|  66|     +4.187|     5903238|        20|   3|      1:22.017|  204.322998046875|       1|\n|      70|    21|       9|            2|     4|   4|       4|           4|            4|     5|  66|     +5.694|     5904745|        20|   4|      1:22.106| 204.1020050048828|       1|\n|      71|    21|      17|            9|    10|   7|       5|           5|            5|     4|  66|    +35.938|     5934989|        19|   8|      1:22.564|  202.968994140625|       1|\n|      72|    21|      18|           11|    16|  13|       6|           6|            6|     3|  66|    +53.010|     5952061|        66|   5|      1:22.353|203.48899841308594|       1|\n|      73|    21|       6|            3|     8|  12|       7|           7|            7|     2|  66|    +58.244|     5957295|        48|  15|      1:23.549| 200.5760040283203|       1|\n|      74|    21|      15|            7|    11|   8|       8|           8|            8|     1|  66|    +59.435|     5958486|        45|  10|      1:22.758|202.49400329589844|       1|\n|      75|    21|       2|            2|     3|   9|       9|           9|            9|     0|  66|  +1:03.073|     5962124|        21|   7|      1:22.519| 203.0800018310547|       1|\n|      76|    21|      21|           10|    21|  19|      10|          10|           10|     0|  65|          0|           0|        40|  14|      1:23.439|200.84100341796875|      11|\n|      77|    21|      10|            7|    12|  14|      11|          11|           11|     0|  65|          0|           0|        57|  12|      1:23.007|201.88600158691406|      11|\n|      78|    21|      14|            9|     9|  17|      12|          12|           12|     0|  65|          0|           0|        57|  11|      1:22.842|202.28799438476562|      11|\n|      79|    21|      11|            8|    18|  22|      13|          13|           13|     0|  65|          0|           0|        34|  17|      1:24.617| 198.0449981689453|      11|\n|      80|    21|       3|            3|     7|  15|      14|          14|           14|     0|  41|          0|           0|        20|  13|      1:23.319| 201.1300048828125|       5|\n|      81|    21|       4|            4|     5|   2|      15|          15|           15|     0|  34|          0|           0|        15|   9|      1:22.683|  202.677001953125|       5|\n|      82|    21|      22|           11|    17|  11|      16|          16|           16|     0|  34|          0|           0|        21|  16|      1:23.858|199.83700561523438|       4|\n|      83|    21|       5|            1|    23|   6|      17|          17|           17|     0|  21|          0|           0|        19|   6|      1:22.453| 203.2429962158203|       3|\n|      84|    21|      19|            8|    19|  21|      18|          18|           18|     0|   8|          0|           0|         6|  20|      1:26.864| 192.9219970703125|      21|\n|      85|    21|       7|            5|    14|  16|      19|          19|           19|     0|   7|          0|           0|         6|  19|      1:25.999|194.86199951171875|       4|\n|      86|    21|      12|            4|     6|  10|      20|          20|           20|     0|   6|          0|           0|         6|  18|      1:25.444| 196.1280059814453|       4|\n|      87|    21|      16|           10|    20|  20|      21|          21|           21|     0|   0|          0|           0|         0|   0|             0|               0.0|       4|\n|      88|    21|      20|            5|    15|  18|      22|          22|           22|     0|   0|          0|           0|         0|   0|             0|               0.0|       4|\n|      89|    22|      13|            6|     2|   1|       1|           1|            1|    10|  58|1:26:49.451|     5209451|        16|   3|      1:26.666|221.73399353027344|       1|\n|      90|    22|       1|            1|    22|   3|       2|           2|            2|     8|  58|     +3.779|     5213230|        31|   2|      1:26.529| 222.0850067138672|       1|\n|      91|    22|       8|            6|     1|   4|       3|           3|            3|     6|  58|     +4.271|     5213722|        20|   1|      1:26.506| 222.1439971923828|       1|\n|      92|    22|       9|            2|     4|   5|       4|           4|            4|     5|  58|    +21.945|     5231396|        17|   4|      1:26.780|221.44200134277344|       1|\n|      93|    22|       2|            2|     3|   9|       5|           5|            5|     4|  58|    +38.741|     5248192|        20|   5|      1:27.219| 220.3280029296875|       1|\n|      94|    22|       4|            4|     5|   7|       6|           6|            6|     3|  58|    +53.724|     5263175|        57|   6|      1:27.280| 220.1739959716797|       1|\n|      95|    22|      17|            9|    10|   6|       7|           7|            7|     2|  58|  +1:04.229|     5273680|        14|   7|      1:27.630|219.29400634765625|       1|\n|      96|    22|       3|            3|     7|  11|       8|           8|            8|     1|  58|  +1:11.406|     5280857|        55|   9|      1:27.795| 218.8820037841797|       1|\n|      97|    22|      14|            9|     9|  10|       9|           9|            9|     0|  58|  +1:15.270|     5284721|        41|  12|      1:27.966|218.45700073242188|       1|\n|      98|    22|      15|            7|    11|   8|      10|          10|           10|     0|  58|  +1:16.344|     5285795|        52|  11|      1:27.926|218.55599975585938|       1|\n|      99|    22|      18|           11|    16|  13|      11|          11|           11|     0|  57|          0|           0|        57|  13|      1:27.998| 218.3769989013672|      11|\n|     100|    22|       5|            1|    23|   2|      12|          12|           12|     0|  57|          0|           0|        55|   8|      1:27.640| 219.2689971923828|      11|\n+--------+------+--------+-------------+------+----+--------+------------+-------------+------+----+-----------+------------+----------+----+--------------+------------------+--------+\nonly showing top 100 rows\n\n"
     ]
    }
   ],
   "source": [
    "results_df.show(100)\n"
   ]
  },
  {
   "cell_type": "markdown",
   "metadata": {
    "application/vnd.databricks.v1+cell": {
     "cellMetadata": {},
     "inputWidgets": {},
     "nuid": "192b23c9-372a-406c-9c13-396d1cab4a22",
     "showTitle": false,
     "title": ""
    }
   },
   "source": [
    "## Transformations for seasons table"
   ]
  },
  {
   "cell_type": "code",
   "execution_count": 0,
   "metadata": {
    "application/vnd.databricks.v1+cell": {
     "cellMetadata": {
      "byteLimit": 2048000,
      "rowLimit": 10000
     },
     "inputWidgets": {},
     "nuid": "a7f95b17-ef1d-40a3-aa7b-11aaee4f1cc5",
     "showTitle": false,
     "title": ""
    }
   },
   "outputs": [],
   "source": [
    "seasons_df = dataframes_dict['seasons'] "
   ]
  },
  {
   "cell_type": "code",
   "execution_count": 0,
   "metadata": {
    "application/vnd.databricks.v1+cell": {
     "cellMetadata": {
      "byteLimit": 2048000,
      "rowLimit": 10000
     },
     "inputWidgets": {},
     "nuid": "23da28c2-a7be-4953-850b-3d762dda0ff2",
     "showTitle": false,
     "title": ""
    }
   },
   "outputs": [
    {
     "output_type": "stream",
     "name": "stdout",
     "output_type": "stream",
     "text": [
      "[]\n"
     ]
    }
   ],
   "source": [
    "null_dataframe_columns = check_null_columns(seasons_df)\n",
    "print(null_dataframe_columns)"
   ]
  },
  {
   "cell_type": "markdown",
   "metadata": {
    "application/vnd.databricks.v1+cell": {
     "cellMetadata": {},
     "inputWidgets": {},
     "nuid": "595864c6-c244-450f-b9f9-c0b040aceeaf",
     "showTitle": false,
     "title": ""
    }
   },
   "source": [
    "## Transformations of sprint_results"
   ]
  },
  {
   "cell_type": "code",
   "execution_count": 0,
   "metadata": {
    "application/vnd.databricks.v1+cell": {
     "cellMetadata": {
      "byteLimit": 2048000,
      "rowLimit": 10000
     },
     "inputWidgets": {},
     "nuid": "aefcd0be-7bee-419a-b836-0105059d4086",
     "showTitle": false,
     "title": ""
    }
   },
   "outputs": [],
   "source": [
    "sprint_results_df = dataframes_dict['sprint_results'] "
   ]
  },
  {
   "cell_type": "code",
   "execution_count": 0,
   "metadata": {
    "application/vnd.databricks.v1+cell": {
     "cellMetadata": {
      "byteLimit": 2048000,
      "rowLimit": 10000
     },
     "inputWidgets": {},
     "nuid": "1269aaec-af4d-4231-b34b-f7a7a7f1eb03",
     "showTitle": false,
     "title": ""
    }
   },
   "outputs": [
    {
     "output_type": "stream",
     "name": "stdout",
     "output_type": "stream",
     "text": [
      "['position', 'positionText', 'time', 'milliseconds', 'fastestLap', 'fastestLapTime']\n"
     ]
    }
   ],
   "source": [
    "null_dataframe_columns = check_null_columns(sprint_results_df)\n",
    "print(null_dataframe_columns)"
   ]
  },
  {
   "cell_type": "code",
   "execution_count": 0,
   "metadata": {
    "application/vnd.databricks.v1+cell": {
     "cellMetadata": {
      "byteLimit": 2048000,
      "rowLimit": 10000
     },
     "inputWidgets": {},
     "nuid": "a7d97bea-843a-4da9-ad7c-735c26622099",
     "showTitle": false,
     "title": ""
    }
   },
   "outputs": [],
   "source": [
    "sprint_results_df = sprint_results_df.withColumn(\"position\", when(col(\"position\").isNull(), col(\"positionOrder\")).otherwise(col(\"position\")))\n",
    "sprint_results_df = sprint_results_df.withColumn(\"positionText\", when(col(\"positionText\").isNull(), col(\"positionOrder\")).otherwise(col(\"positionText\")))"
   ]
  },
  {
   "cell_type": "code",
   "execution_count": 0,
   "metadata": {
    "application/vnd.databricks.v1+cell": {
     "cellMetadata": {
      "byteLimit": 2048000,
      "rowLimit": 10000
     },
     "inputWidgets": {},
     "nuid": "2f14b527-708d-4751-8ca0-3bc6de58f4ae",
     "showTitle": false,
     "title": ""
    }
   },
   "outputs": [
    {
     "output_type": "stream",
     "name": "stdout",
     "output_type": "stream",
     "text": [
      "+--------+------+--------+-------------+------+----+--------+------------+-------------+------+----+---------+------------+----------+--------------+--------+\n|resultId|raceId|driverId|constructorId|number|grid|position|positionText|positionOrder|points|laps|     time|milliseconds|fastestLap|fastestLapTime|statusId|\n+--------+------+--------+-------------+------+----+--------+------------+-------------+------+----+---------+------------+----------+--------------+--------+\n|       1|  1061|     830|            9|    33|   2|       1|           1|            1|     3|  17|25:38.426|     1538426|        14|      1:30.013|       1|\n|       2|  1061|       1|          131|    44|   1|       2|           2|            2|     2|  17|   +1.430|     1539856|        17|      1:29.937|       1|\n|       3|  1061|     822|          131|    77|   3|       3|           3|            3|     1|  17|   +7.502|     1545928|        17|      1:29.958|       1|\n|       4|  1061|     844|            6|    16|   4|       4|           4|            4|     0|  17|  +11.278|     1549704|        16|      1:30.163|       1|\n|       5|  1061|     846|            1|     4|   6|       5|           5|            5|     0|  17|  +24.111|     1562537|        16|      1:30.566|       1|\n|       6|  1061|     817|            1|     3|   7|       6|           6|            6|     0|  17|  +30.959|     1569385|        17|      1:30.640|       1|\n|       7|  1061|       4|          214|    14|  11|       7|           7|            7|     0|  17|  +43.527|     1581953|        17|      1:31.773|       1|\n|       8|  1061|      20|          117|     5|  10|       8|           8|            8|     0|  17|  +44.439|     1582865|        17|      1:31.687|       1|\n|       9|  1061|     847|            3|    63|   8|       9|           9|            9|     0|  17|  +46.652|     1585078|        17|      1:32.208|       1|\n|      10|  1061|     839|          214|    31|  13|      10|          10|           10|     0|  17|  +47.395|     1585821|        16|      1:32.183|       1|\n|      11|  1061|     832|            6|    55|   9|      11|          11|           11|     0|  17|  +47.798|     1586224|        10|      1:31.991|       1|\n|      12|  1061|     842|          213|    10|  12|      12|          12|           12|     0|  17|  +48.763|     1587189|        17|      1:32.072|       1|\n|      13|  1061|       8|           51|     7|  17|      13|          13|           13|     0|  17|  +50.677|     1589103|        12|      1:32.139|       1|\n|      14|  1061|     840|          117|    18|  15|      14|          14|           14|     0|  17|  +52.179|     1590605|        12|      1:32.210|       1|\n|      15|  1061|     841|           51|    99|  14|      15|          15|           15|     0|  17|  +53.225|     1591651|        14|      1:32.457|       1|\n|      16|  1061|     852|          213|    22|  16|      16|          16|           16|     0|  17|  +53.567|     1591993|        14|      1:32.270|       1|\n|      17|  1061|     849|            3|     6|  18|      17|          17|           17|     0|  17|  +55.162|     1593588|        17|      1:32.143|       1|\n|      18|  1061|     854|          210|    47|  19|      18|          18|           18|     0|  17|+1:08.213|     1606639|        15|      1:32.567|       1|\n|      19|  1061|     853|          210|     9|  20|      19|          19|           19|     0|  17|+1:17.648|     1616074|         3|      1:33.462|       1|\n|      20|  1061|     815|            9|    11|   5|      20|          20|           20|     0|  16|       \\N|        NULL|         6|      1:31.465|      76|\n|      21|  1065|     822|          131|    77|   1|       1|           1|            1|     3|  18|27:54.078|     1674078|         9|      1:23.540|       1|\n|      22|  1065|     830|            9|    33|   3|       2|           2|            2|     2|  18|   +2.325|     1676403|         9|      1:23.502|       1|\n|      23|  1065|     817|            1|     3|   5|       3|           3|            3|     1|  18|  +14.534|     1688612|        17|      1:24.291|       1|\n|      24|  1065|     846|            1|     4|   4|       4|           4|            4|     0|  18|  +18.835|     1692913|         9|      1:24.554|       1|\n|      25|  1065|       1|          131|    44|   2|       5|           5|            5|     0|  18|  +20.011|     1694089|         9|      1:24.253|       1|\n|      26|  1065|     844|            6|    16|   8|       6|           6|            6|     0|  18|  +23.442|     1697520|        18|      1:24.677|       1|\n|      27|  1065|     832|            6|    55|   7|       7|           7|            7|     0|  18|  +27.952|     1702030|         8|      1:24.918|       1|\n|      28|  1065|     841|           51|    99|  10|       8|           8|            8|     0|  18|  +31.089|     1705167|        10|      1:25.126|       1|\n|      29|  1065|     815|            9|    11|   9|       9|           9|            9|     0|  18|  +31.680|     1705758|        12|      1:24.211|       1|\n|      30|  1065|     840|          117|    18|  12|      10|          10|           10|     0|  18|  +38.671|     1712749|         8|      1:25.349|       1|\n|      31|  1065|       4|          214|    14|  13|      11|          11|           11|     0|  18|  +39.795|     1713873|         8|      1:25.225|       1|\n|      32|  1065|      20|          117|     5|  11|      12|          12|           12|     0|  18|  +41.177|     1715255|         8|      1:25.493|       1|\n|      33|  1065|     839|          214|    31|  14|      13|          13|           13|     0|  18|  +43.373|     1717451|         8|      1:25.613|       1|\n|      34|  1065|     849|            3|     6|  16|      14|          14|           14|     0|  18|  +45.977|     1720055|         9|      1:25.711|       1|\n|      35|  1065|     847|            3|    63|  15|      15|          15|           15|     0|  18|  +46.821|     1720899|        15|      1:25.835|       1|\n|      36|  1065|     852|          213|    22|  17|      16|          16|           16|     0|  18|  +49.977|     1724055|        18|      1:25.847|       1|\n|      37|  1065|     853|          210|     9|  20|      17|          17|           17|     0|  18|+1:02.599|     1736677|         7|      1:26.613|       1|\n|      38|  1065|       9|           51|    88|  19|      18|          18|           18|     0|  18|+1:05.096|     1739174|        12|      1:26.772|       1|\n|      39|  1065|     854|          210|    47|  18|      19|          19|           19|     0|  18|+1:06.154|     1740232|         7|      1:26.819|       1|\n|      40|  1065|     842|          213|    10|   6|      20|          20|           20|     0|   0|       \\N|        NULL|      NULL|            \\N|       3|\n|      41|  1071|     822|          131|    77|   2|       1|           1|            1|     3|  24|29:09.559|     1749559|         8|      1:12.300|       1|\n|      42|  1071|     830|            9|    33|   1|       2|           2|            2|     2|  24|   +1.170|     1750729|         9|      1:12.114|       1|\n|      43|  1071|     832|            6|    55|   5|       3|           3|            3|     1|  24|  +18.723|     1768282|        13|      1:13.167|       1|\n|      44|  1071|     815|            9|    11|   3|       4|           4|            4|     0|  24|  +19.787|     1769346|        13|      1:13.110|       1|\n|      45|  1071|       1|          131|    44|  20|       5|           5|            5|     0|  24|  +20.872|     1770431|         5|      1:12.357|       1|\n|      46|  1071|     846|            1|     4|   7|       6|           6|            6|     0|  24|  +22.558|     1772117|         8|      1:12.994|       1|\n|      47|  1071|     844|            6|    16|   6|       7|           7|            7|     0|  24|  +25.056|     1774615|         4|      1:13.140|       1|\n|      48|  1071|     842|          213|    10|   4|       8|           8|            8|     0|  24|  +34.158|     1783717|         4|      1:13.342|       1|\n|      49|  1071|     839|          214|    31|  10|       9|           9|            9|     0|  24|  +34.632|     1784191|        11|      1:13.615|       1|\n|      50|  1071|      20|          117|     5|  11|      10|          10|           10|     0|  24|  +34.867|     1784426|         5|      1:13.558|       1|\n|      51|  1071|     817|            1|     3|   8|      11|          11|           11|     0|  24|  +35.869|     1785428|         9|      1:13.463|       1|\n|      52|  1071|       4|          214|    14|   9|      12|          12|           12|     0|  24|  +36.578|     1786137|         4|      1:13.397|       1|\n|      53|  1071|     841|           51|    99|  14|      13|          13|           13|     0|  24|  +41.880|     1791439|        11|      1:13.627|       1|\n|      54|  1071|     840|          117|    18|  15|      14|          14|           14|     0|  24|  +44.037|     1793596|         9|      1:13.666|       1|\n|      55|  1071|     852|          213|    22|  12|      15|          15|           15|     0|  24|  +46.150|     1795709|        11|      1:13.747|       1|\n|      56|  1071|     849|            3|     6|  16|      16|          16|           16|     0|  24|  +46.760|     1796319|         7|      1:13.934|       1|\n|      57|  1071|     847|            3|    63|  17|      17|          17|           17|     0|  24|  +47.739|     1797298|        14|      1:14.056|       1|\n|      58|  1071|       8|           51|     7|  13|      18|          18|           18|     0|  24|  +50.014|     1799573|         9|      1:13.900|       1|\n|      59|  1071|     854|          210|    47|  18|      19|          19|           19|     0|  24|+1:01.680|     1811239|         9|      1:14.387|       1|\n|      60|  1071|     853|          210|     9|  19|      20|          20|           20|     0|  24|+1:07.474|     1817033|         6|      1:14.583|       1|\n|      61|  1077|     830|            9|     1|   1|       1|           1|            1|     8|  21|30:39.567|     1839567|        14|      1:19.154|       1|\n|      62|  1077|     844|            6|    16|   2|       2|           2|            2|     7|  21|   +2.975|     1842542|        11|      1:19.044|       1|\n|      63|  1077|     815|            9|    11|   7|       3|           3|            3|     6|  21|   +4.721|     1844288|        14|      1:19.012|       1|\n|      64|  1077|     832|            6|    55|  10|       4|           4|            4|     5|  21|  +17.578|     1857145|        14|      1:19.251|       1|\n|      65|  1077|     846|            1|     4|   3|       5|           5|            5|     4|  21|  +24.561|     1864128|         9|      1:20.030|       1|\n|      66|  1077|     817|            1|     3|   6|       6|           6|            6|     3|  21|  +27.740|     1867307|        12|      1:20.328|       1|\n|      67|  1077|     822|           51|    77|   8|       7|           7|            7|     2|  21|  +28.133|     1867700|         9|      1:20.219|       1|\n|      68|  1077|     825|          210|    20|   4|       8|           8|            8|     1|  21|  +30.712|     1870279|         6|      1:20.557|       1|\n|      69|  1077|       4|          214|    14|   5|       9|           9|            9|     0|  21|  +32.278|     1871845|        10|      1:20.639|       1|\n|      70|  1077|     854|          210|    47|  12|      10|          10|           10|     0|  21|  +33.773|     1873340|        15|      1:20.567|       1|\n|      71|  1077|     847|          131|    63|  11|      11|          11|           11|     0|  21|  +36.284|     1875851|        19|      1:20.756|       1|\n|      72|  1077|     852|          213|    22|  16|      12|          12|           12|     0|  21|  +38.298|     1877865|        20|      1:20.909|       1|\n|      73|  1077|      20|          117|     5|   9|      13|          13|           13|     0|  21|  +40.177|     1879744|         8|      1:21.044|       1|\n|      74|  1077|       1|          131|    44|  13|      14|          14|           14|     0|  21|  +41.459|     1881026|         9|      1:20.663|       1|\n|      75|  1077|     840|          117|    18|  15|      15|          15|           15|     0|  21|  +42.910|     1882477|        14|      1:20.948|       1|\n|      76|  1077|     839|          214|    31|  19|      16|          16|           16|     0|  21|  +43.517|     1883084|        14|      1:20.995|       1|\n|      77|  1077|     842|          213|    10|  17|      17|          17|           17|     0|  21|  +43.794|     1883361|        18|      1:20.599|       1|\n|      78|  1077|     848|            3|    23|  20|      18|          18|           18|     0|  21|  +48.871|     1888438|        14|      1:21.020|       1|\n|      79|  1077|     849|            3|     6|  18|      19|          19|           19|     0|  21|  +52.017|     1891584|        16|      1:21.437|       1|\n|      80|  1077|     855|           51|    24|   0|      20|          20|           20|     0|   0|       \\N|        NULL|      NULL|            \\N|      31|\n|      81|  1084|     830|            9|     1|   1|       1|           1|            1|     8|  23|26:30.059|     1590059|         5|      1:08.455|       1|\n|      82|  1084|     844|            6|    16|   2|       2|           2|            2|     7|  23|   +1.675|     1591734|         4|      1:08.321|       1|\n|      83|  1084|     832|            6|    55|   3|       3|           3|            3|     6|  23|   +5.644|     1595703|         4|      1:08.409|       1|\n|      84|  1084|     847|          131|    63|   4|       4|           4|            4|     5|  23|  +13.429|     1603488|         4|      1:08.979|       1|\n|      85|  1084|     815|            9|    11|  13|       5|           5|            5|     4|  23|  +18.302|     1608361|        14|      1:09.137|       1|\n|      86|  1084|     839|          214|    31|   5|       6|           6|            6|     3|  23|  +31.032|     1621091|         4|      1:09.384|       1|\n|      87|  1084|     825|          210|    20|   6|       7|           7|            7|     2|  23|  +34.539|     1624598|         4|      1:09.232|       1|\n|      88|  1084|       1|          131|    44|   9|       8|           8|            8|     1|  23|  +35.447|     1625506|         7|      1:09.516|       1|\n|      89|  1084|     854|          210|    47|   7|       9|           9|            9|     0|  23|  +37.163|     1627222|         4|      1:09.457|       1|\n|      90|  1084|     822|           51|    77|  12|      10|          10|           10|     0|  23|  +37.557|     1627616|         4|      1:09.674|       1|\n|      91|  1084|     846|            1|     4|  15|      11|          11|           11|     0|  23|  +38.580|     1628639|         8|      1:09.909|       1|\n|      92|  1084|     817|            1|     3|  16|      12|          12|           12|     0|  23|  +39.738|     1629797|         8|      1:09.996|       1|\n|      93|  1084|     840|          117|    18|  17|      13|          13|           13|     0|  23|  +48.241|     1638300|         4|      1:10.295|       1|\n|      94|  1084|     855|           51|    24|  18|      14|          14|           14|     0|  23|  +50.753|     1640812|        11|      1:10.165|       1|\n|      95|  1084|     842|          213|    10|  10|      15|          15|           15|     0|  23|  +52.125|     1642184|         4|      1:10.409|       1|\n|      96|  1084|     848|            3|    23|  11|      16|          16|           16|     0|  23|  +52.412|     1642471|         5|      1:10.367|       1|\n|      97|  1084|     852|          213|    22|  14|      17|          17|           17|     0|  23|  +54.556|     1644615|         4|      1:10.267|       1|\n|      98|  1084|     849|            3|     6|  19|      18|          18|           18|     0|  23|+1:08.694|     1658753|         4|      1:10.284|       1|\n|      99|  1084|      20|          117|     5|  20|      19|          19|           19|     0|  21|       \\N|        NULL|         4|      1:10.317|     130|\n|     100|  1084|       4|          214|    14|   8|      20|          20|           20|     0|   0|       \\N|        NULL|      NULL|            \\N|      10|\n+--------+------+--------+-------------+------+----+--------+------------+-------------+------+----+---------+------------+----------+--------------+--------+\nonly showing top 100 rows\n\n"
     ]
    }
   ],
   "source": [
    "sprint_results_df.show(100)"
   ]
  },
  {
   "cell_type": "code",
   "execution_count": 0,
   "metadata": {
    "application/vnd.databricks.v1+cell": {
     "cellMetadata": {
      "byteLimit": 2048000,
      "rowLimit": 10000
     },
     "inputWidgets": {},
     "nuid": "8acc37b7-5218-4174-a7c5-b85f5477d3a1",
     "showTitle": false,
     "title": ""
    }
   },
   "outputs": [
    {
     "output_type": "stream",
     "name": "stdout",
     "output_type": "stream",
     "text": [
      "+--------+------+--------+-------------+------+----+--------+------------+-------------+------+----+---------+------------+----------+--------------+--------+\n|resultId|raceId|driverId|constructorId|number|grid|position|positionText|positionOrder|points|laps|     time|milliseconds|fastestLap|fastestLapTime|statusId|\n+--------+------+--------+-------------+------+----+--------+------------+-------------+------+----+---------+------------+----------+--------------+--------+\n|       1|  1061|     830|            9|    33|   2|       1|           1|            1|     3|  17|25:38.426|     1538426|        14|      1:30.013|       1|\n|       2|  1061|       1|          131|    44|   1|       2|           2|            2|     2|  17|   +1.430|     1539856|        17|      1:29.937|       1|\n|       3|  1061|     822|          131|    77|   3|       3|           3|            3|     1|  17|   +7.502|     1545928|        17|      1:29.958|       1|\n|       4|  1061|     844|            6|    16|   4|       4|           4|            4|     0|  17|  +11.278|     1549704|        16|      1:30.163|       1|\n|       5|  1061|     846|            1|     4|   6|       5|           5|            5|     0|  17|  +24.111|     1562537|        16|      1:30.566|       1|\n|       6|  1061|     817|            1|     3|   7|       6|           6|            6|     0|  17|  +30.959|     1569385|        17|      1:30.640|       1|\n|       7|  1061|       4|          214|    14|  11|       7|           7|            7|     0|  17|  +43.527|     1581953|        17|      1:31.773|       1|\n|       8|  1061|      20|          117|     5|  10|       8|           8|            8|     0|  17|  +44.439|     1582865|        17|      1:31.687|       1|\n|       9|  1061|     847|            3|    63|   8|       9|           9|            9|     0|  17|  +46.652|     1585078|        17|      1:32.208|       1|\n|      10|  1061|     839|          214|    31|  13|      10|          10|           10|     0|  17|  +47.395|     1585821|        16|      1:32.183|       1|\n|      11|  1061|     832|            6|    55|   9|      11|          11|           11|     0|  17|  +47.798|     1586224|        10|      1:31.991|       1|\n|      12|  1061|     842|          213|    10|  12|      12|          12|           12|     0|  17|  +48.763|     1587189|        17|      1:32.072|       1|\n|      13|  1061|       8|           51|     7|  17|      13|          13|           13|     0|  17|  +50.677|     1589103|        12|      1:32.139|       1|\n|      14|  1061|     840|          117|    18|  15|      14|          14|           14|     0|  17|  +52.179|     1590605|        12|      1:32.210|       1|\n|      15|  1061|     841|           51|    99|  14|      15|          15|           15|     0|  17|  +53.225|     1591651|        14|      1:32.457|       1|\n|      16|  1061|     852|          213|    22|  16|      16|          16|           16|     0|  17|  +53.567|     1591993|        14|      1:32.270|       1|\n|      17|  1061|     849|            3|     6|  18|      17|          17|           17|     0|  17|  +55.162|     1593588|        17|      1:32.143|       1|\n|      18|  1061|     854|          210|    47|  19|      18|          18|           18|     0|  17|+1:08.213|     1606639|        15|      1:32.567|       1|\n|      19|  1061|     853|          210|     9|  20|      19|          19|           19|     0|  17|+1:17.648|     1616074|         3|      1:33.462|       1|\n|      20|  1061|     815|            9|    11|   5|      20|          20|           20|     0|  16|        0|           0|         6|      1:31.465|      76|\n+--------+------+--------+-------------+------+----+--------+------------+-------------+------+----+---------+------------+----------+--------------+--------+\nonly showing top 20 rows\n\n"
     ]
    }
   ],
   "source": [
    "from pyspark.sql.functions import col, when, lit\n",
    "\n",
    "# Assuming 'df' is your DataFrame\n",
    "sprint_results_df = sprint_results_df.withColumn(\"time\", when(col(\"time\") == \"\\\\N\", lit(0)).otherwise(col(\"time\")))\n",
    "sprint_results_df = sprint_results_df.withColumn(\"milliseconds\", when(col(\"milliseconds\").isNull(), lit(0)).otherwise(col(\"milliseconds\")))\n",
    "sprint_results_df = sprint_results_df.withColumn(\"fastestLap\", when(col(\"fastestLap\").isNull(), lit(0)).otherwise(col(\"fastestLap\")))\n",
    "sprint_results_df = sprint_results_df.withColumn(\"fastestLapTime\", when(col(\"fastestLapTime\")== \"\\\\N\", lit(0)).otherwise(col(\"fastestLapTime\")))\n",
    "# results_df = results_df.withColumn(\"fastestLapSpeed\", when(col(\"fastestLapSpeed\").isNull(), lit(0)).otherwise(col(\"fastestLapSpeed\")))\n",
    "\n",
    "\n",
    "\n",
    "\n",
    "\n",
    "\n",
    "# Show some results to verify\n",
    "sprint_results_df.show()\n"
   ]
  },
  {
   "cell_type": "markdown",
   "metadata": {
    "application/vnd.databricks.v1+cell": {
     "cellMetadata": {},
     "inputWidgets": {},
     "nuid": "7a556fca-a153-4fc1-96cc-ce9285859fc9",
     "showTitle": false,
     "title": ""
    }
   },
   "source": [
    "## Transformations for status table"
   ]
  },
  {
   "cell_type": "code",
   "execution_count": 0,
   "metadata": {
    "application/vnd.databricks.v1+cell": {
     "cellMetadata": {
      "byteLimit": 2048000,
      "rowLimit": 10000
     },
     "inputWidgets": {},
     "nuid": "2bd34103-f06b-4b36-b1b3-54f921501de0",
     "showTitle": false,
     "title": ""
    }
   },
   "outputs": [],
   "source": [
    "status_df =  dataframes_dict['status'] "
   ]
  },
  {
   "cell_type": "code",
   "execution_count": 0,
   "metadata": {
    "application/vnd.databricks.v1+cell": {
     "cellMetadata": {
      "byteLimit": 2048000,
      "rowLimit": 10000
     },
     "inputWidgets": {},
     "nuid": "a9be7ae1-1949-4974-a311-15f13a7ba11a",
     "showTitle": false,
     "title": ""
    }
   },
   "outputs": [
    {
     "output_type": "stream",
     "name": "stdout",
     "output_type": "stream",
     "text": [
      "[]\n"
     ]
    }
   ],
   "source": [
    "null_dataframe_columns = check_null_columns(status_df)\n",
    "print(null_dataframe_columns)"
   ]
  },
  {
   "cell_type": "code",
   "execution_count": 0,
   "metadata": {
    "application/vnd.databricks.v1+cell": {
     "cellMetadata": {
      "byteLimit": 2048000,
      "rowLimit": 10000
     },
     "inputWidgets": {},
     "nuid": "c31cf40b-b2a3-40f6-beea-ff000ada98f1",
     "showTitle": false,
     "title": ""
    }
   },
   "outputs": [],
   "source": [
    "# Example dictionary of DataFrames\n",
    "dataframes_dict = {\n",
    "    'circuits': circuits_df,\n",
    "    'constructor_results': constructor_results_df,\n",
    "    'constructor_standings': constructor_standings_df,\n",
    "    'constructors': constructors_df,\n",
    "    'driver_standings': driver_standings_df,\n",
    "    'drivers': drivers_df,\n",
    "    'laptimes': lap_times_df,\n",
    "    'pitstops': pit_stops_df,\n",
    "    'qualifying': qualifying_df,\n",
    "    'races': races_df,\n",
    "    'results': results_df,\n",
    "    'seasons': seasons_df,\n",
    "    'sprint_results': sprint_results_df,\n",
    "    'status': status_df\n",
    "}\n"
   ]
  },
  {
   "cell_type": "markdown",
   "metadata": {
    "application/vnd.databricks.v1+cell": {
     "cellMetadata": {},
     "inputWidgets": {},
     "nuid": "a90ff86c-cdf8-4c47-ab81-44bd8738aac9",
     "showTitle": false,
     "title": ""
    }
   },
   "source": [
    "## Writing Transformed data in the Silver Container"
   ]
  },
  {
   "cell_type": "code",
   "execution_count": 0,
   "metadata": {
    "application/vnd.databricks.v1+cell": {
     "cellMetadata": {
      "byteLimit": 2048000,
      "rowLimit": 10000
     },
     "inputWidgets": {},
     "nuid": "f621e799-ffbe-49c8-b19a-14852e77f1a6",
     "showTitle": false,
     "title": ""
    }
   },
   "outputs": [
    {
     "output_type": "execute_result",
     "data": {
      "text/plain": [
       "True"
      ]
     },
     "execution_count": 79,
     "metadata": {},
     "output_type": "execute_result"
    }
   ],
   "source": [
    "\n",
    "new_directory ='mnt/silver/dbo'\n",
    "dbutils.fs.mkdirs(new_directory)\n"
   ]
  },
  {
   "cell_type": "code",
   "execution_count": 0,
   "metadata": {
    "application/vnd.databricks.v1+cell": {
     "cellMetadata": {
      "byteLimit": 2048000,
      "rowLimit": 10000
     },
     "inputWidgets": {},
     "nuid": "69d3696d-24c3-49ef-a067-8ea7f4ba5695",
     "showTitle": false,
     "title": ""
    }
   },
   "outputs": [],
   "source": [
    "silver_path = dbutils.fs.ls('mnt/silver')"
   ]
  },
  {
   "cell_type": "code",
   "execution_count": 0,
   "metadata": {
    "application/vnd.databricks.v1+cell": {
     "cellMetadata": {
      "byteLimit": 2048000,
      "rowLimit": 10000
     },
     "inputWidgets": {},
     "nuid": "7066cd79-69ff-4d77-947d-ae6ca10f8dbd",
     "showTitle": false,
     "title": ""
    }
   },
   "outputs": [
    {
     "output_type": "stream",
     "name": "stdout",
     "output_type": "stream",
     "text": [
      "[FileInfo(path='dbfs:/mnt/silver/dbo/', name='dbo/', size=0, modificationTime=1724205956000)]\n"
     ]
    }
   ],
   "source": [
    "print(silver_path)"
   ]
  },
  {
   "cell_type": "code",
   "execution_count": 0,
   "metadata": {
    "application/vnd.databricks.v1+cell": {
     "cellMetadata": {
      "byteLimit": 2048000,
      "rowLimit": 10000
     },
     "inputWidgets": {},
     "nuid": "8a6adda4-d039-4dca-9e76-60f2ce2e21bf",
     "showTitle": false,
     "title": ""
    }
   },
   "outputs": [
    {
     "output_type": "stream",
     "name": "stdout",
     "output_type": "stream",
     "text": [
      "Written circuits to /mnt/silver/dbo/circuits/\nWritten constructor_results to /mnt/silver/dbo/constructor_results/\nWritten constructor_standings to /mnt/silver/dbo/constructor_standings/\nWritten constructors to /mnt/silver/dbo/constructors/\nWritten driver_standings to /mnt/silver/dbo/driver_standings/\nWritten drivers to /mnt/silver/dbo/drivers/\nWritten laptimes to /mnt/silver/dbo/laptimes/\nWritten pitstops to /mnt/silver/dbo/pitstops/\nWritten qualifying to /mnt/silver/dbo/qualifying/\nWritten races to /mnt/silver/dbo/races/\nWritten results to /mnt/silver/dbo/results/\nWritten seasons to /mnt/silver/dbo/seasons/\nWritten sprint_results to /mnt/silver/dbo/sprint_results/\nWritten status to /mnt/silver/dbo/status/\n"
     ]
    }
   ],
   "source": [
    "for table_name, df in dataframes_dict.items():\n",
    "    output_path = f'/mnt/silver/dbo/{table_name}/'\n",
    "    df.write.format('delta').mode('overwrite').save(output_path)\n",
    "    print(f\"Written {table_name} to {output_path}\")\n"
   ]
  },
  {
   "cell_type": "code",
   "execution_count": 0,
   "metadata": {
    "application/vnd.databricks.v1+cell": {
     "cellMetadata": {},
     "inputWidgets": {},
     "nuid": "a938bcfa-e44f-46ad-9752-c1ea38420215",
     "showTitle": false,
     "title": ""
    }
   },
   "outputs": [],
   "source": []
  }
 ],
 "metadata": {
  "application/vnd.databricks.v1+notebook": {
   "dashboards": [],
   "environmentMetadata": null,
   "language": "python",
   "notebookMetadata": {
    "pythonIndentUnit": 4
   },
   "notebookName": "Bronze to Silver",
   "widgets": {}
  }
 },
 "nbformat": 4,
 "nbformat_minor": 0
}
